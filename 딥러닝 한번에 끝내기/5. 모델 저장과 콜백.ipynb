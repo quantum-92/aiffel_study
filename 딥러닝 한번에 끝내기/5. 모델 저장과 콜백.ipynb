{
 "cells": [
  {
   "cell_type": "code",
   "execution_count": 1,
   "id": "660b8d9c",
   "metadata": {},
   "outputs": [],
   "source": [
    "import tensorflow as tf\n",
    "from tensorflow import keras\n",
    "from tensorflow.keras import models, layers, utils"
   ]
  },
  {
   "cell_type": "code",
   "execution_count": 2,
   "id": "613404d6",
   "metadata": {},
   "outputs": [
    {
     "name": "stdout",
     "output_type": "stream",
     "text": [
      "Downloading data from https://storage.googleapis.com/tensorflow/tf-keras-datasets/mnist.npz\n",
      "11493376/11490434 [==============================] - 0s 0us/step\n",
      "11501568/11490434 [==============================] - 0s 0us/step\n",
      "전체 학습 데이터: (60000, 28, 28)  레이블: (60000,)\n",
      "학습용 데이터: (42000, 28, 28)  레이블: (42000,)\n",
      "검증용 데이터: (18000, 28, 28)  레이블: (18000,)\n",
      "테스트용 데이터: (10000, 28, 28)  레이블: (10000,)\n"
     ]
    }
   ],
   "source": [
    "from tensorflow.keras.datasets import mnist\n",
    "from sklearn.model_selection import train_test_split\n",
    "\n",
    "(x_train_full, y_train_full), (x_test, y_test) = mnist.load_data(path='mnist.npz')\n",
    "\n",
    "x_train, x_val, y_train, y_val = train_test_split(x_train_full, y_train_full,\n",
    "                                                  test_size=0.3,\n",
    "                                                  random_state=123)\n",
    "\n",
    "print(f\"전체 학습 데이터: {x_train_full.shape}  레이블: {y_train_full.shape}\")\n",
    "print(f\"학습용 데이터: {x_train.shape}  레이블: {y_train.shape}\")\n",
    "print(f\"검증용 데이터: {x_val.shape}  레이블: {y_val.shape}\")\n",
    "print(f\"테스트용 데이터: {x_test.shape}  레이블: {y_test.shape}\")"
   ]
  },
  {
   "cell_type": "code",
   "execution_count": 3,
   "id": "5b77a2ae",
   "metadata": {},
   "outputs": [
    {
     "data": {
      "image/png": "[encoded data removed]",
      "text/plain": [
       "<Figure size 1080x216 with 6 Axes>"
      ]
     },
     "metadata": {},
     "output_type": "display_data"
    }
   ],
   "source": [
    "import numpy as np\n",
    "import matplotlib.pyplot as plt\n",
    "plt.style.use(\"seaborn-white\")\n",
    "\n",
    "num_sample = 6\n",
    "random_idxs = np.random.randint(60000, size=num_sample)\n",
    "\n",
    "plt.figure(figsize=(15, 3))\n",
    "for i, idx in enumerate(random_idxs):\n",
    "  img = x_train_full[idx, :]\n",
    "  label = y_train_full[idx]\n",
    "\n",
    "  plt.subplot(1, len(random_idxs), i+1)\n",
    "  plt.axis('off')\n",
    "  plt.title(f'Index: {idx}, Label: {label}')\n",
    "  plt.imshow(img)"
   ]
  },
  {
   "cell_type": "code",
   "execution_count": 4,
   "id": "dfad53ba",
   "metadata": {},
   "outputs": [
    {
     "name": "stdout",
     "output_type": "stream",
     "text": [
      "4\n"
     ]
    }
   ],
   "source": [
    "print(y_train[0])"
   ]
  },
  {
   "cell_type": "code",
   "execution_count": 5,
   "id": "cf49430a",
   "metadata": {},
   "outputs": [
    {
     "data": {
      "text/plain": [
       "<matplotlib.image.AxesImage at 0x7f1137f38c10>"
      ]
     },
     "execution_count": 5,
     "metadata": {},
     "output_type": "execute_result"
    },
    {
     "data": {
      "image/png": "[encoded data removed]",
      "text/plain": [
       "<Figure size 432x288 with 1 Axes>"
      ]
     },
     "metadata": {},
     "output_type": "display_data"
    }
   ],
   "source": [
    "img = x_train[0, :]\n",
    "plt.axis('off')\n",
    "plt.imshow(img)"
   ]
  },
  {
   "cell_type": "code",
   "execution_count": 6,
   "id": "e8df53b3",
   "metadata": {},
   "outputs": [
    {
     "name": "stdout",
     "output_type": "stream",
     "text": [
      "[[  0   0   0   0   0   0   0   0   0   0   0   0   0   0   0   0   0   0\n",
      "    0   0   0   0   0   0   0   0   0   0]\n",
      " [  0   0   0   0   0   0   0   0   0   0   0   0   0   0   0   0   0   0\n",
      "    0   0   0   0   0   0   0   0   0   0]\n",
      " [  0   0   0   0   0   0   0   0   0   0   0   0   0   0   0   0   0   0\n",
      "    0   0   0   0   0   0   0   0   0   0]\n",
      " [  0   0   0   0   0   0   0   0   0   0   0   0   0   0   0   0   0   0\n",
      "    0   0   0   0   0   0   0   0   0   0]\n",
      " [  0   0   0   0   0   0   0   0   0   0   0   0   0   0   0   0 184 236\n",
      "    0   0   0   0   0   0   0   0   0   0]\n",
      " [  0   0   0   0   0   0   0   0   0   0   0   0   0   0   0  13 235 240\n",
      "   11   0   0   0   0   0   0   0   0   0]\n",
      " [  0   0   0   0   0   0   0   0   0   0   0   0   0   0   0  73 244 144\n",
      "   59   0   0   0   0   0   0   0   0   0]\n",
      " [  0   0   0   0   0   0   0   0   0   0   0   0   0   0   0 104 186   6\n",
      "   32   0   0   0   0   0   0   0   0   0]\n",
      " [  0   0   0   0   0   0   0   0   0  33  21   0   0   0   0 155 155   0\n",
      "    0   0   0   0   0   0   0   0   0   0]\n",
      " [  0   0   0   0   0   0   0   0   0 198  84   0   0   0   6 205 103   0\n",
      "    0   0   0   0   0   0   0   0   0   0]\n",
      " [  0   0   0   0   0   0   0   0  21 245  73   0   0   0  30 254 103   0\n",
      "    0   0   0   0   0   0   0   0   0   0]\n",
      " [  0   0   0   0   0   0   0   0  49 182   7   0   0   0  30 254 103   0\n",
      "    0   0   0   0   0   0   0   0   0   0]\n",
      " [  0   0   0   0   0   0   0   0  98 144   0   0   0   0  30 254  94   0\n",
      "    0   0   0   0   0   0   0   0   0   0]\n",
      " [  0   0   0   0   0   0   0   0  90 144   0   0   0   0  30 254  63   0\n",
      "    0   0   0   0   0   0   0   0   0   0]\n",
      " [  0   0   0   0   0   0   0   0 114 152   0   0   0   0  53 254 103   0\n",
      "    0   0   0   0   0   0   0   0   0   0]\n",
      " [  0   0   0   0   0   0   0   0  58 237  42   0   0   0  78 254  97   0\n",
      "    2  28   0   0   0   0   0   0   0   0]\n",
      " [  0   0   0   0   0   0   0   0  20 239 228 110  30  15 106 254 107  33\n",
      "  157  87   0   0   0   0   0   0   0   0]\n",
      " [  0   0   0   0   0   0   0   0   0 101 243 254 254 239 249 254 254 253\n",
      "  154   0   0   0   0   0   0   0   0   0]\n",
      " [  0   0   0   0   0   0   0   0   0   0  58 168 232 249 254 254 200  85\n",
      "    0   0   0   0   0   0   0   0   0   0]\n",
      " [  0   0   0   0   0   0   0   0   0   0   0   0   0  31 125 254  51   0\n",
      "    0   0   0   0   0   0   0   0   0   0]\n",
      " [  0   0   0   0   0   0   0   0   0   0   0   0   0   0  75 254  39   0\n",
      "    0   0   0   0   0   0   0   0   0   0]\n",
      " [  0   0   0   0   0   0   0   0   0   0   0   0   0   0  30 254  90   0\n",
      "    0   0   0   0   0   0   0   0   0   0]\n",
      " [  0   0   0   0   0   0   0   0   0   0   0   0   0   0  30 254 137   0\n",
      "    0   0   0   0   0   0   0   0   0   0]\n",
      " [  0   0   0   0   0   0   0   0   0   0   0   0   0   0  15 204 238  11\n",
      "    0   0   0   0   0   0   0   0   0   0]\n",
      " [  0   0   0   0   0   0   0   0   0   0   0   0   0   0   0   0   0   0\n",
      "    0   0   0   0   0   0   0   0   0   0]\n",
      " [  0   0   0   0   0   0   0   0   0   0   0   0   0   0   0   0   0   0\n",
      "    0   0   0   0   0   0   0   0   0   0]\n",
      " [  0   0   0   0   0   0   0   0   0   0   0   0   0   0   0   0   0   0\n",
      "    0   0   0   0   0   0   0   0   0   0]\n",
      " [  0   0   0   0   0   0   0   0   0   0   0   0   0   0   0   0   0   0\n",
      "    0   0   0   0   0   0   0   0   0   0]]\n"
     ]
    }
   ],
   "source": [
    "print(x_train[0])"
   ]
  },
  {
   "cell_type": "markdown",
   "id": "8ab525fd",
   "metadata": {},
   "source": [
    "### 데이터 전처리\n",
    "- 0 ~ 1 사이 범위로 스케일링\n",
    "- one-hot encoding\n",
    "    - keras.utils.to_categorical(y_train)"
   ]
  },
  {
   "cell_type": "code",
   "execution_count": 8,
   "id": "a64b5982",
   "metadata": {},
   "outputs": [
    {
     "name": "stdout",
     "output_type": "stream",
     "text": [
      "[0. 0. 0. 0. 1. 0. 0. 0. 0. 0.]\n",
      "[0. 0. 0. 0. 1. 0. 0. 0. 0. 0.]\n",
      "[0. 0. 0. 0. 0. 0. 0. 1. 0. 0.]\n"
     ]
    }
   ],
   "source": [
    "x_train = x_train / 255.\n",
    "x_val = x_val / 255.\n",
    "x_test = x_test / 255.\n",
    "\n",
    "y_train = utils.to_categorical(y_train)\n",
    "y_val = utils.to_categorical(y_val)\n",
    "y_test = utils.to_categorical(y_test)\n",
    "\n",
    "print(y_train[0])\n",
    "print(y_val[0])\n",
    "print(y_test[0])"
   ]
  },
  {
   "cell_type": "markdown",
   "id": "95cf79e7",
   "metadata": {},
   "source": [
    "## 모델 구성\n"
   ]
  },
  {
   "cell_type": "code",
   "execution_count": 9,
   "id": "fae71b94",
   "metadata": {},
   "outputs": [
    {
     "name": "stdout",
     "output_type": "stream",
     "text": [
      "Model: \"sequential\"\n",
      "_________________________________________________________________\n",
      "Layer (type)                 Output Shape              Param #   \n",
      "=================================================================\n",
      "flatten (Flatten)            (None, 784)               0         \n",
      "_________________________________________________________________\n",
      "dense1 (Dense)               (None, 100)               78500     \n",
      "_________________________________________________________________\n",
      "dense2 (Dense)               (None, 64)                6464      \n",
      "_________________________________________________________________\n",
      "dense3 (Dense)               (None, 32)                2080      \n",
      "_________________________________________________________________\n",
      "output (Dense)               (None, 10)                330       \n",
      "=================================================================\n",
      "Total params: 87,374\n",
      "Trainable params: 87,374\n",
      "Non-trainable params: 0\n",
      "_________________________________________________________________\n"
     ]
    }
   ],
   "source": [
    "model = models.Sequential()\n",
    "model.add(keras.Input(shape=(28, 28), name='input'))\n",
    "model.add(layers.Flatten(input_shape=[28, 28], name='flatten'))\n",
    "model.add(layers.Dense(100, activation='relu', name='dense1'))\n",
    "model.add(layers.Dense(64, activation='relu', name='dense2'))\n",
    "model.add(layers.Dense(32, activation='relu', name='dense3'))\n",
    "model.add(layers.Dense(10, activation='softmax', name='output'))\n",
    "model.summary()"
   ]
  },
  {
   "cell_type": "code",
   "execution_count": 10,
   "id": "cde6b29a",
   "metadata": {},
   "outputs": [
    {
     "data": {
      "image/png": "[encoded data removed]",
      "text/plain": [
       "<IPython.core.display.Image object>"
      ]
     },
     "execution_count": 10,
     "metadata": {},
     "output_type": "execute_result"
    }
   ],
   "source": [
    "utils.plot_model(model)"
   ]
  },
  {
   "cell_type": "code",
   "execution_count": 12,
   "id": "fccf90ee",
   "metadata": {},
   "outputs": [
    {
     "ename": "SyntaxError",
     "evalue": "cannot assign to operator (155973466.py, line 2)",
     "output_type": "error",
     "traceback": [
      "\u001b[0;36m  File \u001b[0;32m\"/tmp/ipykernel_37/155973466.py\"\u001b[0;36m, line \u001b[0;32m2\u001b[0m\n\u001b[0;31m    - show_shapes = True\u001b[0m\n\u001b[0m    ^\u001b[0m\n\u001b[0;31mSyntaxError\u001b[0m\u001b[0;31m:\u001b[0m cannot assign to operator\n"
     ]
    }
   ],
   "source": [
    "### input shape까지 보고 싶으면\n",
    "- show_shapes = True"
   ]
  },
  {
   "cell_type": "code",
   "execution_count": 11,
   "id": "eade925c",
   "metadata": {},
   "outputs": [
    {
     "data": {
      "image/png": "[encoded data removed]",
      "text/plain": [
       "<IPython.core.display.Image object>"
      ]
     },
     "execution_count": 11,
     "metadata": {},
     "output_type": "execute_result"
    }
   ],
   "source": [
    "utils.plot_model(model, show_shapes=True)"
   ]
  },
  {
   "cell_type": "code",
   "execution_count": 13,
   "id": "b283e912",
   "metadata": {},
   "outputs": [],
   "source": [
    "model.compile(loss='categorical_crossentropy',\n",
    "              optimizer='sgd',\n",
    "              metrics=['accuracy'])"
   ]
  },
  {
   "cell_type": "code",
   "execution_count": 14,
   "id": "86fa113c",
   "metadata": {},
   "outputs": [
    {
     "name": "stdout",
     "output_type": "stream",
     "text": [
      "Epoch 1/50\n",
      "329/329 [==============================] - 4s 6ms/step - loss: 1.6579 - accuracy: 0.5354 - val_loss: 0.9481 - val_accuracy: 0.7576\n",
      "Epoch 2/50\n",
      "329/329 [==============================] - 1s 4ms/step - loss: 0.6843 - accuracy: 0.8186 - val_loss: 0.5474 - val_accuracy: 0.8447\n",
      "Epoch 3/50\n",
      "329/329 [==============================] - 1s 4ms/step - loss: 0.4667 - accuracy: 0.8707 - val_loss: 0.4394 - val_accuracy: 0.8701\n",
      "Epoch 4/50\n",
      "329/329 [==============================] - 2s 5ms/step - loss: 0.3898 - accuracy: 0.8905 - val_loss: 0.3932 - val_accuracy: 0.8828\n",
      "Epoch 5/50\n",
      "329/329 [==============================] - 2s 5ms/step - loss: 0.3486 - accuracy: 0.9020 - val_loss: 0.3364 - val_accuracy: 0.9021\n",
      "Epoch 6/50\n",
      "329/329 [==============================] - 1s 4ms/step - loss: 0.3206 - accuracy: 0.9104 - val_loss: 0.3186 - val_accuracy: 0.9061\n",
      "Epoch 7/50\n",
      "329/329 [==============================] - 1s 4ms/step - loss: 0.2997 - accuracy: 0.9151 - val_loss: 0.2955 - val_accuracy: 0.9147\n",
      "Epoch 8/50\n",
      "329/329 [==============================] - 1s 4ms/step - loss: 0.2815 - accuracy: 0.9201 - val_loss: 0.2824 - val_accuracy: 0.9172\n",
      "Epoch 9/50\n",
      "329/329 [==============================] - 1s 4ms/step - loss: 0.2669 - accuracy: 0.9253 - val_loss: 0.2682 - val_accuracy: 0.9216\n",
      "Epoch 10/50\n",
      "329/329 [==============================] - 2s 5ms/step - loss: 0.2539 - accuracy: 0.9283 - val_loss: 0.2537 - val_accuracy: 0.9259\n",
      "Epoch 11/50\n",
      "329/329 [==============================] - 1s 5ms/step - loss: 0.2423 - accuracy: 0.9320 - val_loss: 0.2582 - val_accuracy: 0.9242\n",
      "Epoch 12/50\n",
      "329/329 [==============================] - 1s 4ms/step - loss: 0.2322 - accuracy: 0.9341 - val_loss: 0.2360 - val_accuracy: 0.9313\n",
      "Epoch 13/50\n",
      "329/329 [==============================] - 1s 4ms/step - loss: 0.2224 - accuracy: 0.9374 - val_loss: 0.2520 - val_accuracy: 0.9252\n",
      "Epoch 14/50\n",
      "329/329 [==============================] - 1s 4ms/step - loss: 0.2140 - accuracy: 0.9392 - val_loss: 0.2227 - val_accuracy: 0.9341\n",
      "Epoch 15/50\n",
      "329/329 [==============================] - 2s 5ms/step - loss: 0.2056 - accuracy: 0.9409 - val_loss: 0.2209 - val_accuracy: 0.9351\n",
      "Epoch 16/50\n",
      "329/329 [==============================] - 2s 5ms/step - loss: 0.1985 - accuracy: 0.9435 - val_loss: 0.2133 - val_accuracy: 0.9372\n",
      "Epoch 17/50\n",
      "329/329 [==============================] - 1s 4ms/step - loss: 0.1916 - accuracy: 0.9458 - val_loss: 0.2010 - val_accuracy: 0.9406\n",
      "Epoch 18/50\n",
      "329/329 [==============================] - 2s 5ms/step - loss: 0.1851 - accuracy: 0.9472 - val_loss: 0.2225 - val_accuracy: 0.9323\n",
      "Epoch 19/50\n",
      "329/329 [==============================] - 2s 5ms/step - loss: 0.1799 - accuracy: 0.9482 - val_loss: 0.1908 - val_accuracy: 0.9435\n",
      "Epoch 20/50\n",
      "329/329 [==============================] - 1s 4ms/step - loss: 0.1734 - accuracy: 0.9507 - val_loss: 0.1967 - val_accuracy: 0.9422\n",
      "Epoch 21/50\n",
      "329/329 [==============================] - 2s 5ms/step - loss: 0.1686 - accuracy: 0.9520 - val_loss: 0.1875 - val_accuracy: 0.9437\n",
      "Epoch 22/50\n",
      "329/329 [==============================] - 1s 4ms/step - loss: 0.1635 - accuracy: 0.9531 - val_loss: 0.1801 - val_accuracy: 0.9461\n",
      "Epoch 23/50\n",
      "329/329 [==============================] - 1s 4ms/step - loss: 0.1587 - accuracy: 0.9543 - val_loss: 0.1745 - val_accuracy: 0.9483\n",
      "Epoch 24/50\n",
      "329/329 [==============================] - 1s 4ms/step - loss: 0.1541 - accuracy: 0.9557 - val_loss: 0.1749 - val_accuracy: 0.9487\n",
      "Epoch 25/50\n",
      "329/329 [==============================] - 1s 4ms/step - loss: 0.1500 - accuracy: 0.9567 - val_loss: 0.1715 - val_accuracy: 0.9480\n",
      "Epoch 26/50\n",
      "329/329 [==============================] - 1s 4ms/step - loss: 0.1456 - accuracy: 0.9581 - val_loss: 0.1646 - val_accuracy: 0.9503\n",
      "Epoch 27/50\n",
      "329/329 [==============================] - 1s 4ms/step - loss: 0.1422 - accuracy: 0.9594 - val_loss: 0.1684 - val_accuracy: 0.9496\n",
      "Epoch 28/50\n",
      "329/329 [==============================] - 1s 4ms/step - loss: 0.1385 - accuracy: 0.9610 - val_loss: 0.1704 - val_accuracy: 0.9493\n",
      "Epoch 29/50\n",
      "329/329 [==============================] - 1s 4ms/step - loss: 0.1352 - accuracy: 0.9614 - val_loss: 0.1979 - val_accuracy: 0.9396\n",
      "Epoch 30/50\n",
      "329/329 [==============================] - 1s 4ms/step - loss: 0.1316 - accuracy: 0.9628 - val_loss: 0.1974 - val_accuracy: 0.9387\n",
      "Epoch 31/50\n",
      "329/329 [==============================] - 1s 4ms/step - loss: 0.1290 - accuracy: 0.9633 - val_loss: 0.1503 - val_accuracy: 0.9549\n",
      "Epoch 32/50\n",
      "329/329 [==============================] - 1s 4ms/step - loss: 0.1254 - accuracy: 0.9640 - val_loss: 0.1513 - val_accuracy: 0.9540\n",
      "Epoch 33/50\n",
      "329/329 [==============================] - 1s 4ms/step - loss: 0.1221 - accuracy: 0.9650 - val_loss: 0.1493 - val_accuracy: 0.9551\n",
      "Epoch 34/50\n",
      "329/329 [==============================] - 2s 5ms/step - loss: 0.1194 - accuracy: 0.9661 - val_loss: 0.1615 - val_accuracy: 0.9503\n",
      "Epoch 35/50\n",
      "329/329 [==============================] - 1s 4ms/step - loss: 0.1170 - accuracy: 0.9668 - val_loss: 0.1540 - val_accuracy: 0.9549\n",
      "Epoch 36/50\n",
      "329/329 [==============================] - 1s 4ms/step - loss: 0.1142 - accuracy: 0.9679 - val_loss: 0.1415 - val_accuracy: 0.9577\n",
      "Epoch 37/50\n",
      "329/329 [==============================] - 2s 5ms/step - loss: 0.1114 - accuracy: 0.9682 - val_loss: 0.1495 - val_accuracy: 0.9547\n",
      "Epoch 38/50\n",
      "329/329 [==============================] - 1s 4ms/step - loss: 0.1091 - accuracy: 0.9687 - val_loss: 0.1390 - val_accuracy: 0.9579\n",
      "Epoch 39/50\n",
      "329/329 [==============================] - 2s 5ms/step - loss: 0.1064 - accuracy: 0.9693 - val_loss: 0.1367 - val_accuracy: 0.9594\n",
      "Epoch 40/50\n",
      "329/329 [==============================] - 1s 4ms/step - loss: 0.1037 - accuracy: 0.9706 - val_loss: 0.1366 - val_accuracy: 0.9594\n",
      "Epoch 41/50\n",
      "329/329 [==============================] - 2s 5ms/step - loss: 0.1019 - accuracy: 0.9710 - val_loss: 0.1368 - val_accuracy: 0.9591\n",
      "Epoch 42/50\n",
      "329/329 [==============================] - 1s 4ms/step - loss: 0.0997 - accuracy: 0.9713 - val_loss: 0.1364 - val_accuracy: 0.9593\n",
      "Epoch 43/50\n",
      "329/329 [==============================] - 1s 4ms/step - loss: 0.0976 - accuracy: 0.9721 - val_loss: 0.1300 - val_accuracy: 0.9606\n",
      "Epoch 44/50\n",
      "329/329 [==============================] - 2s 5ms/step - loss: 0.0954 - accuracy: 0.9726 - val_loss: 0.1301 - val_accuracy: 0.9609\n",
      "Epoch 45/50\n",
      "329/329 [==============================] - 1s 4ms/step - loss: 0.0933 - accuracy: 0.9730 - val_loss: 0.1319 - val_accuracy: 0.9601\n",
      "Epoch 46/50\n",
      "329/329 [==============================] - 1s 3ms/step - loss: 0.0914 - accuracy: 0.9740 - val_loss: 0.1268 - val_accuracy: 0.9622\n",
      "Epoch 47/50\n",
      "329/329 [==============================] - 1s 3ms/step - loss: 0.0892 - accuracy: 0.9744 - val_loss: 0.1299 - val_accuracy: 0.9621\n",
      "Epoch 48/50\n",
      "329/329 [==============================] - 1s 3ms/step - loss: 0.0876 - accuracy: 0.9747 - val_loss: 0.1265 - val_accuracy: 0.9617\n",
      "Epoch 49/50\n",
      "329/329 [==============================] - 1s 3ms/step - loss: 0.0856 - accuracy: 0.9755 - val_loss: 0.1258 - val_accuracy: 0.9622\n",
      "Epoch 50/50\n",
      "329/329 [==============================] - 1s 3ms/step - loss: 0.0840 - accuracy: 0.9762 - val_loss: 0.1299 - val_accuracy: 0.9606\n"
     ]
    }
   ],
   "source": [
    "history = model.fit(x_train, y_train,\n",
    "                    epochs=50,\n",
    "                    batch_size=128,\n",
    "                    validation_data=(x_val, y_val))"
   ]
  },
  {
   "cell_type": "code",
   "execution_count": 15,
   "id": "346b104f",
   "metadata": {},
   "outputs": [
    {
     "data": {
      "text/plain": [
       "dict_keys(['loss', 'accuracy', 'val_loss', 'val_accuracy'])"
      ]
     },
     "execution_count": 15,
     "metadata": {},
     "output_type": "execute_result"
    }
   ],
   "source": [
    "history.history.keys()"
   ]
  },
  {
   "cell_type": "code",
   "execution_count": 16,
   "id": "855820a1",
   "metadata": {},
   "outputs": [
    {
     "data": {
      "image/png": "[encoded data removed]",
      "text/plain": [
       "<Figure size 864x360 with 2 Axes>"
      ]
     },
     "metadata": {},
     "output_type": "display_data"
    }
   ],
   "source": [
    "history_dict = history.history\n",
    "\n",
    "loss = history_dict['loss']\n",
    "val_loss = history_dict['val_loss']\n",
    "\n",
    "epochs = range(1, len(loss) + 1)\n",
    "fig = plt.figure(figsize=(12, 5))\n",
    "\n",
    "ax1 = fig.add_subplot(1, 2, 1)\n",
    "ax1.plot(epochs, loss, color='blue', label='train_loss')\n",
    "ax1.plot(epochs, val_loss, color='red', label='val_loss')\n",
    "ax1.set_title('Train and Validation Loss')\n",
    "ax1.set_xlabel('Epochs')\n",
    "ax1.set_ylabel('Loss')\n",
    "ax1.grid()\n",
    "ax1.legend()\n",
    "\n",
    "accuracy = history_dict['accuracy']\n",
    "val_accuracy = history_dict['val_accuracy']\n",
    "\n",
    "ax2 = fig.add_subplot(1, 2, 2)\n",
    "ax2.plot(epochs, accuracy, color='blue', label='train_accuracy')\n",
    "ax2.plot(epochs, val_accuracy, color='red', label='val_accuracy')\n",
    "ax2.set_title('Train and Validation Accuracy')\n",
    "ax2.set_xlabel('Epochs')\n",
    "ax2.set_ylabel('Accuracy')\n",
    "ax2.grid()\n",
    "ax2.legend()\n",
    "\n",
    "plt.show()"
   ]
  },
  {
   "cell_type": "code",
   "execution_count": 17,
   "id": "d8c24125",
   "metadata": {},
   "outputs": [
    {
     "name": "stdout",
     "output_type": "stream",
     "text": [
      "313/313 [==============================] - 1s 2ms/step - loss: 0.1243 - accuracy: 0.9637\n"
     ]
    },
    {
     "data": {
      "text/plain": [
       "[0.12426954507827759, 0.963699996471405]"
      ]
     },
     "execution_count": 17,
     "metadata": {},
     "output_type": "execute_result"
    }
   ],
   "source": [
    "model.evaluate(x_test, y_test)"
   ]
  },
  {
   "cell_type": "code",
   "execution_count": 18,
   "id": "68dc07e2",
   "metadata": {},
   "outputs": [
    {
     "name": "stdout",
     "output_type": "stream",
     "text": [
      "(10000, 10)\n",
      "[5.0607940e-07 2.6096302e-06 1.6822964e-04 4.4405003e-04 3.8481965e-10\n",
      " 3.0008168e-06 2.1968045e-11 9.9937004e-01 8.4814849e-07 1.0671581e-05]\n"
     ]
    }
   ],
   "source": [
    "pred_ys = model.predict(x_test)\n",
    "print(pred_ys.shape)\n",
    "print(pred_ys[0])"
   ]
  },
  {
   "cell_type": "code",
   "execution_count": 20,
   "id": "29513423",
   "metadata": {},
   "outputs": [
    {
     "data": {
      "image/png": "[encoded data removed]",
      "text/plain": [
       "<Figure size 432x288 with 1 Axes>"
      ]
     },
     "metadata": {},
     "output_type": "display_data"
    }
   ],
   "source": [
    "arg_pred_y = np.argmax(pred_ys, axis=1)\n",
    "\n",
    "plt.title(f'Predicted label: {arg_pred_y[0]}')\n",
    "plt.imshow(x_test[0])\n",
    "plt.show()"
   ]
  },
  {
   "cell_type": "code",
   "execution_count": 21,
   "id": "0a860ffd",
   "metadata": {},
   "outputs": [
    {
     "name": "stdout",
     "output_type": "stream",
     "text": [
      "              precision    recall  f1-score   support\n",
      "\n",
      "           0       0.97      0.98      0.98       980\n",
      "           1       0.98      0.99      0.98      1135\n",
      "           2       0.97      0.96      0.97      1032\n",
      "           3       0.95      0.97      0.96      1010\n",
      "           4       0.95      0.98      0.96       982\n",
      "           5       0.97      0.95      0.96       892\n",
      "           6       0.96      0.97      0.97       958\n",
      "           7       0.94      0.97      0.96      1028\n",
      "           8       0.97      0.95      0.96       974\n",
      "           9       0.98      0.91      0.94      1009\n",
      "\n",
      "    accuracy                           0.96     10000\n",
      "   macro avg       0.96      0.96      0.96     10000\n",
      "weighted avg       0.96      0.96      0.96     10000\n",
      "\n"
     ]
    }
   ],
   "source": [
    "from sklearn.metrics import classification_report\n",
    "\n",
    "print(classification_report(np.argmax(y_test, axis=-1), np.argmax(pred_ys, axis=-1)))"
   ]
  },
  {
   "cell_type": "markdown",
   "id": "b8a1a6dd",
   "metadata": {},
   "source": [
    "## 5-3. 모델의 저장과 로드"
   ]
  },
  {
   "cell_type": "code",
   "execution_count": 22,
   "id": "99ca4754",
   "metadata": {},
   "outputs": [],
   "source": [
    "model.save('mnist_model.h5')"
   ]
  },
  {
   "cell_type": "code",
   "execution_count": 23,
   "id": "db0d7d17",
   "metadata": {},
   "outputs": [
    {
     "name": "stdout",
     "output_type": "stream",
     "text": [
      "Model: \"sequential\"\n",
      "_________________________________________________________________\n",
      "Layer (type)                 Output Shape              Param #   \n",
      "=================================================================\n",
      "flatten (Flatten)            (None, 784)               0         \n",
      "_________________________________________________________________\n",
      "dense1 (Dense)               (None, 100)               78500     \n",
      "_________________________________________________________________\n",
      "dense2 (Dense)               (None, 64)                6464      \n",
      "_________________________________________________________________\n",
      "dense3 (Dense)               (None, 32)                2080      \n",
      "_________________________________________________________________\n",
      "output (Dense)               (None, 10)                330       \n",
      "=================================================================\n",
      "Total params: 87,374\n",
      "Trainable params: 87,374\n",
      "Non-trainable params: 0\n",
      "_________________________________________________________________\n"
     ]
    }
   ],
   "source": [
    "loaded_model = models.load_model('mnist_model.h5')\n",
    "loaded_model.summary()"
   ]
  },
  {
   "cell_type": "code",
   "execution_count": 24,
   "id": "ff53ffac",
   "metadata": {},
   "outputs": [
    {
     "name": "stdout",
     "output_type": "stream",
     "text": [
      "(10000, 10)\n",
      "[5.0607940e-07 2.6096302e-06 1.6822964e-04 4.4405003e-04 3.8481965e-10\n",
      " 3.0008168e-06 2.1968045e-11 9.9937004e-01 8.4814849e-07 1.0671581e-05]\n"
     ]
    }
   ],
   "source": [
    "pred_ys2 = loaded_model.predict(x_test)\n",
    "print(pred_ys2.shape)\n",
    "print(pred_ys2[0])"
   ]
  },
  {
   "cell_type": "code",
   "execution_count": 27,
   "id": "be538c56",
   "metadata": {},
   "outputs": [
    {
     "name": "stdout",
     "output_type": "stream",
     "text": [
      "7\n"
     ]
    },
    {
     "data": {
      "image/png": "[encoded data removed]",
      "text/plain": [
       "<Figure size 432x288 with 1 Axes>"
      ]
     },
     "metadata": {},
     "output_type": "display_data"
    }
   ],
   "source": [
    "#예측값 시각화하기\n",
    "arg_pred_y2 = np.argmax(pred_ys, axis = -1)\n",
    "\n",
    "idx = 0\n",
    "print(arg_pred_y2[idx])\n",
    "\n",
    "#matlotlib를 이용해서 시각화하기\n",
    "plt.imshow(x_test[idx])\n",
    "plt.show()"
   ]
  },
  {
   "cell_type": "code",
   "execution_count": 28,
   "id": "4c4970d7",
   "metadata": {},
   "outputs": [
    {
     "name": "stdout",
     "output_type": "stream",
     "text": [
      "(10000, 10)\n",
      "[0.09996795 0.133385   0.1144546  0.10243185 0.08771397 0.07903438\n",
      " 0.09738405 0.09188966 0.10761201 0.0861266 ]\n"
     ]
    }
   ],
   "source": [
    "# 위에서 학습시킨 model의 구조를 json 형식으로 model_json에 저장합니다.\n",
    "model_json = model.to_json()\n",
    "\n",
    "# json으로 저장한 모델을 읽어옵니다.\n",
    "loaded_model = keras.models.model_from_json(model_json)\n",
    "\n",
    "predictions = loaded_model.predict(x_test)\n",
    "print(predictions.shape)\n",
    "print(predictions[0])"
   ]
  },
  {
   "cell_type": "code",
   "execution_count": 30,
   "id": "735a8d67",
   "metadata": {},
   "outputs": [
    {
     "data": {
      "text/plain": [
       "1"
      ]
     },
     "execution_count": 30,
     "metadata": {},
     "output_type": "execute_result"
    }
   ],
   "source": [
    "np.argmax(predictions, axis = 1)[0]"
   ]
  },
  {
   "cell_type": "markdown",
   "id": "58aadd91",
   "metadata": {},
   "source": [
    "## [@질문] 결과가 다른 것 같은데?"
   ]
  },
  {
   "cell_type": "markdown",
   "id": "5c5ed0b6",
   "metadata": {},
   "source": [
    "## 5-4. 콜백(Callbacks)"
   ]
  },
  {
   "cell_type": "code",
   "execution_count": 31,
   "id": "bf6f3247",
   "metadata": {},
   "outputs": [],
   "source": [
    "from tensorflow.keras import callbacks"
   ]
  },
  {
   "cell_type": "markdown",
   "id": "8bc991a8",
   "metadata": {},
   "source": [
    "### Checkpoint"
   ]
  },
  {
   "cell_type": "code",
   "execution_count": 32,
   "id": "be56948a",
   "metadata": {
    "scrolled": false
   },
   "outputs": [
    {
     "name": "stdout",
     "output_type": "stream",
     "text": [
      "Epoch 1/10\n",
      "1313/1313 [==============================] - 4s 3ms/step - loss: 0.0930 - accuracy: 0.9723\n",
      "Epoch 2/10\n",
      "1313/1313 [==============================] - 4s 3ms/step - loss: 0.0854 - accuracy: 0.9748\n",
      "Epoch 3/10\n",
      "1313/1313 [==============================] - 4s 3ms/step - loss: 0.0801 - accuracy: 0.9761\n",
      "Epoch 4/10\n",
      "1313/1313 [==============================] - 4s 3ms/step - loss: 0.0737 - accuracy: 0.9786\n",
      "Epoch 5/10\n",
      "1313/1313 [==============================] - 3s 2ms/step - loss: 0.0690 - accuracy: 0.9798\n",
      "Epoch 6/10\n",
      "1313/1313 [==============================] - 3s 2ms/step - loss: 0.0652 - accuracy: 0.9813\n",
      "Epoch 7/10\n",
      "1313/1313 [==============================] - 3s 2ms/step - loss: 0.0603 - accuracy: 0.9828\n",
      "Epoch 8/10\n",
      "1313/1313 [==============================] - 3s 2ms/step - loss: 0.0555 - accuracy: 0.9845\n",
      "Epoch 9/10\n",
      "1313/1313 [==============================] - 3s 2ms/step - loss: 0.0525 - accuracy: 0.9848\n",
      "Epoch 10/10\n",
      "1313/1313 [==============================] - 3s 2ms/step - loss: 0.0491 - accuracy: 0.9862\n"
     ]
    }
   ],
   "source": [
    "check_point_cb = callbacks.ModelCheckpoint('keras_mnist_model.h5')\n",
    "history = model.fit(x_train, y_train, epochs=10,\n",
    "                    callbacks=[check_point_cb])"
   ]
  },
  {
   "cell_type": "code",
   "execution_count": 33,
   "id": "a2624e45",
   "metadata": {},
   "outputs": [
    {
     "name": "stdout",
     "output_type": "stream",
     "text": [
      "Epoch 1/10\n",
      "1313/1313 [==============================] - 5s 4ms/step - loss: 0.0456 - accuracy: 0.9874 - val_loss: 0.1095 - val_accuracy: 0.9685\n",
      "Epoch 2/10\n",
      "1313/1313 [==============================] - 5s 4ms/step - loss: 0.0432 - accuracy: 0.9883 - val_loss: 0.1125 - val_accuracy: 0.9684\n",
      "Epoch 3/10\n",
      "1313/1313 [==============================] - 5s 4ms/step - loss: 0.0399 - accuracy: 0.9890 - val_loss: 0.1090 - val_accuracy: 0.9688\n",
      "Epoch 4/10\n",
      "1313/1313 [==============================] - 5s 4ms/step - loss: 0.0373 - accuracy: 0.9896 - val_loss: 0.1136 - val_accuracy: 0.9678\n",
      "Epoch 5/10\n",
      "1313/1313 [==============================] - 5s 4ms/step - loss: 0.0351 - accuracy: 0.9908 - val_loss: 0.1098 - val_accuracy: 0.9687\n",
      "Epoch 6/10\n",
      "1313/1313 [==============================] - 5s 4ms/step - loss: 0.0318 - accuracy: 0.9922 - val_loss: 0.1118 - val_accuracy: 0.9674\n",
      "Epoch 7/10\n",
      "1313/1313 [==============================] - 5s 4ms/step - loss: 0.0304 - accuracy: 0.9922 - val_loss: 0.1065 - val_accuracy: 0.9715\n",
      "Epoch 8/10\n",
      "1313/1313 [==============================] - 5s 4ms/step - loss: 0.0285 - accuracy: 0.9926 - val_loss: 0.1085 - val_accuracy: 0.9703\n",
      "Epoch 9/10\n",
      "1313/1313 [==============================] - 4s 3ms/step - loss: 0.0263 - accuracy: 0.9941 - val_loss: 0.1066 - val_accuracy: 0.9696\n",
      "Epoch 10/10\n",
      "1313/1313 [==============================] - 4s 3ms/step - loss: 0.0244 - accuracy: 0.9944 - val_loss: 0.1115 - val_accuracy: 0.9700\n"
     ]
    }
   ],
   "source": [
    "check_point_cb = callbacks.ModelCheckpoint('keras_mnist_model.h5', save_best_only=True)\n",
    "history = model.fit(x_train, y_train, epochs=10,\n",
    "                    validation_data=(x_val, y_val),\n",
    "                    callbacks=[check_point_cb])"
   ]
  },
  {
   "cell_type": "markdown",
   "id": "fce8ead0",
   "metadata": {},
   "source": [
    "### EarlyStopping"
   ]
  },
  {
   "cell_type": "code",
   "execution_count": 35,
   "id": "cef5f5b8",
   "metadata": {},
   "outputs": [
    {
     "name": "stdout",
     "output_type": "stream",
     "text": [
      "Epoch 1/10\n",
      "1313/1313 [==============================] - 5s 4ms/step - loss: 0.0230 - accuracy: 0.9953 - val_loss: 0.1430 - val_accuracy: 0.9608\n",
      "Epoch 2/10\n",
      "1313/1313 [==============================] - 5s 4ms/step - loss: 0.0224 - accuracy: 0.9942 - val_loss: 0.1123 - val_accuracy: 0.9691\n",
      "Epoch 3/10\n",
      "1313/1313 [==============================] - 5s 4ms/step - loss: 0.0202 - accuracy: 0.9952 - val_loss: 0.1086 - val_accuracy: 0.9717\n",
      "Epoch 4/10\n",
      "1313/1313 [==============================] - 5s 4ms/step - loss: 0.0188 - accuracy: 0.9958 - val_loss: 0.1259 - val_accuracy: 0.9681\n",
      "Epoch 5/10\n",
      "1313/1313 [==============================] - 5s 4ms/step - loss: 0.0172 - accuracy: 0.9964 - val_loss: 0.1115 - val_accuracy: 0.9701\n",
      "Epoch 6/10\n",
      "1313/1313 [==============================] - 5s 4ms/step - loss: 0.0160 - accuracy: 0.9969 - val_loss: 0.1119 - val_accuracy: 0.9718\n"
     ]
    }
   ],
   "source": [
    "check_point_cb = callbacks.ModelCheckpoint('keras_mnist_model.h5', save_best_only=True)\n",
    "early_stopping_cb = callbacks.EarlyStopping(patience=3, monitor='val_loss',\n",
    "                                  restore_best_weights=True)\n",
    "history = model.fit(x_train, y_train, epochs=10,\n",
    "                    validation_data=(x_val, y_val),\n",
    "                    callbacks=[check_point_cb, early_stopping_cb])"
   ]
  },
  {
   "cell_type": "markdown",
   "id": "8e1b4882",
   "metadata": {},
   "source": [
    "### LearningRateScheduler\n",
    "- LearningRateScheduler에 함수를 인자로 넘겨줌.\n",
    "- 학습(fit)을 실행한 후에 lr이 0.01 => 0.00607로 줄어든 것을 확인"
   ]
  },
  {
   "cell_type": "code",
   "execution_count": 36,
   "id": "306daa30",
   "metadata": {},
   "outputs": [],
   "source": [
    "def scheduler(epoch, learning_rate):\n",
    "  if epoch < 10:\n",
    "    return learning_rate\n",
    "  else:\n",
    "    return learning_rate * tf.math.exp(-0.1)"
   ]
  },
  {
   "cell_type": "code",
   "execution_count": 41,
   "id": "ad9d87db",
   "metadata": {},
   "outputs": [
    {
     "data": {
      "text/plain": [
       "0.01"
      ]
     },
     "execution_count": 41,
     "metadata": {},
     "output_type": "execute_result"
    }
   ],
   "source": [
    " model.optimizer.lr.numpy()"
   ]
  },
  {
   "cell_type": "code",
   "execution_count": 42,
   "id": "1d1798a1",
   "metadata": {},
   "outputs": [
    {
     "data": {
      "text/plain": [
       "0.00607"
      ]
     },
     "execution_count": 42,
     "metadata": {},
     "output_type": "execute_result"
    }
   ],
   "source": [
    "lr_scheduler_cb = callbacks.LearningRateScheduler(scheduler)\n",
    "\n",
    "history = model.fit(x_train, y_train, epochs=15,\n",
    "                    callbacks=[lr_scheduler_cb], verbose=0)\n",
    "\n",
    "round(model.optimizer.lr.numpy(), 5)"
   ]
  },
  {
   "cell_type": "markdown",
   "id": "2b29dddd",
   "metadata": {},
   "source": [
    "### Tensorboard"
   ]
  },
  {
   "cell_type": "code",
   "execution_count": 43,
   "id": "f81e82b0",
   "metadata": {},
   "outputs": [
    {
     "name": "stdout",
     "output_type": "stream",
     "text": [
      "Epoch 1/30\n",
      "1313/1313 [==============================] - 6s 4ms/step - loss: 0.0057 - accuracy: 0.9996 - val_loss: 0.1182 - val_accuracy: 0.9719\n",
      "Epoch 2/30\n",
      "1313/1313 [==============================] - 5s 4ms/step - loss: 0.0057 - accuracy: 0.9996 - val_loss: 0.1182 - val_accuracy: 0.9716\n",
      "Epoch 3/30\n",
      "1313/1313 [==============================] - 5s 4ms/step - loss: 0.0054 - accuracy: 0.9997 - val_loss: 0.1182 - val_accuracy: 0.9719\n",
      "Epoch 4/30\n",
      "1313/1313 [==============================] - 5s 4ms/step - loss: 0.0052 - accuracy: 0.9996 - val_loss: 0.1200 - val_accuracy: 0.9723\n",
      "Epoch 5/30\n",
      "1313/1313 [==============================] - 5s 4ms/step - loss: 0.0049 - accuracy: 0.9998 - val_loss: 0.1216 - val_accuracy: 0.9719\n",
      "Epoch 6/30\n",
      "1313/1313 [==============================] - 5s 4ms/step - loss: 0.0048 - accuracy: 0.9998 - val_loss: 0.1211 - val_accuracy: 0.9720\n",
      "Epoch 7/30\n",
      "1313/1313 [==============================] - 5s 4ms/step - loss: 0.0046 - accuracy: 0.9998 - val_loss: 0.1216 - val_accuracy: 0.9717\n",
      "Epoch 8/30\n",
      "1313/1313 [==============================] - 5s 4ms/step - loss: 0.0044 - accuracy: 0.9998 - val_loss: 0.1209 - val_accuracy: 0.9727\n",
      "Epoch 9/30\n",
      "1313/1313 [==============================] - 5s 4ms/step - loss: 0.0043 - accuracy: 0.9998 - val_loss: 0.1224 - val_accuracy: 0.9722\n",
      "Epoch 10/30\n",
      "1313/1313 [==============================] - 5s 4ms/step - loss: 0.0041 - accuracy: 0.9999 - val_loss: 0.1220 - val_accuracy: 0.9727\n",
      "Epoch 11/30\n",
      "1313/1313 [==============================] - 5s 4ms/step - loss: 0.0040 - accuracy: 0.9999 - val_loss: 0.1221 - val_accuracy: 0.9722\n",
      "Epoch 12/30\n",
      "1313/1313 [==============================] - 5s 4ms/step - loss: 0.0039 - accuracy: 0.9999 - val_loss: 0.1227 - val_accuracy: 0.9722\n",
      "Epoch 13/30\n",
      "1313/1313 [==============================] - 5s 4ms/step - loss: 0.0038 - accuracy: 0.9999 - val_loss: 0.1249 - val_accuracy: 0.9719\n",
      "Epoch 14/30\n",
      "1313/1313 [==============================] - 5s 4ms/step - loss: 0.0037 - accuracy: 0.9999 - val_loss: 0.1245 - val_accuracy: 0.9721\n",
      "Epoch 15/30\n",
      "1313/1313 [==============================] - 5s 4ms/step - loss: 0.0035 - accuracy: 0.9999 - val_loss: 0.1235 - val_accuracy: 0.9720\n",
      "Epoch 16/30\n",
      "1313/1313 [==============================] - 5s 4ms/step - loss: 0.0035 - accuracy: 1.0000 - val_loss: 0.1251 - val_accuracy: 0.9719\n",
      "Epoch 17/30\n",
      "1313/1313 [==============================] - 5s 4ms/step - loss: 0.0033 - accuracy: 1.0000 - val_loss: 0.1247 - val_accuracy: 0.9724\n",
      "Epoch 18/30\n",
      "1313/1313 [==============================] - 7s 5ms/step - loss: 0.0033 - accuracy: 1.0000 - val_loss: 0.1255 - val_accuracy: 0.9726\n",
      "Epoch 19/30\n",
      "1313/1313 [==============================] - 5s 4ms/step - loss: 0.0032 - accuracy: 0.9999 - val_loss: 0.1277 - val_accuracy: 0.9724\n",
      "Epoch 20/30\n",
      "1313/1313 [==============================] - 5s 4ms/step - loss: 0.0031 - accuracy: 1.0000 - val_loss: 0.1273 - val_accuracy: 0.9722\n",
      "Epoch 21/30\n",
      "1313/1313 [==============================] - 5s 4ms/step - loss: 0.0030 - accuracy: 1.0000 - val_loss: 0.1275 - val_accuracy: 0.9721\n",
      "Epoch 22/30\n",
      "1313/1313 [==============================] - 5s 4ms/step - loss: 0.0029 - accuracy: 1.0000 - val_loss: 0.1277 - val_accuracy: 0.9722\n",
      "Epoch 23/30\n",
      "1313/1313 [==============================] - 5s 4ms/step - loss: 0.0029 - accuracy: 1.0000 - val_loss: 0.1273 - val_accuracy: 0.9723\n",
      "Epoch 24/30\n",
      "1313/1313 [==============================] - 5s 4ms/step - loss: 0.0028 - accuracy: 1.0000 - val_loss: 0.1281 - val_accuracy: 0.9723\n",
      "Epoch 25/30\n",
      "1313/1313 [==============================] - 5s 4ms/step - loss: 0.0027 - accuracy: 1.0000 - val_loss: 0.1289 - val_accuracy: 0.9721\n",
      "Epoch 26/30\n",
      "1313/1313 [==============================] - 5s 4ms/step - loss: 0.0027 - accuracy: 1.0000 - val_loss: 0.1281 - val_accuracy: 0.9726\n",
      "Epoch 27/30\n",
      "1313/1313 [==============================] - 5s 4ms/step - loss: 0.0026 - accuracy: 1.0000 - val_loss: 0.1291 - val_accuracy: 0.9724\n",
      "Epoch 28/30\n",
      "1313/1313 [==============================] - 5s 4ms/step - loss: 0.0025 - accuracy: 1.0000 - val_loss: 0.1297 - val_accuracy: 0.9726\n",
      "Epoch 29/30\n",
      "1313/1313 [==============================] - 5s 4ms/step - loss: 0.0025 - accuracy: 1.0000 - val_loss: 0.1299 - val_accuracy: 0.9721\n",
      "Epoch 30/30\n",
      "1313/1313 [==============================] - 4s 3ms/step - loss: 0.0024 - accuracy: 1.0000 - val_loss: 0.1298 - val_accuracy: 0.9724\n"
     ]
    },
    {
     "data": {
      "text/plain": [
       "<keras.callbacks.History at 0x7f10781d8190>"
      ]
     },
     "execution_count": 43,
     "metadata": {},
     "output_type": "execute_result"
    }
   ],
   "source": [
    "log_dir = './logs'\n",
    "tensor_board_cb = [callbacks.TensorBoard(log_dir=log_dir, histogram_freq=1, write_graph=True, write_images=True)]\n",
    "model.fit(x_train, y_train, batch_size=32, validation_data=(x_val, y_val),\n",
    "          epochs=30, callbacks=tensor_board_cb)"
   ]
  },
  {
   "cell_type": "code",
   "execution_count": 44,
   "id": "c673c538",
   "metadata": {
    "scrolled": true
   },
   "outputs": [
    {
     "data": {
      "text/html": [
       "\n",
       "      <iframe id=\"tensorboard-frame-b2d2b8e8347d9ca3\" width=\"100%\" height=\"800\" frameborder=\"0\">\n",
       "      </iframe>\n",
       "      <script>\n",
       "        (function() {\n",
       "          const frame = document.getElementById(\"tensorboard-frame-b2d2b8e8347d9ca3\");\n",
       "          const url = new URL(\"/\", window.location);\n",
       "          const port = 6007;\n",
       "          if (port) {\n",
       "            url.port = port;\n",
       "          }\n",
       "          frame.src = url;\n",
       "        })();\n",
       "      </script>\n",
       "    "
      ],
      "text/plain": [
       "<IPython.core.display.HTML object>"
      ]
     },
     "metadata": {},
     "output_type": "display_data"
    }
   ],
   "source": [
    "%load_ext tensorboard\n",
    "%tensorboard --logdir {log_dir}"
   ]
  },
  {
   "cell_type": "code",
   "execution_count": 45,
   "id": "89114038",
   "metadata": {},
   "outputs": [
    {
     "name": "stdout",
     "output_type": "stream",
     "text": [
      "Epoch 1/10\n",
      "1313/1313 [==============================] - 6s 4ms/step - loss: 0.0024 - accuracy: 1.0000 - val_loss: 0.1313 - val_accuracy: 0.9723\n",
      "Epoch 2/10\n",
      "1313/1313 [==============================] - 4s 3ms/step - loss: 0.0023 - accuracy: 1.0000 - val_loss: 0.1325 - val_accuracy: 0.9721\n",
      "Epoch 3/10\n",
      "1313/1313 [==============================] - 4s 3ms/step - loss: 0.0023 - accuracy: 1.0000 - val_loss: 0.1311 - val_accuracy: 0.9724\n",
      "Epoch 4/10\n",
      "1313/1313 [==============================] - 4s 3ms/step - loss: 0.0022 - accuracy: 1.0000 - val_loss: 0.1311 - val_accuracy: 0.9726\n",
      "Epoch 5/10\n",
      "1313/1313 [==============================] - 4s 3ms/step - loss: 0.0022 - accuracy: 1.0000 - val_loss: 0.1314 - val_accuracy: 0.9721\n",
      "Epoch 6/10\n",
      "1313/1313 [==============================] - 4s 3ms/step - loss: 0.0021 - accuracy: 1.0000 - val_loss: 0.1327 - val_accuracy: 0.9728\n",
      "Epoch 7/10\n",
      "1313/1313 [==============================] - 4s 3ms/step - loss: 0.0021 - accuracy: 1.0000 - val_loss: 0.1330 - val_accuracy: 0.9725\n"
     ]
    }
   ],
   "source": [
    "# 기존에 사용했던 mnist의 데이터들을 활용해서 모델에 checkpoint를 만들고 Earlystopping을 설정해주세요.\n",
    "\n",
    "#[[YOUR CODE]]\n",
    "check_point_cb = callbacks.ModelCheckpoint('keras_mnist_model.h5', save_best_only = True)\n",
    "#[[YOUR CODE]]\n",
    "early_stopping_cb = callbacks.EarlyStopping(patience = 3, monitor = 'val_loss',\n",
    "                        restore_best_weights = True)\n",
    "\n",
    "history = model.fit(x_train, y_train, epochs=10,\n",
    "                    validation_data=(x_val, y_val),\n",
    "                    callbacks=[check_point_cb, early_stopping_cb])"
   ]
  },
  {
   "cell_type": "code",
   "execution_count": null,
   "id": "ec8c143c",
   "metadata": {},
   "outputs": [],
   "source": []
  }
 ],
 "metadata": {
  "kernelspec": {
   "display_name": "Python 3 (ipykernel)",
   "language": "python",
   "name": "python3"
  },
  "language_info": {
   "codemirror_mode": {
    "name": "ipython",
    "version": 3
   },
   "file_extension": ".py",
   "mimetype": "text/x-python",
   "name": "python",
   "nbconvert_exporter": "python",
   "pygments_lexer": "ipython3",
   "version": "3.9.7"
  }
 },
 "nbformat": 4,
 "nbformat_minor": 5
}
