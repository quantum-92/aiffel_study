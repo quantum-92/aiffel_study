{
 "cells": [
  {
   "cell_type": "code",
   "execution_count": 1,
   "id": "ea0f81e3",
   "metadata": {},
   "outputs": [],
   "source": [
    "import tensorflow as tf\n",
    "from tensorflow import keras\n",
    "from tensorflow.keras import layers"
   ]
  },
  {
   "cell_type": "markdown",
   "id": "6f4c7a03",
   "metadata": {},
   "source": [
    "## input layer"
   ]
  },
  {
   "cell_type": "code",
   "execution_count": 2,
   "id": "c0a3fcf5",
   "metadata": {},
   "outputs": [
    {
     "data": {
      "text/plain": [
       "<KerasTensor: shape=(None, 8) dtype=int32 (created by layer 'input_1')>"
      ]
     },
     "execution_count": 2,
     "metadata": {},
     "output_type": "execute_result"
    }
   ],
   "source": [
    "keras.Input(shape=(8,), dtype=tf.int32)"
   ]
  },
  {
   "cell_type": "code",
   "execution_count": 6,
   "id": "ca61715c",
   "metadata": {},
   "outputs": [
    {
     "data": {
      "text/plain": [
       "<KerasTensor: shape=(None, 28, 28) dtype=float32 (created by layer 'input_2')>"
      ]
     },
     "execution_count": 6,
     "metadata": {},
     "output_type": "execute_result"
    }
   ],
   "source": [
    "keras.Input(shape=(28, 28), dtype=tf.float32)"
   ]
  },
  {
   "cell_type": "markdown",
   "id": "e1107a48",
   "metadata": {},
   "source": [
    "### batch size, 이름 지정"
   ]
  },
  {
   "cell_type": "code",
   "execution_count": 8,
   "id": "41fa7b26",
   "metadata": {},
   "outputs": [
    {
     "data": {
      "text/plain": [
       "<KerasTensor: shape=(16, 28, 28) dtype=float32 (created by layer 'input_4')>"
      ]
     },
     "execution_count": 8,
     "metadata": {},
     "output_type": "execute_result"
    }
   ],
   "source": [
    "keras.Input(shape=(28, 28), dtype=tf.float32, batch_size=16)"
   ]
  },
  {
   "cell_type": "code",
   "execution_count": 10,
   "id": "15c57e94",
   "metadata": {},
   "outputs": [
    {
     "data": {
      "text/plain": [
       "<KerasTensor: shape=(16, 28, 28) dtype=float32 (created by layer 'input')>"
      ]
     },
     "execution_count": 10,
     "metadata": {},
     "output_type": "execute_result"
    }
   ],
   "source": [
    "keras.Input(shape=(28, 28), dtype=tf.float32, batch_size=16, name='input')"
   ]
  },
  {
   "cell_type": "markdown",
   "id": "74ae8f66",
   "metadata": {},
   "source": [
    "## Dense Layer\n",
    "\n",
    "- Fully connected layer"
   ]
  },
  {
   "cell_type": "code",
   "execution_count": 11,
   "id": "785d69fe",
   "metadata": {},
   "outputs": [
    {
     "data": {
      "text/plain": [
       "<keras.layers.core.Dense at 0x7f3536211f40>"
      ]
     },
     "execution_count": 11,
     "metadata": {},
     "output_type": "execute_result"
    }
   ],
   "source": [
    "layers.Dense(10)"
   ]
  },
  {
   "cell_type": "code",
   "execution_count": 12,
   "id": "210ff1ef",
   "metadata": {},
   "outputs": [
    {
     "data": {
      "text/plain": [
       "<keras.layers.core.Dense at 0x7f35371c3610>"
      ]
     },
     "execution_count": 12,
     "metadata": {},
     "output_type": "execute_result"
    }
   ],
   "source": [
    "layers.Dense(10, name='layer1')"
   ]
  },
  {
   "cell_type": "markdown",
   "id": "4f22db6e",
   "metadata": {},
   "source": [
    "### 활성화 함수(activation) 지정"
   ]
  },
  {
   "cell_type": "code",
   "execution_count": 13,
   "id": "a5ba3cdf",
   "metadata": {},
   "outputs": [
    {
     "data": {
      "text/plain": [
       "<keras.layers.core.Dense at 0x7f3535898100>"
      ]
     },
     "execution_count": 13,
     "metadata": {},
     "output_type": "execute_result"
    }
   ],
   "source": [
    "layers.Dense(10, activation='softmax')"
   ]
  },
  {
   "cell_type": "code",
   "execution_count": 14,
   "id": "78c29b24",
   "metadata": {},
   "outputs": [
    {
     "data": {
      "text/plain": [
       "<keras.layers.core.Dense at 0x7f352f7684f0>"
      ]
     },
     "execution_count": 14,
     "metadata": {},
     "output_type": "execute_result"
    }
   ],
   "source": [
    "layers.Dense(10, activation='relu', name='Dense Layer')"
   ]
  },
  {
   "cell_type": "markdown",
   "id": "c3e99c35",
   "metadata": {},
   "source": [
    "### (5, 2) 랜덤값을 입력으로 하여 Dense Layer를 통과 시킨 결과\n",
    "- 결과는 (5, 10) 텐서"
   ]
  },
  {
   "cell_type": "code",
   "execution_count": 16,
   "id": "3f830833",
   "metadata": {},
   "outputs": [
    {
     "name": "stdout",
     "output_type": "stream",
     "text": [
      "tf.Tensor(\n",
      "[[0.264212   0.88392115]\n",
      " [0.11081052 0.7262325 ]\n",
      " [0.20273209 0.3745551 ]\n",
      " [0.5683526  0.02011859]\n",
      " [0.02595997 0.24767864]], shape=(5, 2), dtype=float32)\n",
      "[<tf.Variable 'dense_3/kernel:0' shape=(2, 10) dtype=float32, numpy=\n",
      "array([[ 0.67698985, -0.56744254, -0.00411808, -0.5584206 , -0.24561244,\n",
      "         0.03657842,  0.610771  ,  0.26128334,  0.5103081 , -0.08834386],\n",
      "       [ 0.4121577 , -0.21875513, -0.23368892,  0.70049506,  0.16733241,\n",
      "        -0.46975663, -0.6439586 ,  0.37553757,  0.29688996,  0.3345831 ]],\n",
      "      dtype=float32)>, <tf.Variable 'dense_3/bias:0' shape=(10,) dtype=float32, numpy=array([0., 0., 0., 0., 0., 0., 0., 0., 0., 0.], dtype=float32)>]\n",
      "<tf.Variable 'dense_3/bias:0' shape=(10,) dtype=float32, numpy=array([0., 0., 0., 0., 0., 0., 0., 0., 0., 0.], dtype=float32)>\n",
      "tf.Tensor(\n",
      "[[0.54318374 0.         0.         0.47164097 0.0830149  0.\n",
      "  0.         0.4009798  0.39725682 0.27240357]\n",
      " [0.37433994 0.         0.         0.44684342 0.0943058  0.\n",
      "  0.         0.30168054 0.27215865 0.2331957 ]\n",
      " [0.29162335 0.         0.         0.14916423 0.01288169 0.\n",
      "  0.         0.19363004 0.21465749 0.10740968]\n",
      " [0.39306095 0.         0.         0.         0.         0.01133859\n",
      "  0.33417773 0.15605634 0.29600793 0.        ]\n",
      " [0.11965729 0.         0.         0.15900108 0.03506857 0.\n",
      "  0.         0.09979554 0.08678088 0.08057568]], shape=(5, 10), dtype=float32)\n"
     ]
    }
   ],
   "source": [
    "inputs = tf.random.uniform(shape=(5, 2))\n",
    "print(inputs)\n",
    "layer = layers.Dense(10, activation='relu')\n",
    "outputs = layer(inputs)\n",
    "print(layer.weights)\n",
    "print(layer.bias)\n",
    "print(outputs)"
   ]
  },
  {
   "cell_type": "markdown",
   "id": "a69921f4",
   "metadata": {},
   "source": [
    "## Activation Layer\n",
    "\n",
    "- 활성화 함수는 이전 레이어의 결과값을 변환하여 다른 레이어로 전달하는 역할\n",
    "- 크게 선형 활성화 함수(Linear activation function)와 비선형 활성화 함수(Non-linear activation function)로 구분\n",
    "- 딥러닝에서는 선형 활성화 함수를 사용하면 다층 구조를 사용하는 의미가 없기 때문에 모델 표현력을 위해서 **비선형 활성화 함수** 를 사용\n",
    "- 케라스의 Dense 레이어에서 미리 활성화 함수를 지정할 수도 있지만, 필요에 따라 별도의 Activation 레이어를 만들어줄 수 있다."
   ]
  },
  {
   "cell_type": "code",
   "execution_count": 17,
   "id": "c972713f",
   "metadata": {},
   "outputs": [
    {
     "data": {
      "image/png": "[encoded data removed]",
      "text/plain": [
       "<Figure size 432x288 with 1 Axes>"
      ]
     },
     "metadata": {
      "needs_background": "light"
     },
     "output_type": "display_data"
    }
   ],
   "source": [
    "import numpy as np\n",
    "import matplotlib.pyplot as plt\n",
    "\n",
    "input = np.linspace(-10, 10, 100)\n",
    "x = np.linspace(-10, 10, 100)\n",
    "plt.scatter(x, input)\n",
    "plt.show()"
   ]
  },
  {
   "cell_type": "markdown",
   "id": "7c0ff8ca",
   "metadata": {},
   "source": [
    "### 시그모이드 함수"
   ]
  },
  {
   "cell_type": "code",
   "execution_count": 18,
   "id": "f5c8f93a",
   "metadata": {},
   "outputs": [
    {
     "data": {
      "image/png": "[encoded data removed]",
      "text/plain": [
       "<Figure size 432x288 with 1 Axes>"
      ]
     },
     "metadata": {
      "needs_background": "light"
     },
     "output_type": "display_data"
    }
   ],
   "source": [
    "layer = layers.Activation('sigmoid')\n",
    "output = layer(input)\n",
    "\n",
    "plt.scatter(x, output)\n",
    "plt.show()"
   ]
  },
  {
   "cell_type": "markdown",
   "id": "f52ab006",
   "metadata": {},
   "source": [
    "### 하이퍼볼릭 탄젠트 함수"
   ]
  },
  {
   "cell_type": "code",
   "execution_count": 20,
   "id": "5e420d98",
   "metadata": {},
   "outputs": [
    {
     "data": {
      "image/png": "[encoded data removed]",
      "text/plain": [
       "<Figure size 432x288 with 1 Axes>"
      ]
     },
     "metadata": {
      "needs_background": "light"
     },
     "output_type": "display_data"
    }
   ],
   "source": [
    "layer = layers.Activation('tanh')\n",
    "output = layer(input)\n",
    "\n",
    "plt.scatter(x, output)\n",
    "plt.show()"
   ]
  },
  {
   "cell_type": "markdown",
   "id": "cdf442c9",
   "metadata": {},
   "source": [
    "### ReLU 함수\n",
    "\n",
    "- 출력값은 0부터 무한대까지의 범위의 값을 가지므로 하이퍼볼릭 탄젠트 함수보다 몇 배는 더 빠르게 훈련\n",
    "- ReLU 함수 출력값이 0이 중심이 아니고, 학습률(learning rate)이 크면 ReLU를 사용한 노드에서 출력이 0으로만 나온다는 문제가 있음"
   ]
  },
  {
   "cell_type": "code",
   "execution_count": 21,
   "id": "ce2988dc",
   "metadata": {},
   "outputs": [
    {
     "data": {
      "image/png": "[encoded data removed]",
      "text/plain": [
       "<Figure size 432x288 with 1 Axes>"
      ]
     },
     "metadata": {
      "needs_background": "light"
     },
     "output_type": "display_data"
    }
   ],
   "source": [
    "layer = layers.Activation('relu')\n",
    "output = layer(input)\n",
    "\n",
    "plt.scatter(x, output)\n",
    "plt.show()"
   ]
  },
  {
   "cell_type": "markdown",
   "id": "855eba3a",
   "metadata": {},
   "source": [
    "### Leaky ReLU 함수"
   ]
  },
  {
   "cell_type": "code",
   "execution_count": 23,
   "id": "b9ff1502",
   "metadata": {},
   "outputs": [
    {
     "data": {
      "image/png": "[encoded data removed]",
      "text/plain": [
       "<Figure size 432x288 with 1 Axes>"
      ]
     },
     "metadata": {
      "needs_background": "light"
     },
     "output_type": "display_data"
    }
   ],
   "source": [
    "layer = layers.LeakyReLU()\n",
    "output = layer(input)\n",
    "\n",
    "plt.scatter(x, output)\n",
    "plt.show()"
   ]
  },
  {
   "cell_type": "markdown",
   "id": "6824677b",
   "metadata": {},
   "source": [
    "### ELU 함수\n",
    "- ReLU가 중심점이 0이 아니고, 노드 출력을 0으로만 하던 문제를 해결한 활성화 함수\n",
    "-  0 이하에서는 exponential 연산이 수행되므로 계산 비용이 높아지는 단점"
   ]
  },
  {
   "cell_type": "code",
   "execution_count": 25,
   "id": "d7c37e5e",
   "metadata": {},
   "outputs": [
    {
     "data": {
      "image/png": "[encoded data removed]",
      "text/plain": [
       "<Figure size 432x288 with 1 Axes>"
      ]
     },
     "metadata": {
      "needs_background": "light"
     },
     "output_type": "display_data"
    }
   ],
   "source": [
    "layer = layers.ELU()\n",
    "output = layer(input)\n",
    "\n",
    "plt.scatter(x, output)\n",
    "plt.show()"
   ]
  },
  {
   "cell_type": "markdown",
   "id": "60f370a5",
   "metadata": {},
   "source": [
    "## Flatten 레이어\n",
    "- 배치 크기(또는 데이터 크기)를 제외하고 데이터를 1차원 형태로 평평하게 변환"
   ]
  },
  {
   "cell_type": "code",
   "execution_count": 26,
   "id": "e34cf267",
   "metadata": {},
   "outputs": [
    {
     "name": "stdout",
     "output_type": "stream",
     "text": [
      "(None, 784)\n"
     ]
    }
   ],
   "source": [
    "inputs = keras.Input(shape=(28, 28, 1))\n",
    "layer = layers.Flatten(input_shape=(28, 28, 1))(inputs)\n",
    "print(layer.shape)"
   ]
  },
  {
   "cell_type": "code",
   "execution_count": 27,
   "id": "7fd20f00",
   "metadata": {},
   "outputs": [
    {
     "name": "stdout",
     "output_type": "stream",
     "text": [
      "(None, 50176)\n"
     ]
    }
   ],
   "source": [
    "inputs = keras.Input(shape=(224, 224, 1))\n",
    "layer = layers.Flatten()(inputs)\n",
    "print(layer.shape)"
   ]
  },
  {
   "cell_type": "markdown",
   "id": "b5a15a99",
   "metadata": {},
   "source": [
    "# 3-3. 딥러닝 모델\n",
    "- Sequential\n",
    "- Functional\n",
    "- Subclassing\n"
   ]
  },
  {
   "cell_type": "code",
   "execution_count": 28,
   "id": "ddc17e2e",
   "metadata": {},
   "outputs": [],
   "source": [
    "from tensorflow.keras import models, utils"
   ]
  },
  {
   "cell_type": "markdown",
   "id": "44af230f",
   "metadata": {},
   "source": [
    "## Sequential API\n",
    "- 모델이 순차적인 구조로 진행할 때 사용하는 간단한 방법\n",
    "- 다중 입력 및 출력이 존재하는 등의 복잡한 모델을 구성할 수 없다"
   ]
  },
  {
   "cell_type": "code",
   "execution_count": 29,
   "id": "d18ca6c3",
   "metadata": {},
   "outputs": [
    {
     "name": "stdout",
     "output_type": "stream",
     "text": [
      "Model: \"sequential\"\n",
      "_________________________________________________________________\n",
      "Layer (type)                 Output Shape              Param #   \n",
      "=================================================================\n",
      "dense_4 (Dense)              (None, 28, 300)           8700      \n",
      "_________________________________________________________________\n",
      "dense_5 (Dense)              (None, 28, 100)           30100     \n",
      "_________________________________________________________________\n",
      "dense_6 (Dense)              (None, 28, 10)            1010      \n",
      "=================================================================\n",
      "Total params: 39,810\n",
      "Trainable params: 39,810\n",
      "Non-trainable params: 0\n",
      "_________________________________________________________________\n"
     ]
    }
   ],
   "source": [
    "model = models.Sequential()\n",
    "model.add(layers.Input(shape=(28, 28)))\n",
    "model.add(layers.Dense(300, activation='relu'))\n",
    "model.add(layers.Dense(100, activation='relu'))\n",
    "model.add(layers.Dense(10, activation='softmax'))\n",
    "model.summary()"
   ]
  },
  {
   "cell_type": "code",
   "execution_count": 30,
   "id": "2d5ad7a1",
   "metadata": {},
   "outputs": [
    {
     "data": {
      "image/png": "[encoded data removed]",
      "text/plain": [
       "<IPython.core.display.Image object>"
      ]
     },
     "execution_count": 30,
     "metadata": {},
     "output_type": "execute_result"
    }
   ],
   "source": [
    "utils.plot_model(model)"
   ]
  },
  {
   "cell_type": "code",
   "execution_count": 31,
   "id": "f2402783",
   "metadata": {},
   "outputs": [
    {
     "name": "stdout",
     "output_type": "stream",
     "text": [
      "Model: \"sequential_1\"\n",
      "_________________________________________________________________\n",
      "Layer (type)                 Output Shape              Param #   \n",
      "=================================================================\n",
      "Dense1 (Dense)               (None, 28, 300)           8700      \n",
      "_________________________________________________________________\n",
      "Dense2 (Dense)               (None, 28, 100)           30100     \n",
      "_________________________________________________________________\n",
      "Output (Dense)               (None, 28, 10)            1010      \n",
      "=================================================================\n",
      "Total params: 39,810\n",
      "Trainable params: 39,810\n",
      "Non-trainable params: 0\n",
      "_________________________________________________________________\n"
     ]
    }
   ],
   "source": [
    "model = models.Sequential([layers.Input(shape=(28, 28), name='Input'),\n",
    "                           layers.Dense(300, activation='relu', name='Dense1'),\n",
    "                           layers.Dense(100, activation='relu', name='Dense2'),\n",
    "                           layers.Dense(10, activation='softmax', name='Output')])\n",
    "model.summary()"
   ]
  },
  {
   "cell_type": "code",
   "execution_count": 33,
   "id": "77dba2e1",
   "metadata": {},
   "outputs": [
    {
     "data": {
      "image/png": "[encoded data removed]",
      "text/plain": [
       "<IPython.core.display.Image object>"
      ]
     },
     "execution_count": 33,
     "metadata": {},
     "output_type": "execute_result"
    }
   ],
   "source": [
    "utils.plot_model(model)"
   ]
  },
  {
   "cell_type": "markdown",
   "id": "08a0a626",
   "metadata": {},
   "source": [
    "## Functional API\n",
    "- 가장 권장되는 방법입\n",
    "- 딥러닝 모델을 복잡하고, 유연하게 구성하는 것이 가능하며, 다중 입출력을 다룰 수 있다."
   ]
  },
  {
   "cell_type": "code",
   "execution_count": 34,
   "id": "d11fffe3",
   "metadata": {},
   "outputs": [
    {
     "name": "stdout",
     "output_type": "stream",
     "text": [
      "Model: \"model\"\n",
      "_________________________________________________________________\n",
      "Layer (type)                 Output Shape              Param #   \n",
      "=================================================================\n",
      "input_8 (InputLayer)         [(None, 28, 28, 1)]       0         \n",
      "_________________________________________________________________\n",
      "flatten_2 (Flatten)          (None, 784)               0         \n",
      "_________________________________________________________________\n",
      "dense_7 (Dense)              (None, 300)               235500    \n",
      "_________________________________________________________________\n",
      "dense_8 (Dense)              (None, 100)               30100     \n",
      "_________________________________________________________________\n",
      "dense_9 (Dense)              (None, 10)                1010      \n",
      "=================================================================\n",
      "Total params: 266,610\n",
      "Trainable params: 266,610\n",
      "Non-trainable params: 0\n",
      "_________________________________________________________________\n"
     ]
    }
   ],
   "source": [
    "inputs = layers.Input(shape=(28, 28, 1))\n",
    "x = layers.Flatten(input_shape=(28, 28, 1))(inputs)\n",
    "x = layers.Dense(300, activation='relu')(x)\n",
    "x = layers.Dense(100, activation='relu')(x)\n",
    "x = layers.Dense(10, activation='softmax')(x)\n",
    "\n",
    "model = models.Model(inputs=inputs, outputs=x)\n",
    "model.summary()\n"
   ]
  },
  {
   "cell_type": "code",
   "execution_count": 35,
   "id": "4f7ce650",
   "metadata": {},
   "outputs": [
    {
     "data": {
      "image/png": "[encoded data removed]",
      "text/plain": [
       "<IPython.core.display.Image object>"
      ]
     },
     "execution_count": 35,
     "metadata": {},
     "output_type": "execute_result"
    }
   ],
   "source": [
    "utils.plot_model(model)"
   ]
  },
  {
   "cell_type": "markdown",
   "id": "291bf789",
   "metadata": {},
   "source": [
    "Input 객체를 여러 레이어에서 사용하는 것이 가능합니다. 아래의 예제에서는 Concatenate()를 이용하여 Dense 레이어 결과와 Input을 결합하였습니다."
   ]
  },
  {
   "cell_type": "code",
   "execution_count": 36,
   "id": "9248407f",
   "metadata": {},
   "outputs": [
    {
     "name": "stdout",
     "output_type": "stream",
     "text": [
      "Model: \"model_1\"\n",
      "__________________________________________________________________________________________________\n",
      "Layer (type)                    Output Shape         Param #     Connected to                     \n",
      "==================================================================================================\n",
      "input_9 (InputLayer)            [(None, 28, 28)]     0                                            \n",
      "__________________________________________________________________________________________________\n",
      "dense_10 (Dense)                (None, 28, 100)      2900        input_9[0][0]                    \n",
      "__________________________________________________________________________________________________\n",
      "dense_11 (Dense)                (None, 28, 30)       3030        dense_10[0][0]                   \n",
      "__________________________________________________________________________________________________\n",
      "concatenate (Concatenate)       (None, 28, 58)       0           input_9[0][0]                    \n",
      "                                                                 dense_11[0][0]                   \n",
      "__________________________________________________________________________________________________\n",
      "dense_12 (Dense)                (None, 28, 1)        59          concatenate[0][0]                \n",
      "==================================================================================================\n",
      "Total params: 5,989\n",
      "Trainable params: 5,989\n",
      "Non-trainable params: 0\n",
      "__________________________________________________________________________________________________\n"
     ]
    }
   ],
   "source": [
    "inputs = keras.Input(shape=(28, 28))\n",
    "hidden1 = layers.Dense(100, activation='relu')(inputs)\n",
    "hidden2 = layers.Dense(30, activation='relu')(hidden1)\n",
    "concat = layers.Concatenate()([inputs, hidden2])\n",
    "output = layers.Dense(1)(concat)\n",
    "\n",
    "model = models.Model(inputs=[inputs], outputs=[output])\n",
    "model.summary()"
   ]
  },
  {
   "cell_type": "code",
   "execution_count": 37,
   "id": "b2b0f107",
   "metadata": {},
   "outputs": [
    {
     "data": {
      "image/png": "[encoded data removed]",
      "text/plain": [
       "<IPython.core.display.Image object>"
      ]
     },
     "execution_count": 37,
     "metadata": {},
     "output_type": "execute_result"
    }
   ],
   "source": [
    "utils.plot_model(model)"
   ]
  },
  {
   "cell_type": "code",
   "execution_count": 38,
   "id": "5541138c",
   "metadata": {},
   "outputs": [
    {
     "name": "stdout",
     "output_type": "stream",
     "text": [
      "Model: \"model_2\"\n",
      "__________________________________________________________________________________________________\n",
      "Layer (type)                    Output Shape         Param #     Connected to                     \n",
      "==================================================================================================\n",
      "Input_2 (InputLayer)            [(None, 10, 28)]     0                                            \n",
      "__________________________________________________________________________________________________\n",
      "dense_13 (Dense)                (None, 10, 100)      2900        Input_2[0][0]                    \n",
      "__________________________________________________________________________________________________\n",
      "Input_1 (InputLayer)            [(None, 10, 10)]     0                                            \n",
      "__________________________________________________________________________________________________\n",
      "dense_14 (Dense)                (None, 10, 10)       1010        dense_13[0][0]                   \n",
      "__________________________________________________________________________________________________\n",
      "concatenate_1 (Concatenate)     (None, 10, 20)       0           Input_1[0][0]                    \n",
      "                                                                 dense_14[0][0]                   \n",
      "__________________________________________________________________________________________________\n",
      "output (Dense)                  (None, 10, 1)        21          concatenate_1[0][0]              \n",
      "==================================================================================================\n",
      "Total params: 3,931\n",
      "Trainable params: 3,931\n",
      "Non-trainable params: 0\n",
      "__________________________________________________________________________________________________\n"
     ]
    }
   ],
   "source": [
    "input_1 = keras.Input(shape=(10, 10), name='Input_1')\n",
    "input_2 = keras.Input(shape=(10, 28), name='Input_2')\n",
    "\n",
    "hidden1 = layers.Dense(100, activation='relu')(input_2)\n",
    "hidden2 = layers.Dense(10, activation='relu')(hidden1)\n",
    "concat = layers.Concatenate()([input_1, hidden2])\n",
    "output = layers.Dense(1, activation='sigmoid', name='output')(concat)\n",
    "\n",
    "model = models.Model(inputs=[input_1, input_2], outputs=[output])\n",
    "model.summary()"
   ]
  },
  {
   "cell_type": "code",
   "execution_count": 39,
   "id": "e03d2500",
   "metadata": {},
   "outputs": [
    {
     "data": {
      "image/png": "[encoded data removed]",
      "text/plain": [
       "<IPython.core.display.Image object>"
      ]
     },
     "execution_count": 39,
     "metadata": {},
     "output_type": "execute_result"
    }
   ],
   "source": [
    "utils.plot_model(model)"
   ]
  },
  {
   "cell_type": "markdown",
   "id": "613516ab",
   "metadata": {},
   "source": [
    " - 결과를 여러개로 나눠서 사용하는 것도 가능"
   ]
  },
  {
   "cell_type": "code",
   "execution_count": 40,
   "id": "18e72268",
   "metadata": {},
   "outputs": [
    {
     "name": "stdout",
     "output_type": "stream",
     "text": [
      "Model: \"model_3\"\n",
      "__________________________________________________________________________________________________\n",
      "Layer (type)                    Output Shape         Param #     Connected to                     \n",
      "==================================================================================================\n",
      "input_ (InputLayer)             [(None, 10, 10)]     0                                            \n",
      "__________________________________________________________________________________________________\n",
      "dense_15 (Dense)                (None, 10, 100)      1100        input_[0][0]                     \n",
      "__________________________________________________________________________________________________\n",
      "dense_16 (Dense)                (None, 10, 10)       1010        dense_15[0][0]                   \n",
      "__________________________________________________________________________________________________\n",
      "main_output (Dense)             (None, 10, 1)        11          dense_16[0][0]                   \n",
      "__________________________________________________________________________________________________\n",
      "sum_output (Dense)              (None, 10, 1)        11          dense_16[0][0]                   \n",
      "==================================================================================================\n",
      "Total params: 2,132\n",
      "Trainable params: 2,132\n",
      "Non-trainable params: 0\n",
      "__________________________________________________________________________________________________\n"
     ]
    }
   ],
   "source": [
    "input_ = keras.Input(shape=(10, 10), name='input_')\n",
    "hidden1 = layers.Dense(100, activation='relu')(input_)\n",
    "hidden2 = layers.Dense(10, activation='relu')(hidden1)\n",
    "output = layers.Dense(1, activation='sigmoid', name='main_output')(hidden2)\n",
    "sub_out = layers.Dense(1, name='sum_output')(hidden2)\n",
    "\n",
    "model = models.Model(inputs=[input_], outputs=[output, sub_out])\n",
    "model.summary()"
   ]
  },
  {
   "cell_type": "code",
   "execution_count": 41,
   "id": "14f070e9",
   "metadata": {},
   "outputs": [
    {
     "name": "stdout",
     "output_type": "stream",
     "text": [
      "Model: \"model_4\"\n",
      "__________________________________________________________________________________________________\n",
      "Layer (type)                    Output Shape         Param #     Connected to                     \n",
      "==================================================================================================\n",
      "input_2 (InputLayer)            [(None, 10, 28)]     0                                            \n",
      "__________________________________________________________________________________________________\n",
      "dense_17 (Dense)                (None, 10, 100)      2900        input_2[0][0]                    \n",
      "__________________________________________________________________________________________________\n",
      "input_1 (InputLayer)            [(None, 10, 10)]     0                                            \n",
      "__________________________________________________________________________________________________\n",
      "dense_18 (Dense)                (None, 10, 10)       1010        dense_17[0][0]                   \n",
      "__________________________________________________________________________________________________\n",
      "concatenate_2 (Concatenate)     (None, 10, 20)       0           input_1[0][0]                    \n",
      "                                                                 dense_18[0][0]                   \n",
      "__________________________________________________________________________________________________\n",
      "main_output (Dense)             (None, 10, 1)        21          concatenate_2[0][0]              \n",
      "__________________________________________________________________________________________________\n",
      "sum_output (Dense)              (None, 10, 1)        11          dense_18[0][0]                   \n",
      "==================================================================================================\n",
      "Total params: 3,942\n",
      "Trainable params: 3,942\n",
      "Non-trainable params: 0\n",
      "__________________________________________________________________________________________________\n"
     ]
    }
   ],
   "source": [
    "input_1 = keras.Input(shape=(10, 10), name='input_1')\n",
    "input_2 = keras.Input(shape=(10, 28), name='input_2')\n",
    "hidden1 = layers.Dense(100, activation='relu')(input_2)\n",
    "hidden2 = layers.Dense(10, activation='relu')(hidden1)\n",
    "concat = layers.Concatenate()([input_1, hidden2])\n",
    "output = layers.Dense(1, activation='sigmoid', name='main_output')(concat)\n",
    "sub_out = layers.Dense(1, name='sum_output')(hidden2)\n",
    "\n",
    "model = models.Model(inputs=[input_1, input_2], outputs=[output, sub_out])\n",
    "model.summary()"
   ]
  },
  {
   "cell_type": "code",
   "execution_count": 42,
   "id": "6bfc4174",
   "metadata": {},
   "outputs": [
    {
     "data": {
      "image/png": "[encoded data removed]",
      "text/plain": [
       "<IPython.core.display.Image object>"
      ]
     },
     "execution_count": 42,
     "metadata": {},
     "output_type": "execute_result"
    }
   ],
   "source": [
    "utils.plot_model(model)"
   ]
  },
  {
   "cell_type": "markdown",
   "id": "78dce340",
   "metadata": {},
   "source": [
    "## Subclassing API\n",
    "\n",
    "서브클래싱(Subclassing) 방법은 커스터마이징에 최적화된 방법으로, Model 클래스를 상속받아서 사용하고 모델에 포함되는 다음과 같은 기능을 사용할 수 있습니다.\n",
    "\n",
    "- fit(): 모델 학습\n",
    "- evaluate(): 모델 평가\n",
    "- predict(): 모델 예측\n",
    "- save(): 모델 저장\n",
    "- load(): 모델 불러오기\n",
    "- call(): 메소드안에서 원하는 계산 가능\n",
    "\n",
    "Subclassing API를 사용하면 Functional API로도 구현할 수 없는 모델들도 구현이 가능하지만, 객체지향 프로그래밍(Object-oriented Programming)에 익숙해야 합니다."
   ]
  },
  {
   "cell_type": "code",
   "execution_count": 43,
   "id": "ae94f7d8",
   "metadata": {},
   "outputs": [],
   "source": [
    "# Subclassing API의 예시\n",
    "class MyModel(models.Model):\n",
    "  def __init__(self, units=30, activation='relu', **kwargs):\n",
    "    super(MyModel, self).__init__(**kwargs)\n",
    "    self.dense_layer1 = layers.Dense(300, activation=activation)\n",
    "    self.dense_layer2 = layers.Dense(100, activation=activation)\n",
    "    self.dense_layer3 = layers.Dense(units, activation=activation)\n",
    "    self.output_layer = layers.Dense(10, activation='softmax')\n",
    "\n",
    "  def call(self, inputs):\n",
    "    x = self.dense_layer1(inputs)\n",
    "    x = self.dense_layer2(x)\n",
    "    x = self.dense_layer3(x)\n",
    "    x = self.output_layer(x)\n",
    "    return x"
   ]
  },
  {
   "cell_type": "code",
   "execution_count": 44,
   "id": "f246f101",
   "metadata": {},
   "outputs": [
    {
     "name": "stdout",
     "output_type": "stream",
     "text": [
      "Model: \"sequential_3\"\n",
      "_________________________________________________________________\n",
      "Layer (type)                 Output Shape              Param #   \n",
      "=================================================================\n",
      "flatten_3 (Flatten)          (None, 30000)             0         \n",
      "_________________________________________________________________\n",
      "dense_19 (Dense)             (None, 400)               12000400  \n",
      "_________________________________________________________________\n",
      "dense_20 (Dense)             (None, 200)               80200     \n",
      "_________________________________________________________________\n",
      "dense_21 (Dense)             (None, 100)               20100     \n",
      "=================================================================\n",
      "Total params: 12,100,700\n",
      "Trainable params: 12,100,700\n",
      "Non-trainable params: 0\n",
      "_________________________________________________________________\n"
     ]
    }
   ],
   "source": [
    "model = models.Sequential()\n",
    "\n",
    "# (100, 100, 3) 형태의 데이터를 받는 Input 레이어를 쌓으세요.\n",
    "model.add(layers.Input(shape = (100, 100, 3)))\n",
    "\n",
    "# Flatten 레이어를 쌓으세요.\n",
    "model.add(layers.Flatten())\n",
    "\n",
    "# Unit의 수는 400, 활성화함수는 ReLU를 사용하는 Dense 레이어를 쌓으세요.\n",
    "model.add(layers.Dense(400, activation = \"relu\"))\n",
    "# Unit의 수는 200, 활성화함수는 ReLU를 사용하는 Dense 레이어를 쌓으세요.\n",
    "model.add(layers.Dense(200, activation = \"relu\"))\n",
    "\n",
    "# Unit의 수는 100, 활성화함수는 Softmax를 사용하는 Dense 레이어를 쌓으세요.\n",
    "model.add(layers.Dense(100, activation = \"softmax\"))\n",
    "\n",
    "model.summary()"
   ]
  },
  {
   "cell_type": "code",
   "execution_count": 45,
   "id": "3c710f79",
   "metadata": {},
   "outputs": [
    {
     "name": "stdout",
     "output_type": "stream",
     "text": [
      "Model: \"model_5\"\n",
      "_________________________________________________________________\n",
      "Layer (type)                 Output Shape              Param #   \n",
      "=================================================================\n",
      "input_11 (InputLayer)        [(None, 100, 100, 3)]     0         \n",
      "_________________________________________________________________\n",
      "flatten_4 (Flatten)          (None, 30000)             0         \n",
      "_________________________________________________________________\n",
      "dense_22 (Dense)             (None, 400)               12000400  \n",
      "_________________________________________________________________\n",
      "dense_23 (Dense)             (None, 200)               80200     \n",
      "_________________________________________________________________\n",
      "dense_24 (Dense)             (None, 100)               20100     \n",
      "=================================================================\n",
      "Total params: 12,100,700\n",
      "Trainable params: 12,100,700\n",
      "Non-trainable params: 0\n",
      "_________________________________________________________________\n"
     ]
    }
   ],
   "source": [
    "# (100, 100, 3) 형태의 데이터를 받는 Input 레이어를 쌓으세요\n",
    "inputs = layers.Input(shape = (100, 100, 3))\n",
    "\n",
    "# Flatten 레이어를 쌓으세요.\n",
    "x = layers.Flatten()(inputs)\n",
    "\n",
    "# Unit의 수는 400, 활성화함수는 ReLU를 사용하는 Dense 레이어를 쌓으세요.\n",
    "x = layers.Dense(400, activation = \"relu\")(x)\n",
    "\n",
    "# Unit의 수는 200, 활성화함수는 ReLU를 사용하는 Dense 레이어를 쌓으세요.\n",
    "x = layers.Dense(200, activation = \"relu\")(x)\n",
    "\n",
    "# Unit의 수는 100, 활성화함수는 Softmax를 사용하는 Dense 레이어를 쌓으세요.\n",
    "x = layers.Dense(100, activation = \"softmax\")(x)\n",
    "\n",
    "model = models.Model(inputs = inputs, outputs = x)\n",
    "model.summary()"
   ]
  },
  {
   "cell_type": "code",
   "execution_count": 46,
   "id": "e67eaa28",
   "metadata": {},
   "outputs": [
    {
     "name": "stdout",
     "output_type": "stream",
     "text": [
      "Model: \"your_model\"\n",
      "_________________________________________________________________\n",
      "Layer (type)                 Output Shape              Param #   \n",
      "=================================================================\n",
      "flatten_5 (Flatten)          multiple                  0         \n",
      "_________________________________________________________________\n",
      "dense_25 (Dense)             multiple                  12000400  \n",
      "_________________________________________________________________\n",
      "dense_26 (Dense)             multiple                  80200     \n",
      "_________________________________________________________________\n",
      "dense_27 (Dense)             multiple                  20100     \n",
      "=================================================================\n",
      "Total params: 12,100,700\n",
      "Trainable params: 12,100,700\n",
      "Non-trainable params: 0\n",
      "_________________________________________________________________\n"
     ]
    }
   ],
   "source": [
    "class YourModel(models.Model):\n",
    "  def __init__(self, **kwargs):\n",
    "    super(YourModel, self).__init__(**kwargs)\n",
    "    # Flatten 레이어를 쌓으세요.\n",
    "    self.flat_layer = layers.Flatten()\n",
    "    # Unit의 수는 400, 활성화함수는 ReLU를 사용하는 Dense 레이어를 쌓으세요.\n",
    "    self.dense_layer1 = layers.Dense(400, activation = \"relu\")\n",
    "    # Unit의 수는 200, 활성화함수는 ReLU를 사용하는 Dense 레이어를 쌓으세요.\n",
    "    self.dense_layer2 = layers.Dense(200, activation = \"relu\")\n",
    "    # Unit의 수는 100, 활성화함수는 Softmax를 사용하는 Dense 레이어를 쌓으세요.\n",
    "    self.output_layer = layers.Dense(100, activation = \"relu\")\n",
    "\n",
    "  def call(self, inputs):\n",
    "    # Flatten 레이어를 통과한 뒤 Dense 레이어를 400 -> 200 -> 100 순으로 통과하도록 쌓으세요.\n",
    "    x = self.flat_layer(inputs)\n",
    "    x = self.dense_layer1(x)\n",
    "    x = self.dense_layer2(x)\n",
    "    x = self.output_layer(x)\n",
    "    return x\n",
    "\n",
    "# (100, 100, 3) 형태를 가진 임의의 텐서를 생성해줍니다.\n",
    "data = tf.random.normal([100, 100, 3])\n",
    "# 데이터는 일반적으로 batch 단위로 들어가기 때문에 batch 차원을 추가해주겠습니다.\n",
    "data = tf.reshape(data, (-1, 100, 100, 3))\n",
    "model = YourModel()\n",
    "model(data)\n",
    "\n",
    "model.summary()"
   ]
  },
  {
   "cell_type": "code",
   "execution_count": 47,
   "id": "29178dae",
   "metadata": {},
   "outputs": [
    {
     "name": "stdout",
     "output_type": "stream",
     "text": [
      "Model: \"model_6\"\n",
      "__________________________________________________________________________________________________\n",
      "Layer (type)                    Output Shape         Param #     Connected to                     \n",
      "==================================================================================================\n",
      "input_12 (InputLayer)           [(None, 40)]         0                                            \n",
      "__________________________________________________________________________________________________\n",
      "input_13 (InputLayer)           [(None, 10)]         0                                            \n",
      "__________________________________________________________________________________________________\n",
      "dense_28 (Dense)                (None, 100)          4100        input_12[0][0]                   \n",
      "__________________________________________________________________________________________________\n",
      "dense_29 (Dense)                (None, 100)          1100        input_13[0][0]                   \n",
      "__________________________________________________________________________________________________\n",
      "concatenate_3 (Concatenate)     (None, 200)          0           dense_28[0][0]                   \n",
      "                                                                 dense_29[0][0]                   \n",
      "__________________________________________________________________________________________________\n",
      "dense_30 (Dense)                (None, 40)           8040        concatenate_3[0][0]              \n",
      "__________________________________________________________________________________________________\n",
      "dense_31 (Dense)                (None, 10)           410         dense_30[0][0]                   \n",
      "__________________________________________________________________________________________________\n",
      "dense_32 (Dense)                (None, 1)            201         concatenate_3[0][0]              \n",
      "==================================================================================================\n",
      "Total params: 13,851\n",
      "Trainable params: 13,851\n",
      "Non-trainable params: 0\n",
      "__________________________________________________________________________________________________\n"
     ]
    }
   ],
   "source": [
    "# Functional API 방식 혹은 Subclassing API 방식으로 구현해주세요.\n",
    "\n",
    "input_1 = layers.Input(shape=(40))\n",
    "input_2 = layers.Input(shape=(10))\n",
    "hidden1 = layers.Dense(100, activation = \"relu\")(input_1)\n",
    "hidden2 = layers.Dense(100, activation = \"relu\")(input_2)\n",
    "concat = layers.Concatenate()([hidden1, hidden2])\n",
    "hidden4 = layers.Dense(40, activation = \"relu\")(concat)\n",
    "output_1 = layers.Dense(10, activation = \"softmax\")(hidden4)\n",
    "output_2 = layers.Dense(1, activation = \"sigmoid\")(concat)\n",
    "\n",
    "model = models.Model(inputs = [input_1, input_2], outputs = [output_1, output_2])\n",
    "model.summary()\n"
   ]
  },
  {
   "cell_type": "code",
   "execution_count": 48,
   "id": "1db0129b",
   "metadata": {},
   "outputs": [
    {
     "data": {
      "image/png": "[encoded data removed]",
      "text/plain": [
       "<IPython.core.display.Image object>"
      ]
     },
     "execution_count": 48,
     "metadata": {},
     "output_type": "execute_result"
    }
   ],
   "source": [
    "utils.plot_model(model)"
   ]
  },
  {
   "cell_type": "code",
   "execution_count": null,
   "id": "ae7eef51",
   "metadata": {},
   "outputs": [],
   "source": []
  }
 ],
 "metadata": {
  "kernelspec": {
   "display_name": "Python 3 (ipykernel)",
   "language": "python",
   "name": "python3"
  },
  "language_info": {
   "codemirror_mode": {
    "name": "ipython",
    "version": 3
   },
   "file_extension": ".py",
   "mimetype": "text/x-python",
   "name": "python",
   "nbconvert_exporter": "python",
   "pygments_lexer": "ipython3",
   "version": "3.9.7"
  }
 },
 "nbformat": 4,
 "nbformat_minor": 5
}
