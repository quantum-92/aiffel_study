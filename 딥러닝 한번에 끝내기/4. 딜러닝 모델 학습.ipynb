{
 "cells": [
  {
   "cell_type": "code",
   "execution_count": 2,
   "id": "451d91c7",
   "metadata": {},
   "outputs": [
    {
     "data": {
      "image/png": "[encoded data removed]",
      "text/plain": [
       "<Figure size 432x288 with 1 Axes>"
      ]
     },
     "metadata": {
      "needs_background": "light"
     },
     "output_type": "display_data"
    }
   ],
   "source": [
    "import numpy as np\n",
    "import matplotlib.pyplot as plt\n",
    "from sklearn.datasets import make_regression\n",
    "\n",
    "X, y = make_regression(n_samples=200, n_features=1, \n",
    "                       bias=5.0, noise=5.0, random_state=123)\n",
    "y = np.expand_dims(y, axis=1)\n",
    "\n",
    "plt.scatter(X, y)\n",
    "plt.show()"
   ]
  },
  {
   "cell_type": "code",
   "execution_count": 3,
   "id": "e594c439",
   "metadata": {},
   "outputs": [
    {
     "name": "stdout",
     "output_type": "stream",
     "text": [
      "(160, 1) (160, 1)\n",
      "(40, 1) (40, 1)\n"
     ]
    }
   ],
   "source": [
    "from sklearn.model_selection import train_test_split\n",
    "\n",
    "x_train, x_test, y_train, y_test = train_test_split(X, y, \n",
    "                                                    test_size=0.2, \n",
    "                                                    shuffle=True,\n",
    "                                                    random_state=123)\n",
    "\n",
    "print(x_train.shape, y_train.shape)\n",
    "print(x_test.shape, y_test.shape)"
   ]
  },
  {
   "cell_type": "code",
   "execution_count": 4,
   "id": "68175f71",
   "metadata": {},
   "outputs": [],
   "source": [
    "import tensorflow as tf\n",
    "from tensorflow import keras\n",
    "from tensorflow.keras import models, layers, optimizers, utils"
   ]
  },
  {
   "cell_type": "code",
   "execution_count": 7,
   "id": "d90edb5c",
   "metadata": {},
   "outputs": [
    {
     "name": "stdout",
     "output_type": "stream",
     "text": [
      "Model: \"sequential_2\"\n",
      "_________________________________________________________________\n",
      "Layer (type)                 Output Shape              Param #   \n",
      "=================================================================\n",
      "dense_2 (Dense)              (None, 1)                 2         \n",
      "=================================================================\n",
      "Total params: 2\n",
      "Trainable params: 2\n",
      "Non-trainable params: 0\n",
      "_________________________________________________________________\n"
     ]
    }
   ],
   "source": [
    "model = keras.Sequential()\n",
    "model.add(layers.Dense(1, activation='linear', input_shape=(1, )))\n",
    "model.summary()"
   ]
  },
  {
   "cell_type": "code",
   "execution_count": 8,
   "id": "41027f4c",
   "metadata": {},
   "outputs": [
    {
     "data": {
      "image/png": "[encoded data removed]",
      "text/plain": [
       "<IPython.core.display.Image object>"
      ]
     },
     "execution_count": 8,
     "metadata": {},
     "output_type": "execute_result"
    }
   ],
   "source": [
    "utils.plot_model(model)"
   ]
  },
  {
   "cell_type": "code",
   "execution_count": 9,
   "id": "7e945187",
   "metadata": {},
   "outputs": [
    {
     "name": "stdout",
     "output_type": "stream",
     "text": [
      "Epoch 1/40\n",
      "5/5 [==============================] - 0s 2ms/step - loss: 522.2958 - mae: 18.3569 - mse: 522.2958\n",
      "Epoch 2/40\n",
      "5/5 [==============================] - 0s 1ms/step - loss: 420.3734 - mae: 16.4197 - mse: 420.3734\n",
      "Epoch 3/40\n",
      "5/5 [==============================] - 0s 1ms/step - loss: 339.9411 - mae: 14.8617 - mse: 339.9411\n",
      "Epoch 4/40\n",
      "5/5 [==============================] - 0s 1ms/step - loss: 273.9699 - mae: 13.3182 - mse: 273.9699\n",
      "Epoch 5/40\n",
      "5/5 [==============================] - 0s 1ms/step - loss: 222.6506 - mae: 12.0058 - mse: 222.6506\n",
      "Epoch 6/40\n",
      "5/5 [==============================] - 0s 1ms/step - loss: 181.7174 - mae: 10.8109 - mse: 181.7174\n",
      "Epoch 7/40\n",
      "5/5 [==============================] - 0s 2ms/step - loss: 148.7620 - mae: 9.7791 - mse: 148.7620\n",
      "Epoch 8/40\n",
      "5/5 [==============================] - 0s 2ms/step - loss: 122.8034 - mae: 8.8795 - mse: 122.8034\n",
      "Epoch 9/40\n",
      "5/5 [==============================] - 0s 2ms/step - loss: 102.2282 - mae: 8.0896 - mse: 102.2282\n",
      "Epoch 10/40\n",
      "5/5 [==============================] - 0s 1ms/step - loss: 85.5082 - mae: 7.4232 - mse: 85.5082\n",
      "Epoch 11/40\n",
      "5/5 [==============================] - 0s 2ms/step - loss: 72.2864 - mae: 6.8090 - mse: 72.2864\n",
      "Epoch 12/40\n",
      "5/5 [==============================] - 0s 2ms/step - loss: 61.7499 - mae: 6.3188 - mse: 61.7499\n",
      "Epoch 13/40\n",
      "5/5 [==============================] - 0s 1ms/step - loss: 53.4239 - mae: 5.8644 - mse: 53.4239\n",
      "Epoch 14/40\n",
      "5/5 [==============================] - 0s 2ms/step - loss: 46.6861 - mae: 5.4460 - mse: 46.6861\n",
      "Epoch 15/40\n",
      "5/5 [==============================] - 0s 2ms/step - loss: 41.4760 - mae: 5.1234 - mse: 41.4760\n",
      "Epoch 16/40\n",
      "5/5 [==============================] - 0s 1ms/step - loss: 37.1635 - mae: 4.8393 - mse: 37.1635\n",
      "Epoch 17/40\n",
      "5/5 [==============================] - 0s 2ms/step - loss: 33.8254 - mae: 4.5992 - mse: 33.8254\n",
      "Epoch 18/40\n",
      "5/5 [==============================] - 0s 1ms/step - loss: 31.1150 - mae: 4.3980 - mse: 31.1150\n",
      "Epoch 19/40\n",
      "5/5 [==============================] - 0s 2ms/step - loss: 28.9887 - mae: 4.2219 - mse: 28.9887\n",
      "Epoch 20/40\n",
      "5/5 [==============================] - 0s 2ms/step - loss: 27.3103 - mae: 4.0930 - mse: 27.3103\n",
      "Epoch 21/40\n",
      "5/5 [==============================] - 0s 1ms/step - loss: 25.9342 - mae: 3.9955 - mse: 25.9342\n",
      "Epoch 22/40\n",
      "5/5 [==============================] - 0s 2ms/step - loss: 24.8510 - mae: 3.9190 - mse: 24.8510\n",
      "Epoch 23/40\n",
      "5/5 [==============================] - 0s 3ms/step - loss: 23.9942 - mae: 3.8459 - mse: 23.9942\n",
      "Epoch 24/40\n",
      "5/5 [==============================] - 0s 2ms/step - loss: 23.3030 - mae: 3.8096 - mse: 23.3030\n",
      "Epoch 25/40\n",
      "5/5 [==============================] - 0s 1ms/step - loss: 22.7780 - mae: 3.7678 - mse: 22.7780\n",
      "Epoch 26/40\n",
      "5/5 [==============================] - 0s 2ms/step - loss: 22.3386 - mae: 3.7349 - mse: 22.3386\n",
      "Epoch 27/40\n",
      "5/5 [==============================] - 0s 2ms/step - loss: 21.9722 - mae: 3.7045 - mse: 21.9722\n",
      "Epoch 28/40\n",
      "5/5 [==============================] - 0s 1ms/step - loss: 21.7032 - mae: 3.6856 - mse: 21.7032\n",
      "Epoch 29/40\n",
      "5/5 [==============================] - 0s 2ms/step - loss: 21.4994 - mae: 3.6709 - mse: 21.4994\n",
      "Epoch 30/40\n",
      "5/5 [==============================] - 0s 2ms/step - loss: 21.3061 - mae: 3.6541 - mse: 21.3061\n",
      "Epoch 31/40\n",
      "5/5 [==============================] - 0s 2ms/step - loss: 21.1889 - mae: 3.6468 - mse: 21.1889\n",
      "Epoch 32/40\n",
      "5/5 [==============================] - 0s 3ms/step - loss: 21.0369 - mae: 3.6353 - mse: 21.0369\n",
      "Epoch 33/40\n",
      "5/5 [==============================] - ETA: 0s - loss: 17.1289 - mae: 3.4203 - mse: 17.128 - 0s 2ms/step - loss: 20.9636 - mae: 3.6299 - mse: 20.9636\n",
      "Epoch 34/40\n",
      "5/5 [==============================] - 0s 2ms/step - loss: 20.9316 - mae: 3.6257 - mse: 20.9316\n",
      "Epoch 35/40\n",
      "5/5 [==============================] - 0s 2ms/step - loss: 20.8344 - mae: 3.6138 - mse: 20.8344\n",
      "Epoch 36/40\n",
      "5/5 [==============================] - 0s 1ms/step - loss: 20.8034 - mae: 3.6107 - mse: 20.8034\n",
      "Epoch 37/40\n",
      "5/5 [==============================] - 0s 2ms/step - loss: 20.7532 - mae: 3.6092 - mse: 20.7532\n",
      "Epoch 38/40\n",
      "5/5 [==============================] - 0s 2ms/step - loss: 20.7257 - mae: 3.6068 - mse: 20.7257\n",
      "Epoch 39/40\n",
      "5/5 [==============================] - 0s 2ms/step - loss: 20.7241 - mae: 3.6056 - mse: 20.7241\n",
      "Epoch 40/40\n",
      "5/5 [==============================] - 0s 2ms/step - loss: 20.6757 - mae: 3.6015 - mse: 20.6757\n"
     ]
    }
   ],
   "source": [
    "optimizer = optimizers.SGD()\n",
    "model.compile(loss='mse', optimizer=optimizer, metrics=['mae', 'mse'])\n",
    "history = model.fit(x_train, y_train, epochs=40)"
   ]
  },
  {
   "cell_type": "code",
   "execution_count": 11,
   "id": "87a24a6a",
   "metadata": {},
   "outputs": [
    {
     "data": {
      "image/png": "[encoded data removed]",
      "text/plain": [
       "<Figure size 432x288 with 1 Axes>"
      ]
     },
     "metadata": {
      "needs_background": "light"
     },
     "output_type": "display_data"
    }
   ],
   "source": [
    "plt.plot(history.history['mae'])\n",
    "plt.plot(history.history['mse'])\n",
    "plt.xlabel('Epoch')\n",
    "plt.legend(['mae', 'mse'])\n",
    "plt.show();"
   ]
  },
  {
   "cell_type": "code",
   "execution_count": 10,
   "id": "504da652",
   "metadata": {},
   "outputs": [
    {
     "name": "stdout",
     "output_type": "stream",
     "text": [
      "2/2 [==============================] - 0s 3ms/step - loss: 21.8860 - mae: 3.9860 - mse: 21.8860\n"
     ]
    },
    {
     "data": {
      "text/plain": [
       "[21.886037826538086, 3.9860427379608154, 21.886037826538086]"
      ]
     },
     "execution_count": 10,
     "metadata": {},
     "output_type": "execute_result"
    }
   ],
   "source": [
    "model.evaluate(x_test, y_test)"
   ]
  },
  {
   "cell_type": "code",
   "execution_count": 12,
   "id": "4b0b2009",
   "metadata": {},
   "outputs": [
    {
     "data": {
      "image/png": "[encoded data removed]",
      "text/plain": [
       "<Figure size 432x288 with 1 Axes>"
      ]
     },
     "metadata": {
      "needs_background": "light"
     },
     "output_type": "display_data"
    }
   ],
   "source": [
    "result = model.predict(X)\n",
    "\n",
    "plt.scatter(X, y)\n",
    "plt.plot(X, result, 'r')\n",
    "plt.show()"
   ]
  },
  {
   "cell_type": "code",
   "execution_count": 13,
   "id": "ae779bc7",
   "metadata": {},
   "outputs": [
    {
     "data": {
      "text/plain": [
       "[<keras.layers.core.Dense at 0x7fc1c5389850>]"
      ]
     },
     "execution_count": 13,
     "metadata": {},
     "output_type": "execute_result"
    }
   ],
   "source": [
    "model.layers"
   ]
  },
  {
   "cell_type": "code",
   "execution_count": 17,
   "id": "39204bc7",
   "metadata": {},
   "outputs": [
    {
     "name": "stdout",
     "output_type": "stream",
     "text": [
      "dense_2\n",
      "dense_2\n"
     ]
    }
   ],
   "source": [
    "layer = model.layers[0]\n",
    "print(layer.name)\n",
    "layer = model.get_layer('dense_2')\n",
    "print(layer.name)"
   ]
  },
  {
   "cell_type": "code",
   "execution_count": 18,
   "id": "54c41c9c",
   "metadata": {},
   "outputs": [
    {
     "name": "stdout",
     "output_type": "stream",
     "text": [
      "[[22.924948]]\n",
      "[4.175327]\n"
     ]
    }
   ],
   "source": [
    "weights, biases = layer.get_weights()\n",
    "print(weights)\n",
    "print(biases)"
   ]
  },
  {
   "cell_type": "code",
   "execution_count": 19,
   "id": "e384cd41",
   "metadata": {},
   "outputs": [
    {
     "data": {
      "image/png": "[encoded data removed]",
      "text/plain": [
       "<Figure size 432x288 with 1 Axes>"
      ]
     },
     "metadata": {
      "needs_background": "light"
     },
     "output_type": "display_data"
    }
   ],
   "source": [
    "plt.scatter(X, y)\n",
    "plt.plot(X, np.array(weights * X + biases), 'r')\n",
    "plt.show()"
   ]
  },
  {
   "cell_type": "markdown",
   "id": "49a948e8",
   "metadata": {},
   "source": [
    "실제 정답과 딥러닝 모델이 예측한 정답을 비교하여 실제 정답에 가깝게 예측할 수 있도록 스스로 학습합니다."
   ]
  },
  {
   "cell_type": "code",
   "execution_count": null,
   "id": "17e86d81",
   "metadata": {},
   "outputs": [],
   "source": []
  }
 ],
 "metadata": {
  "kernelspec": {
   "display_name": "Python 3 (ipykernel)",
   "language": "python",
   "name": "python3"
  },
  "language_info": {
   "codemirror_mode": {
    "name": "ipython",
    "version": 3
   },
   "file_extension": ".py",
   "mimetype": "text/x-python",
   "name": "python",
   "nbconvert_exporter": "python",
   "pygments_lexer": "ipython3",
   "version": "3.9.7"
  }
 },
 "nbformat": 4,
 "nbformat_minor": 5
}
