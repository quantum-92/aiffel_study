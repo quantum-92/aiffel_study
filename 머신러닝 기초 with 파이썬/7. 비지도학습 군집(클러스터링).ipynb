{
 "cells": [
  {
   "cell_type": "markdown",
   "id": "40f00ddf",
   "metadata": {},
   "source": [
    "## 군집(클러스터링)\n",
    "- 유사성이 높은 대상의 집단을 분류하는 분석방법\n",
    "    - 레이블이 없는 상태에서 분류\n",
    "- 계층적 군집분석과 비계층적 군집분석\n",
    "    - 전통적인 계층적 군집분석은 군집의 개수가 나중에 선정됨.\n",
    "    - 비계층적 군집분석인 K-means는 군집의 수를 먼저 선정함.\n",
    "    - K-means 군집분석은 초기 중심값은 임의로 선정하며, 중심 값이 이동함.\n",
    "- 군집분석의 평가지표\n",
    "    - Silhouette(실루엣), Dunn index 등\n",
    "    \n",
    "###  군집분석을 설명한 자료\n",
    "https://www.youtube.com/watch?v=kijaeEGhcUY&list=PLalb9l0_6WAop2FpP4kFIOfhVSn2FN7RZ&index=3\n",
    "\n",
    "   "
   ]
  },
  {
   "cell_type": "markdown",
   "id": "f315d0ba",
   "metadata": {},
   "source": [
    "## 비계층적 군집분석\n",
    "- 대표적인 방법 K-means\n",
    "- K-평균군집(cnetroid): 임의의 지점 K개를 선택하여 해당 중심에서 가까운 데이터를 군집화하는 기법\n",
    "- n_clusters 하이퍼파라미터 반드시 설정"
   ]
  },
  {
   "cell_type": "code",
   "execution_count": 16,
   "id": "47901f31",
   "metadata": {},
   "outputs": [],
   "source": [
    "# KMeans 라이브러리\n",
    "from sklearn.cluster import KMeans\n",
    "import pandas as pd\n",
    "\n",
    "# 데이터 불러오기\n",
    "from sklearn.datasets import load_wine\n",
    "dataset = load_wine()\n",
    "data = pd.DataFrame(dataset.data, columns=dataset.feature_names)\n",
    "df = data.copy()"
   ]
  },
  {
   "cell_type": "code",
   "execution_count": 17,
   "id": "a3898660",
   "metadata": {},
   "outputs": [
    {
     "data": {
      "text/plain": [
       "KMeans(n_clusters=3)"
      ]
     },
     "execution_count": 17,
     "metadata": {},
     "output_type": "execute_result"
    }
   ],
   "source": [
    "# KMeans 선언 및 학습\n",
    "kmeans = KMeans(n_clusters = 3)\n",
    "kmeans.fit(df)"
   ]
  },
  {
   "cell_type": "code",
   "execution_count": 18,
   "id": "a33f55ca",
   "metadata": {},
   "outputs": [
    {
     "data": {
      "text/plain": [
       "array([1, 1, 1, 1, 0, 1, 1, 1, 1, 1, 1, 1, 1, 1, 1, 1, 1, 1, 1, 0, 0, 0,\n",
       "       1, 1, 0, 0, 1, 1, 0, 1, 1, 1, 1, 1, 1, 0, 0, 1, 1, 0, 0, 1, 1, 0,\n",
       "       0, 1, 1, 1, 1, 1, 1, 1, 1, 1, 1, 1, 1, 1, 1, 2, 0, 2, 0, 2, 2, 0,\n",
       "       2, 2, 0, 0, 0, 2, 2, 1, 0, 2, 2, 2, 0, 2, 2, 0, 0, 2, 2, 2, 2, 2,\n",
       "       0, 0, 2, 2, 2, 2, 2, 0, 0, 2, 0, 2, 0, 2, 2, 2, 0, 2, 2, 2, 2, 0,\n",
       "       2, 2, 0, 2, 2, 2, 2, 2, 2, 2, 0, 2, 2, 2, 2, 2, 2, 2, 2, 2, 0, 2,\n",
       "       2, 0, 0, 0, 0, 2, 2, 2, 0, 0, 2, 2, 0, 0, 2, 0, 0, 2, 2, 2, 2, 0,\n",
       "       0, 0, 2, 0, 0, 0, 2, 0, 2, 0, 0, 2, 0, 0, 0, 0, 2, 2, 0, 0, 0, 0,\n",
       "       0, 2], dtype=int32)"
      ]
     },
     "execution_count": 18,
     "metadata": {},
     "output_type": "execute_result"
    }
   ],
   "source": [
    "# KMeans 예측\n",
    "pred = kmeans.predict(df)\n",
    "pred"
   ]
  },
  {
   "cell_type": "code",
   "execution_count": 19,
   "id": "2d0bf938",
   "metadata": {},
   "outputs": [
    {
     "data": {
      "text/html": [
       "<div>\n",
       "<style scoped>\n",
       "    .dataframe tbody tr th:only-of-type {\n",
       "        vertical-align: middle;\n",
       "    }\n",
       "\n",
       "    .dataframe tbody tr th {\n",
       "        vertical-align: top;\n",
       "    }\n",
       "\n",
       "    .dataframe thead th {\n",
       "        text-align: right;\n",
       "    }\n",
       "</style>\n",
       "<table border=\"1\" class=\"dataframe\">\n",
       "  <thead>\n",
       "    <tr style=\"text-align: right;\">\n",
       "      <th></th>\n",
       "      <th>alcohol</th>\n",
       "      <th>malic_acid</th>\n",
       "      <th>ash</th>\n",
       "      <th>alcalinity_of_ash</th>\n",
       "      <th>magnesium</th>\n",
       "      <th>total_phenols</th>\n",
       "      <th>flavanoids</th>\n",
       "      <th>nonflavanoid_phenols</th>\n",
       "      <th>proanthocyanins</th>\n",
       "      <th>color_intensity</th>\n",
       "      <th>hue</th>\n",
       "      <th>od280/od315_of_diluted_wines</th>\n",
       "      <th>proline</th>\n",
       "      <th>target</th>\n",
       "      <th>pred</th>\n",
       "    </tr>\n",
       "  </thead>\n",
       "  <tbody>\n",
       "    <tr>\n",
       "      <th>0</th>\n",
       "      <td>14.23</td>\n",
       "      <td>1.71</td>\n",
       "      <td>2.43</td>\n",
       "      <td>15.6</td>\n",
       "      <td>127.0</td>\n",
       "      <td>2.80</td>\n",
       "      <td>3.06</td>\n",
       "      <td>0.28</td>\n",
       "      <td>2.29</td>\n",
       "      <td>5.64</td>\n",
       "      <td>1.04</td>\n",
       "      <td>3.92</td>\n",
       "      <td>1065.0</td>\n",
       "      <td>0</td>\n",
       "      <td>1</td>\n",
       "    </tr>\n",
       "    <tr>\n",
       "      <th>1</th>\n",
       "      <td>13.20</td>\n",
       "      <td>1.78</td>\n",
       "      <td>2.14</td>\n",
       "      <td>11.2</td>\n",
       "      <td>100.0</td>\n",
       "      <td>2.65</td>\n",
       "      <td>2.76</td>\n",
       "      <td>0.26</td>\n",
       "      <td>1.28</td>\n",
       "      <td>4.38</td>\n",
       "      <td>1.05</td>\n",
       "      <td>3.40</td>\n",
       "      <td>1050.0</td>\n",
       "      <td>0</td>\n",
       "      <td>1</td>\n",
       "    </tr>\n",
       "    <tr>\n",
       "      <th>2</th>\n",
       "      <td>13.16</td>\n",
       "      <td>2.36</td>\n",
       "      <td>2.67</td>\n",
       "      <td>18.6</td>\n",
       "      <td>101.0</td>\n",
       "      <td>2.80</td>\n",
       "      <td>3.24</td>\n",
       "      <td>0.30</td>\n",
       "      <td>2.81</td>\n",
       "      <td>5.68</td>\n",
       "      <td>1.03</td>\n",
       "      <td>3.17</td>\n",
       "      <td>1185.0</td>\n",
       "      <td>0</td>\n",
       "      <td>1</td>\n",
       "    </tr>\n",
       "    <tr>\n",
       "      <th>3</th>\n",
       "      <td>14.37</td>\n",
       "      <td>1.95</td>\n",
       "      <td>2.50</td>\n",
       "      <td>16.8</td>\n",
       "      <td>113.0</td>\n",
       "      <td>3.85</td>\n",
       "      <td>3.49</td>\n",
       "      <td>0.24</td>\n",
       "      <td>2.18</td>\n",
       "      <td>7.80</td>\n",
       "      <td>0.86</td>\n",
       "      <td>3.45</td>\n",
       "      <td>1480.0</td>\n",
       "      <td>0</td>\n",
       "      <td>1</td>\n",
       "    </tr>\n",
       "    <tr>\n",
       "      <th>4</th>\n",
       "      <td>13.24</td>\n",
       "      <td>2.59</td>\n",
       "      <td>2.87</td>\n",
       "      <td>21.0</td>\n",
       "      <td>118.0</td>\n",
       "      <td>2.80</td>\n",
       "      <td>2.69</td>\n",
       "      <td>0.39</td>\n",
       "      <td>1.82</td>\n",
       "      <td>4.32</td>\n",
       "      <td>1.04</td>\n",
       "      <td>2.93</td>\n",
       "      <td>735.0</td>\n",
       "      <td>0</td>\n",
       "      <td>0</td>\n",
       "    </tr>\n",
       "    <tr>\n",
       "      <th>...</th>\n",
       "      <td>...</td>\n",
       "      <td>...</td>\n",
       "      <td>...</td>\n",
       "      <td>...</td>\n",
       "      <td>...</td>\n",
       "      <td>...</td>\n",
       "      <td>...</td>\n",
       "      <td>...</td>\n",
       "      <td>...</td>\n",
       "      <td>...</td>\n",
       "      <td>...</td>\n",
       "      <td>...</td>\n",
       "      <td>...</td>\n",
       "      <td>...</td>\n",
       "      <td>...</td>\n",
       "    </tr>\n",
       "    <tr>\n",
       "      <th>173</th>\n",
       "      <td>13.71</td>\n",
       "      <td>5.65</td>\n",
       "      <td>2.45</td>\n",
       "      <td>20.5</td>\n",
       "      <td>95.0</td>\n",
       "      <td>1.68</td>\n",
       "      <td>0.61</td>\n",
       "      <td>0.52</td>\n",
       "      <td>1.06</td>\n",
       "      <td>7.70</td>\n",
       "      <td>0.64</td>\n",
       "      <td>1.74</td>\n",
       "      <td>740.0</td>\n",
       "      <td>2</td>\n",
       "      <td>0</td>\n",
       "    </tr>\n",
       "    <tr>\n",
       "      <th>174</th>\n",
       "      <td>13.40</td>\n",
       "      <td>3.91</td>\n",
       "      <td>2.48</td>\n",
       "      <td>23.0</td>\n",
       "      <td>102.0</td>\n",
       "      <td>1.80</td>\n",
       "      <td>0.75</td>\n",
       "      <td>0.43</td>\n",
       "      <td>1.41</td>\n",
       "      <td>7.30</td>\n",
       "      <td>0.70</td>\n",
       "      <td>1.56</td>\n",
       "      <td>750.0</td>\n",
       "      <td>2</td>\n",
       "      <td>0</td>\n",
       "    </tr>\n",
       "    <tr>\n",
       "      <th>175</th>\n",
       "      <td>13.27</td>\n",
       "      <td>4.28</td>\n",
       "      <td>2.26</td>\n",
       "      <td>20.0</td>\n",
       "      <td>120.0</td>\n",
       "      <td>1.59</td>\n",
       "      <td>0.69</td>\n",
       "      <td>0.43</td>\n",
       "      <td>1.35</td>\n",
       "      <td>10.20</td>\n",
       "      <td>0.59</td>\n",
       "      <td>1.56</td>\n",
       "      <td>835.0</td>\n",
       "      <td>2</td>\n",
       "      <td>0</td>\n",
       "    </tr>\n",
       "    <tr>\n",
       "      <th>176</th>\n",
       "      <td>13.17</td>\n",
       "      <td>2.59</td>\n",
       "      <td>2.37</td>\n",
       "      <td>20.0</td>\n",
       "      <td>120.0</td>\n",
       "      <td>1.65</td>\n",
       "      <td>0.68</td>\n",
       "      <td>0.53</td>\n",
       "      <td>1.46</td>\n",
       "      <td>9.30</td>\n",
       "      <td>0.60</td>\n",
       "      <td>1.62</td>\n",
       "      <td>840.0</td>\n",
       "      <td>2</td>\n",
       "      <td>0</td>\n",
       "    </tr>\n",
       "    <tr>\n",
       "      <th>177</th>\n",
       "      <td>14.13</td>\n",
       "      <td>4.10</td>\n",
       "      <td>2.74</td>\n",
       "      <td>24.5</td>\n",
       "      <td>96.0</td>\n",
       "      <td>2.05</td>\n",
       "      <td>0.76</td>\n",
       "      <td>0.56</td>\n",
       "      <td>1.35</td>\n",
       "      <td>9.20</td>\n",
       "      <td>0.61</td>\n",
       "      <td>1.60</td>\n",
       "      <td>560.0</td>\n",
       "      <td>2</td>\n",
       "      <td>2</td>\n",
       "    </tr>\n",
       "  </tbody>\n",
       "</table>\n",
       "<p>178 rows × 15 columns</p>\n",
       "</div>"
      ],
      "text/plain": [
       "     alcohol  malic_acid   ash  alcalinity_of_ash  magnesium  total_phenols  \\\n",
       "0      14.23        1.71  2.43               15.6      127.0           2.80   \n",
       "1      13.20        1.78  2.14               11.2      100.0           2.65   \n",
       "2      13.16        2.36  2.67               18.6      101.0           2.80   \n",
       "3      14.37        1.95  2.50               16.8      113.0           3.85   \n",
       "4      13.24        2.59  2.87               21.0      118.0           2.80   \n",
       "..       ...         ...   ...                ...        ...            ...   \n",
       "173    13.71        5.65  2.45               20.5       95.0           1.68   \n",
       "174    13.40        3.91  2.48               23.0      102.0           1.80   \n",
       "175    13.27        4.28  2.26               20.0      120.0           1.59   \n",
       "176    13.17        2.59  2.37               20.0      120.0           1.65   \n",
       "177    14.13        4.10  2.74               24.5       96.0           2.05   \n",
       "\n",
       "     flavanoids  nonflavanoid_phenols  proanthocyanins  color_intensity   hue  \\\n",
       "0          3.06                  0.28             2.29             5.64  1.04   \n",
       "1          2.76                  0.26             1.28             4.38  1.05   \n",
       "2          3.24                  0.30             2.81             5.68  1.03   \n",
       "3          3.49                  0.24             2.18             7.80  0.86   \n",
       "4          2.69                  0.39             1.82             4.32  1.04   \n",
       "..          ...                   ...              ...              ...   ...   \n",
       "173        0.61                  0.52             1.06             7.70  0.64   \n",
       "174        0.75                  0.43             1.41             7.30  0.70   \n",
       "175        0.69                  0.43             1.35            10.20  0.59   \n",
       "176        0.68                  0.53             1.46             9.30  0.60   \n",
       "177        0.76                  0.56             1.35             9.20  0.61   \n",
       "\n",
       "     od280/od315_of_diluted_wines  proline  target  pred  \n",
       "0                            3.92   1065.0       0     1  \n",
       "1                            3.40   1050.0       0     1  \n",
       "2                            3.17   1185.0       0     1  \n",
       "3                            3.45   1480.0       0     1  \n",
       "4                            2.93    735.0       0     0  \n",
       "..                            ...      ...     ...   ...  \n",
       "173                          1.74    740.0       2     0  \n",
       "174                          1.56    750.0       2     0  \n",
       "175                          1.56    835.0       2     0  \n",
       "176                          1.62    840.0       2     0  \n",
       "177                          1.60    560.0       2     2  \n",
       "\n",
       "[178 rows x 15 columns]"
      ]
     },
     "execution_count": 19,
     "metadata": {},
     "output_type": "execute_result"
    }
   ],
   "source": [
    "# 실제값과 예측값 비교\n",
    "df['target'] = dataset.target\n",
    "df['pred'] = pred\n",
    "df"
   ]
  },
  {
   "cell_type": "markdown",
   "id": "7c953373",
   "metadata": {},
   "source": [
    "## 설명\n",
    "target와 pred가 완전 다른데?\n",
    "클러스터링할 때 라벨은 KMeans가 알아서 붙이기 때문.\n",
    "같을거라 기대하지 마라."
   ]
  },
  {
   "cell_type": "markdown",
   "id": "a4cf0660",
   "metadata": {},
   "source": [
    "## PCA -> 군집 -> 시각화"
   ]
  },
  {
   "cell_type": "code",
   "execution_count": 28,
   "id": "9d29a95d",
   "metadata": {},
   "outputs": [],
   "source": [
    "# PCA\n",
    "from sklearn.decomposition import PCA\n",
    "\n",
    "df = data.copy()\n",
    "pca = PCA(n_components = 2)\n",
    "df = pca.fit_transform(df)\n",
    "df = pd.DataFrame(df)"
   ]
  },
  {
   "cell_type": "code",
   "execution_count": 29,
   "id": "520fd83c",
   "metadata": {},
   "outputs": [
    {
     "data": {
      "text/html": [
       "<div>\n",
       "<style scoped>\n",
       "    .dataframe tbody tr th:only-of-type {\n",
       "        vertical-align: middle;\n",
       "    }\n",
       "\n",
       "    .dataframe tbody tr th {\n",
       "        vertical-align: top;\n",
       "    }\n",
       "\n",
       "    .dataframe thead th {\n",
       "        text-align: right;\n",
       "    }\n",
       "</style>\n",
       "<table border=\"1\" class=\"dataframe\">\n",
       "  <thead>\n",
       "    <tr style=\"text-align: right;\">\n",
       "      <th></th>\n",
       "      <th>0</th>\n",
       "      <th>1</th>\n",
       "      <th>kmeans</th>\n",
       "    </tr>\n",
       "  </thead>\n",
       "  <tbody>\n",
       "    <tr>\n",
       "      <th>0</th>\n",
       "      <td>318.562979</td>\n",
       "      <td>21.492131</td>\n",
       "      <td>1</td>\n",
       "    </tr>\n",
       "    <tr>\n",
       "      <th>1</th>\n",
       "      <td>303.097420</td>\n",
       "      <td>-5.364718</td>\n",
       "      <td>1</td>\n",
       "    </tr>\n",
       "    <tr>\n",
       "      <th>2</th>\n",
       "      <td>438.061133</td>\n",
       "      <td>-6.537309</td>\n",
       "      <td>1</td>\n",
       "    </tr>\n",
       "    <tr>\n",
       "      <th>3</th>\n",
       "      <td>733.240139</td>\n",
       "      <td>0.192729</td>\n",
       "      <td>1</td>\n",
       "    </tr>\n",
       "    <tr>\n",
       "      <th>4</th>\n",
       "      <td>-11.571428</td>\n",
       "      <td>18.489995</td>\n",
       "      <td>0</td>\n",
       "    </tr>\n",
       "    <tr>\n",
       "      <th>...</th>\n",
       "      <td>...</td>\n",
       "      <td>...</td>\n",
       "      <td>...</td>\n",
       "    </tr>\n",
       "    <tr>\n",
       "      <th>173</th>\n",
       "      <td>-6.980211</td>\n",
       "      <td>-4.541137</td>\n",
       "      <td>0</td>\n",
       "    </tr>\n",
       "    <tr>\n",
       "      <th>174</th>\n",
       "      <td>3.131605</td>\n",
       "      <td>2.335191</td>\n",
       "      <td>0</td>\n",
       "    </tr>\n",
       "    <tr>\n",
       "      <th>175</th>\n",
       "      <td>88.458074</td>\n",
       "      <td>18.776285</td>\n",
       "      <td>0</td>\n",
       "    </tr>\n",
       "    <tr>\n",
       "      <th>176</th>\n",
       "      <td>93.456242</td>\n",
       "      <td>18.670819</td>\n",
       "      <td>0</td>\n",
       "    </tr>\n",
       "    <tr>\n",
       "      <th>177</th>\n",
       "      <td>-186.943190</td>\n",
       "      <td>-0.213331</td>\n",
       "      <td>2</td>\n",
       "    </tr>\n",
       "  </tbody>\n",
       "</table>\n",
       "<p>178 rows × 3 columns</p>\n",
       "</div>"
      ],
      "text/plain": [
       "              0          1  kmeans\n",
       "0    318.562979  21.492131       1\n",
       "1    303.097420  -5.364718       1\n",
       "2    438.061133  -6.537309       1\n",
       "3    733.240139   0.192729       1\n",
       "4    -11.571428  18.489995       0\n",
       "..          ...        ...     ...\n",
       "173   -6.980211  -4.541137       0\n",
       "174    3.131605   2.335191       0\n",
       "175   88.458074  18.776285       0\n",
       "176   93.456242  18.670819       0\n",
       "177 -186.943190  -0.213331       2\n",
       "\n",
       "[178 rows x 3 columns]"
      ]
     },
     "execution_count": 29,
     "metadata": {},
     "output_type": "execute_result"
    }
   ],
   "source": [
    "kmeans = KMeans(n_clusters = 3)\n",
    "kmeans.fit(df)\n",
    "pred = kmeans.predict(df)\n",
    "df['kmeans'] = pred\n",
    "df"
   ]
  },
  {
   "cell_type": "code",
   "execution_count": 31,
   "id": "1b20013b",
   "metadata": {},
   "outputs": [
    {
     "data": {
      "text/plain": [
       "array([[ -18.48419282,    4.20263004],\n",
       "       [ 448.29677492,   -2.2569996 ],\n",
       "       [-288.75258647,   -2.23889973]])"
      ]
     },
     "execution_count": 31,
     "metadata": {},
     "output_type": "execute_result"
    }
   ],
   "source": [
    "# 각 군집의 중심점\n",
    "centers = kmeans.cluster_centers_\n",
    "centers"
   ]
  },
  {
   "cell_type": "code",
   "execution_count": 38,
   "id": "39f9c8da",
   "metadata": {},
   "outputs": [
    {
     "data": {
      "text/plain": [
       "<matplotlib.collections.PathCollection at 0x7fcaf81a8b50>"
      ]
     },
     "execution_count": 38,
     "metadata": {},
     "output_type": "execute_result"
    },
    {
     "data": {
      "image/png": "[encoded data removed]",
      "text/plain": [
       "<Figure size 864x432 with 1 Axes>"
      ]
     },
     "metadata": {
      "needs_background": "light"
     },
     "output_type": "display_data"
    }
   ],
   "source": [
    "import matplotlib.pyplot as plt\n",
    "import seaborn as sns\n",
    "\n",
    "plt.figure(figsize = (12, 6))\n",
    "sns.scatterplot(x = df.iloc[:, 0], y = df.iloc[:, 1], hue = df['kmeans'])\n",
    "plt.scatter(centers[:,0], centers[:,1])"
   ]
  },
  {
   "cell_type": "markdown",
   "id": "4bb2191d",
   "metadata": {},
   "source": [
    "## 클러스터 갯수 찾는 방법(엘보우 방법: elbow method)\n",
    "- 시각화를 시켜서 군집수 추정\n",
    "- inertia는 클러스터내의 샘플간의 거리의 합을 의미함.\n",
    "- 아래 그림에서 기울기가 급격히 줄어드는 지점(3, 4)\n"
   ]
  },
  {
   "cell_type": "code",
   "execution_count": 41,
   "id": "5fc82a44",
   "metadata": {},
   "outputs": [
    {
     "data": {
      "text/plain": [
       "[<matplotlib.lines.Line2D at 0x7fcaf7f65bb0>]"
      ]
     },
     "execution_count": 41,
     "metadata": {},
     "output_type": "execute_result"
    },
    {
     "data": {
      "image/png": "[encoded data removed]",
      "text/plain": [
       "<Figure size 432x288 with 1 Axes>"
      ]
     },
     "metadata": {
      "needs_background": "light"
     },
     "output_type": "display_data"
    }
   ],
   "source": [
    "# 군집 수 찾기\n",
    "\n",
    "df = data.copy()\n",
    "inertia = []\n",
    "for i in range(1, 10):\n",
    "    kmeans = KMeans(n_clusters = i)\n",
    "    kmeans.fit(df)\n",
    "    inertia.append(kmeans.inertia_)\n",
    "    \n",
    "plt.plot(range(1,10), inertia)"
   ]
  },
  {
   "cell_type": "markdown",
   "id": "2fab367b",
   "metadata": {},
   "source": [
    "## 계층적 군집분석\n",
    "- k-means와 달리 군집 개수를 사전에 지정하지 않음\n",
    "- 덴드로그램\n",
    "\n",
    "> 아래 예제는 target 1,2,3인 데이터를 각각 3개씩 가져와서 dendrogram으로 어떻게 군집되는지 실행해 보는 것임."
   ]
  },
  {
   "cell_type": "code",
   "execution_count": 42,
   "id": "5e82af9f",
   "metadata": {},
   "outputs": [],
   "source": [
    "# 덴드로그램\n",
    "from scipy.cluster.hierarchy import dendrogram, ward"
   ]
  },
  {
   "cell_type": "code",
   "execution_count": 44,
   "id": "1e4ff34b",
   "metadata": {},
   "outputs": [],
   "source": [
    "# PCA\n",
    "df = data.copy()\n",
    "pca = PCA(n_components = 2)\n",
    "df = pca.fit_transform(df)\n",
    "df = pd.DataFrame(df)"
   ]
  },
  {
   "cell_type": "code",
   "execution_count": 52,
   "id": "9e05105c",
   "metadata": {},
   "outputs": [
    {
     "data": {
      "text/html": [
       "<div>\n",
       "<style scoped>\n",
       "    .dataframe tbody tr th:only-of-type {\n",
       "        vertical-align: middle;\n",
       "    }\n",
       "\n",
       "    .dataframe tbody tr th {\n",
       "        vertical-align: top;\n",
       "    }\n",
       "\n",
       "    .dataframe thead th {\n",
       "        text-align: right;\n",
       "    }\n",
       "</style>\n",
       "<table border=\"1\" class=\"dataframe\">\n",
       "  <thead>\n",
       "    <tr style=\"text-align: right;\">\n",
       "      <th></th>\n",
       "      <th>0</th>\n",
       "      <th>1</th>\n",
       "    </tr>\n",
       "  </thead>\n",
       "  <tbody>\n",
       "    <tr>\n",
       "      <th>0</th>\n",
       "      <td>318.562979</td>\n",
       "      <td>21.492131</td>\n",
       "    </tr>\n",
       "    <tr>\n",
       "      <th>1</th>\n",
       "      <td>303.097420</td>\n",
       "      <td>-5.364718</td>\n",
       "    </tr>\n",
       "    <tr>\n",
       "      <th>2</th>\n",
       "      <td>438.061133</td>\n",
       "      <td>-6.537309</td>\n",
       "    </tr>\n",
       "    <tr>\n",
       "      <th>70</th>\n",
       "      <td>123.130138</td>\n",
       "      <td>1.059835</td>\n",
       "    </tr>\n",
       "    <tr>\n",
       "      <th>71</th>\n",
       "      <td>-337.104122</td>\n",
       "      <td>-7.623855</td>\n",
       "    </tr>\n",
       "    <tr>\n",
       "      <th>72</th>\n",
       "      <td>-275.096026</td>\n",
       "      <td>-7.753152</td>\n",
       "    </tr>\n",
       "    <tr>\n",
       "      <th>160</th>\n",
       "      <td>-227.068836</td>\n",
       "      <td>-7.618630</td>\n",
       "    </tr>\n",
       "    <tr>\n",
       "      <th>161</th>\n",
       "      <td>-66.755431</td>\n",
       "      <td>8.470290</td>\n",
       "    </tr>\n",
       "    <tr>\n",
       "      <th>162</th>\n",
       "      <td>-176.765098</td>\n",
       "      <td>9.473190</td>\n",
       "    </tr>\n",
       "  </tbody>\n",
       "</table>\n",
       "</div>"
      ],
      "text/plain": [
       "              0          1\n",
       "0    318.562979  21.492131\n",
       "1    303.097420  -5.364718\n",
       "2    438.061133  -6.537309\n",
       "70   123.130138   1.059835\n",
       "71  -337.104122  -7.623855\n",
       "72  -275.096026  -7.753152\n",
       "160 -227.068836  -7.618630\n",
       "161  -66.755431   8.470290\n",
       "162 -176.765098   9.473190"
      ]
     },
     "execution_count": 52,
     "metadata": {},
     "output_type": "execute_result"
    }
   ],
   "source": [
    "# 데이터 샘플링\n",
    "# target을 보고 0,1,2 데이터 중 3개씩 가져옴.\n",
    "kdata = df[:3].copy()\n",
    "kdata = kdata.append(df[70:73])\n",
    "kdata = kdata.append(df[160:163])\n",
    "kdata\n"
   ]
  },
  {
   "cell_type": "code",
   "execution_count": 49,
   "id": "f4bedcff",
   "metadata": {},
   "outputs": [
    {
     "data": {
      "text/plain": [
       "array([0, 0, 0])"
      ]
     },
     "execution_count": 49,
     "metadata": {},
     "output_type": "execute_result"
    }
   ],
   "source": [
    "dataset.target[:3]"
   ]
  },
  {
   "cell_type": "code",
   "execution_count": 47,
   "id": "258fa9d6",
   "metadata": {},
   "outputs": [
    {
     "data": {
      "text/plain": [
       "array([1, 1, 1])"
      ]
     },
     "execution_count": 47,
     "metadata": {},
     "output_type": "execute_result"
    }
   ],
   "source": [
    "dataset.target[70:73]"
   ]
  },
  {
   "cell_type": "code",
   "execution_count": 48,
   "id": "990c1df0",
   "metadata": {},
   "outputs": [
    {
     "data": {
      "text/plain": [
       "array([2, 2, 2])"
      ]
     },
     "execution_count": 48,
     "metadata": {},
     "output_type": "execute_result"
    }
   ],
   "source": [
    "dataset.target[160:163]"
   ]
  },
  {
   "cell_type": "code",
   "execution_count": 55,
   "id": "8b582707",
   "metadata": {},
   "outputs": [
    {
     "data": {
      "text/plain": [
       "{'icoord': [[15.0, 15.0, 25.0, 25.0],\n",
       "  [5.0, 5.0, 20.0, 20.0],\n",
       "  [55.0, 55.0, 65.0, 65.0],\n",
       "  [45.0, 45.0, 60.0, 60.0],\n",
       "  [35.0, 35.0, 52.5, 52.5],\n",
       "  [75.0, 75.0, 85.0, 85.0],\n",
       "  [43.75, 43.75, 80.0, 80.0],\n",
       "  [12.5, 12.5, 61.875, 61.875]],\n",
       " 'dcoord': [[0.0, 30.991512411471362, 30.991512411471362, 0.0],\n",
       "  [0.0, 147.877877959848, 147.877877959848, 30.991512411471362],\n",
       "  [0.0, 48.02737852215087, 48.02737852215087, 0.0],\n",
       "  [0.0, 88.07194000276101, 88.07194000276101, 48.02737852215087],\n",
       "  [0.0, 135.87135248973354, 135.87135248973354, 88.07194000276101],\n",
       "  [0.0, 190.03011431770972, 190.03011431770972, 0.0],\n",
       "  [135.87135248973354,\n",
       "   461.0158736911475,\n",
       "   461.0158736911475,\n",
       "   190.03011431770972],\n",
       "  [147.877877959848, 1026.396544382853, 1026.396544382853, 461.0158736911475]],\n",
       " 'ivl': ['2', '0', '1', '4', '8', '5', '6', '3', '7'],\n",
       " 'leaves': [2, 0, 1, 4, 8, 5, 6, 3, 7],\n",
       " 'color_list': ['C1', 'C1', 'C2', 'C2', 'C2', 'C2', 'C2', 'C0'],\n",
       " 'leaves_color_list': ['C1', 'C1', 'C1', 'C2', 'C2', 'C2', 'C2', 'C2', 'C2']}"
      ]
     },
     "execution_count": 55,
     "metadata": {},
     "output_type": "execute_result"
    },
    {
     "data": {
      "image/png": "[encoded data removed]",
      "text/plain": [
       "<Figure size 432x288 with 1 Axes>"
      ]
     },
     "metadata": {
      "needs_background": "light"
     },
     "output_type": "display_data"
    }
   ],
   "source": [
    "# 덴드로그램\n",
    "linkage = ward(kdata)\n",
    "dendrogram(linkage)"
   ]
  },
  {
   "cell_type": "markdown",
   "id": "e495b264",
   "metadata": {},
   "source": [
    "## 설명\n",
    "0,1,2 : 잘됨\n",
    "3 : 잘못 들어감\n",
    "5, 6 : 잘못 들어감?\n",
    "눈으로 보면서 클러스터링?\n",
    "결론은 안나왔다."
   ]
  },
  {
   "cell_type": "code",
   "execution_count": 56,
   "id": "97338b95",
   "metadata": {},
   "outputs": [
    {
     "data": {
      "text/plain": [
       "target  pred\n",
       "0       0       13\n",
       "        1       46\n",
       "1       0       20\n",
       "        1        1\n",
       "        2       50\n",
       "2       0       29\n",
       "        2       19\n",
       "dtype: int64"
      ]
     },
     "execution_count": 56,
     "metadata": {},
     "output_type": "execute_result"
    }
   ],
   "source": [
    "# Q. 저번 스텝의 퀴즈에 이어서 target의 1,2 값은 각각 pred의 어떤 숫자와 매칭이 되어야할 지 찾아주세요.\n",
    "from sklearn.cluster import KMeans\n",
    "from sklearn.datasets import load_wine\n",
    "dataset = load_wine()\n",
    "data = pd.DataFrame(dataset.data, columns=dataset.feature_names)\n",
    "df = data.copy()\n",
    "\n",
    "kmeans = KMeans(n_clusters=3)\n",
    "kmeans.fit(df)\n",
    "pred = kmeans.predict(df)\n",
    "\n",
    "df['target'] = dataset.target\n",
    "df['pred'] = pred\n",
    "# size함수는 group별로 항목의 갯수를 return한다.\n",
    "df.groupby(['target', 'pred']).size()\n"
   ]
  },
  {
   "cell_type": "code",
   "execution_count": null,
   "id": "741eb1a5",
   "metadata": {},
   "outputs": [],
   "source": []
  }
 ],
 "metadata": {
  "kernelspec": {
   "display_name": "Python 3 (ipykernel)",
   "language": "python",
   "name": "python3"
  },
  "language_info": {
   "codemirror_mode": {
    "name": "ipython",
    "version": 3
   },
   "file_extension": ".py",
   "mimetype": "text/x-python",
   "name": "python",
   "nbconvert_exporter": "python",
   "pygments_lexer": "ipython3",
   "version": "3.9.7"
  }
 },
 "nbformat": 4,
 "nbformat_minor": 5
}
