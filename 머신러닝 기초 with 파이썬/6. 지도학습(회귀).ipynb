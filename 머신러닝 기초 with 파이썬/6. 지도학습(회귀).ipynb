{
 "cells": [
  {
   "cell_type": "code",
   "execution_count": 2,
   "id": "2d286ebd",
   "metadata": {},
   "outputs": [],
   "source": [
    "import pandas as pd\n",
    "from sklearn.model_selection import train_test_split\n",
    "from sklearn.metrics import mean_squared_error"
   ]
  },
  {
   "cell_type": "code",
   "execution_count": 111,
   "id": "6db95c2d",
   "metadata": {},
   "outputs": [
    {
     "data": {
      "text/plain": [
       "((353, 10), (89, 10), (353, 1), (89, 1))"
      ]
     },
     "execution_count": 111,
     "metadata": {},
     "output_type": "execute_result"
    }
   ],
   "source": [
    "from sklearn.datasets import load_diabetes\n",
    "\n",
    "def make_dataset():\n",
    "    dataset = load_diabetes()\n",
    "#     df = pd.DataFrame(dataset.data, columns = features_names)\n",
    "#     df['target'] = dataset.target\n",
    "#     X_train, X_test, y_train, y_test = train_test_split(\n",
    "#         df.drop('target', axis = 1), df['target'],\n",
    "#         test_size = 0.2, random_state = 1004\n",
    "#     )\n",
    "    df = pd.DataFrame(dataset.data, columns = dataset.feature_names)\n",
    "    X_train, X_test, y_train, y_test = train_test_split(\n",
    "        df, pd.DataFrame({'target': dataset.target}),\n",
    "        test_size = 0.2, random_state = 1004\n",
    "    )\n",
    "\n",
    "    return X_train, X_test, y_train, y_test\n",
    "\n",
    "X_train, X_test, y_train, y_test = make_dataset()\n",
    "X_train.shape, X_test.shape, y_train.shape, y_test.shape"
   ]
  },
  {
   "cell_type": "code",
   "execution_count": 112,
   "id": "a1262ba7",
   "metadata": {},
   "outputs": [
    {
     "data": {
      "text/html": [
       "<div>\n",
       "<style scoped>\n",
       "    .dataframe tbody tr th:only-of-type {\n",
       "        vertical-align: middle;\n",
       "    }\n",
       "\n",
       "    .dataframe tbody tr th {\n",
       "        vertical-align: top;\n",
       "    }\n",
       "\n",
       "    .dataframe thead th {\n",
       "        text-align: right;\n",
       "    }\n",
       "</style>\n",
       "<table border=\"1\" class=\"dataframe\">\n",
       "  <thead>\n",
       "    <tr style=\"text-align: right;\">\n",
       "      <th></th>\n",
       "      <th>age</th>\n",
       "      <th>sex</th>\n",
       "      <th>bmi</th>\n",
       "      <th>bp</th>\n",
       "      <th>s1</th>\n",
       "      <th>s2</th>\n",
       "      <th>s3</th>\n",
       "      <th>s4</th>\n",
       "      <th>s5</th>\n",
       "      <th>s6</th>\n",
       "    </tr>\n",
       "  </thead>\n",
       "  <tbody>\n",
       "    <tr>\n",
       "      <th>152</th>\n",
       "      <td>-0.034575</td>\n",
       "      <td>0.050680</td>\n",
       "      <td>-0.000817</td>\n",
       "      <td>0.070073</td>\n",
       "      <td>0.039710</td>\n",
       "      <td>0.066952</td>\n",
       "      <td>-0.065491</td>\n",
       "      <td>0.108111</td>\n",
       "      <td>0.026714</td>\n",
       "      <td>0.073480</td>\n",
       "    </tr>\n",
       "    <tr>\n",
       "      <th>417</th>\n",
       "      <td>-0.052738</td>\n",
       "      <td>-0.044642</td>\n",
       "      <td>0.071397</td>\n",
       "      <td>-0.074528</td>\n",
       "      <td>-0.015328</td>\n",
       "      <td>-0.001314</td>\n",
       "      <td>0.004460</td>\n",
       "      <td>-0.021412</td>\n",
       "      <td>-0.046879</td>\n",
       "      <td>0.003064</td>\n",
       "    </tr>\n",
       "    <tr>\n",
       "      <th>172</th>\n",
       "      <td>0.041708</td>\n",
       "      <td>0.050680</td>\n",
       "      <td>0.071397</td>\n",
       "      <td>0.008101</td>\n",
       "      <td>0.038334</td>\n",
       "      <td>0.015909</td>\n",
       "      <td>-0.017629</td>\n",
       "      <td>0.034309</td>\n",
       "      <td>0.073410</td>\n",
       "      <td>0.085907</td>\n",
       "    </tr>\n",
       "    <tr>\n",
       "      <th>438</th>\n",
       "      <td>-0.005515</td>\n",
       "      <td>0.050680</td>\n",
       "      <td>-0.015906</td>\n",
       "      <td>-0.067642</td>\n",
       "      <td>0.049341</td>\n",
       "      <td>0.079165</td>\n",
       "      <td>-0.028674</td>\n",
       "      <td>0.034309</td>\n",
       "      <td>-0.018118</td>\n",
       "      <td>0.044485</td>\n",
       "    </tr>\n",
       "    <tr>\n",
       "      <th>296</th>\n",
       "      <td>0.067136</td>\n",
       "      <td>-0.044642</td>\n",
       "      <td>-0.061174</td>\n",
       "      <td>-0.040099</td>\n",
       "      <td>-0.026336</td>\n",
       "      <td>-0.024487</td>\n",
       "      <td>0.033914</td>\n",
       "      <td>-0.039493</td>\n",
       "      <td>-0.056158</td>\n",
       "      <td>-0.059067</td>\n",
       "    </tr>\n",
       "  </tbody>\n",
       "</table>\n",
       "</div>"
      ],
      "text/plain": [
       "          age       sex       bmi        bp        s1        s2        s3  \\\n",
       "152 -0.034575  0.050680 -0.000817  0.070073  0.039710  0.066952 -0.065491   \n",
       "417 -0.052738 -0.044642  0.071397 -0.074528 -0.015328 -0.001314  0.004460   \n",
       "172  0.041708  0.050680  0.071397  0.008101  0.038334  0.015909 -0.017629   \n",
       "438 -0.005515  0.050680 -0.015906 -0.067642  0.049341  0.079165 -0.028674   \n",
       "296  0.067136 -0.044642 -0.061174 -0.040099 -0.026336 -0.024487  0.033914   \n",
       "\n",
       "           s4        s5        s6  \n",
       "152  0.108111  0.026714  0.073480  \n",
       "417 -0.021412 -0.046879  0.003064  \n",
       "172  0.034309  0.073410  0.085907  \n",
       "438  0.034309 -0.018118  0.044485  \n",
       "296 -0.039493 -0.056158 -0.059067  "
      ]
     },
     "execution_count": 112,
     "metadata": {},
     "output_type": "execute_result"
    }
   ],
   "source": [
    "X_train.head()"
   ]
  },
  {
   "cell_type": "code",
   "execution_count": 113,
   "id": "cbafd299",
   "metadata": {},
   "outputs": [
    {
     "data": {
      "text/html": [
       "<div>\n",
       "<style scoped>\n",
       "    .dataframe tbody tr th:only-of-type {\n",
       "        vertical-align: middle;\n",
       "    }\n",
       "\n",
       "    .dataframe tbody tr th {\n",
       "        vertical-align: top;\n",
       "    }\n",
       "\n",
       "    .dataframe thead th {\n",
       "        text-align: right;\n",
       "    }\n",
       "</style>\n",
       "<table border=\"1\" class=\"dataframe\">\n",
       "  <thead>\n",
       "    <tr style=\"text-align: right;\">\n",
       "      <th></th>\n",
       "      <th>target</th>\n",
       "    </tr>\n",
       "  </thead>\n",
       "  <tbody>\n",
       "    <tr>\n",
       "      <th>152</th>\n",
       "      <td>292.0</td>\n",
       "    </tr>\n",
       "    <tr>\n",
       "      <th>417</th>\n",
       "      <td>55.0</td>\n",
       "    </tr>\n",
       "    <tr>\n",
       "      <th>172</th>\n",
       "      <td>295.0</td>\n",
       "    </tr>\n",
       "    <tr>\n",
       "      <th>438</th>\n",
       "      <td>104.0</td>\n",
       "    </tr>\n",
       "    <tr>\n",
       "      <th>296</th>\n",
       "      <td>89.0</td>\n",
       "    </tr>\n",
       "  </tbody>\n",
       "</table>\n",
       "</div>"
      ],
      "text/plain": [
       "     target\n",
       "152   292.0\n",
       "417    55.0\n",
       "172   295.0\n",
       "438   104.0\n",
       "296    89.0"
      ]
     },
     "execution_count": 113,
     "metadata": {},
     "output_type": "execute_result"
    }
   ],
   "source": [
    "y_train.head()"
   ]
  },
  {
   "cell_type": "code",
   "execution_count": 114,
   "id": "4ef98337",
   "metadata": {},
   "outputs": [
    {
     "data": {
      "text/plain": [
       "array([[<AxesSubplot:title={'center':'target'}>]], dtype=object)"
      ]
     },
     "execution_count": 114,
     "metadata": {},
     "output_type": "execute_result"
    },
    {
     "data": {
      "image/png": "[encoded data removed]",
      "text/plain": [
       "<Figure size 432x288 with 1 Axes>"
      ]
     },
     "metadata": {
      "needs_background": "light"
     },
     "output_type": "display_data"
    }
   ],
   "source": [
    "y_train.hist()"
   ]
  },
  {
   "cell_type": "code",
   "execution_count": 115,
   "id": "537d2a6e",
   "metadata": {},
   "outputs": [
    {
     "name": "stdout",
     "output_type": "stream",
     "text": [
      "[[123.94932306]\n",
      " [136.23345464]\n",
      " [156.67558068]\n",
      " [ 97.09312563]\n",
      " [154.73346498]\n",
      " [174.10316418]\n",
      " [142.4929304 ]\n",
      " [175.46825347]\n",
      " [ 67.56458933]\n",
      " [197.51586051]\n",
      " [141.36718175]\n",
      " [162.25207736]\n",
      " [207.90332878]\n",
      " [112.21593607]\n",
      " [164.7869123 ]\n",
      " [152.83451856]\n",
      " [207.62617695]\n",
      " [101.69114321]\n",
      " [169.47144497]\n",
      " [198.91006938]\n",
      " [156.10499095]\n",
      " [112.52480518]\n",
      " [208.1016705 ]\n",
      " [133.78986882]\n",
      " [190.71735877]\n",
      " [231.24393545]\n",
      " [ 82.20284932]\n",
      " [155.20014088]\n",
      " [186.03833321]\n",
      " [183.10229854]\n",
      " [215.52927072]\n",
      " [202.32401575]\n",
      " [162.1604779 ]\n",
      " [ 58.08091438]\n",
      " [ 84.50046958]\n",
      " [ 92.02007658]\n",
      " [141.60209908]\n",
      " [ 82.31384102]\n",
      " [175.37499688]\n",
      " [250.32383794]\n",
      " [170.56433203]\n",
      " [202.54663866]\n",
      " [238.35235958]\n",
      " [ 87.97433558]\n",
      " [242.65146724]\n",
      " [179.97059096]\n",
      " [167.91318627]\n",
      " [125.63718995]\n",
      " [ 96.59340383]\n",
      " [160.6500302 ]\n",
      " [134.36973916]\n",
      " [211.35345939]\n",
      " [112.36128251]\n",
      " [146.79992581]\n",
      " [175.73058868]\n",
      " [ 80.91216342]\n",
      " [183.4067591 ]\n",
      " [121.91976399]\n",
      " [ 73.8960861 ]\n",
      " [121.59781222]\n",
      " [199.23595635]\n",
      " [203.59669391]\n",
      " [235.90890161]\n",
      " [ 38.55506543]\n",
      " [197.14234398]\n",
      " [125.7895691 ]\n",
      " [182.58119473]\n",
      " [147.92123801]\n",
      " [144.22509448]\n",
      " [196.73632225]\n",
      " [122.61702295]\n",
      " [227.89078576]\n",
      " [177.55014577]\n",
      " [ 86.57644119]\n",
      " [101.44357005]\n",
      " [ 74.43510458]\n",
      " [251.31836038]\n",
      " [208.28844161]\n",
      " [168.33990776]\n",
      " [ 78.3535124 ]\n",
      " [143.85522789]\n",
      " [192.93242196]\n",
      " [142.7516949 ]\n",
      " [123.30617537]\n",
      " [ 89.43103348]\n",
      " [257.92586227]\n",
      " [133.53807887]\n",
      " [216.03029588]\n",
      " [125.42749378]]\n"
     ]
    },
    {
     "data": {
      "text/plain": [
       "2707.6236708320457"
      ]
     },
     "execution_count": 115,
     "metadata": {},
     "output_type": "execute_result"
    }
   ],
   "source": [
    "from sklearn.linear_model import LinearRegression\n",
    "\n",
    "model = LinearRegression()\n",
    "model.fit(X_train, y_train)\n",
    "pred = model.predict(X_test)\n",
    "print(pred)\n",
    "mean_squared_error(y_test, pred)"
   ]
  },
  {
   "cell_type": "code",
   "execution_count": 116,
   "id": "61429ced",
   "metadata": {},
   "outputs": [
    {
     "data": {
      "text/plain": [
       "3522.1129142470336"
      ]
     },
     "execution_count": 116,
     "metadata": {},
     "output_type": "execute_result"
    }
   ],
   "source": [
    "# 릿지회귀\n",
    "from sklearn.linear_model import Ridge\n",
    "\n",
    "model = Ridge(alpha = 1)\n",
    "model.fit(X_train, y_train)\n",
    "pred = model.predict(X_test)\n",
    "#print(pred)\n",
    "mean_squared_error(y_test, pred)"
   ]
  },
  {
   "cell_type": "code",
   "execution_count": 117,
   "id": "e28fd1e9",
   "metadata": {},
   "outputs": [
    {
     "data": {
      "text/html": [
       "<div>\n",
       "<style scoped>\n",
       "    .dataframe tbody tr th:only-of-type {\n",
       "        vertical-align: middle;\n",
       "    }\n",
       "\n",
       "    .dataframe tbody tr th {\n",
       "        vertical-align: top;\n",
       "    }\n",
       "\n",
       "    .dataframe thead th {\n",
       "        text-align: right;\n",
       "    }\n",
       "</style>\n",
       "<table border=\"1\" class=\"dataframe\">\n",
       "  <thead>\n",
       "    <tr style=\"text-align: right;\">\n",
       "      <th></th>\n",
       "      <th>alpha1</th>\n",
       "    </tr>\n",
       "  </thead>\n",
       "  <tbody>\n",
       "    <tr>\n",
       "      <th>age</th>\n",
       "      <td>31.293287</td>\n",
       "    </tr>\n",
       "    <tr>\n",
       "      <th>sex</th>\n",
       "      <td>-71.449580</td>\n",
       "    </tr>\n",
       "    <tr>\n",
       "      <th>bmi</th>\n",
       "      <td>267.605153</td>\n",
       "    </tr>\n",
       "    <tr>\n",
       "      <th>bp</th>\n",
       "      <td>197.364745</td>\n",
       "    </tr>\n",
       "    <tr>\n",
       "      <th>s1</th>\n",
       "      <td>14.613106</td>\n",
       "    </tr>\n",
       "    <tr>\n",
       "      <th>s2</th>\n",
       "      <td>-13.884790</td>\n",
       "    </tr>\n",
       "    <tr>\n",
       "      <th>s3</th>\n",
       "      <td>-124.649955</td>\n",
       "    </tr>\n",
       "    <tr>\n",
       "      <th>s4</th>\n",
       "      <td>106.212968</td>\n",
       "    </tr>\n",
       "    <tr>\n",
       "      <th>s5</th>\n",
       "      <td>221.068052</td>\n",
       "    </tr>\n",
       "    <tr>\n",
       "      <th>s6</th>\n",
       "      <td>101.202651</td>\n",
       "    </tr>\n",
       "  </tbody>\n",
       "</table>\n",
       "</div>"
      ],
      "text/plain": [
       "         alpha1\n",
       "age   31.293287\n",
       "sex  -71.449580\n",
       "bmi  267.605153\n",
       "bp   197.364745\n",
       "s1    14.613106\n",
       "s2   -13.884790\n",
       "s3  -124.649955\n",
       "s4   106.212968\n",
       "s5   221.068052\n",
       "s6   101.202651"
      ]
     },
     "execution_count": 117,
     "metadata": {},
     "output_type": "execute_result"
    }
   ],
   "source": [
    "# 회귀 계수\n",
    "coef = pd.DataFrame(model.coef_.T, index = X_train.columns, columns = [\"alpha1\"])\n",
    "coef\n",
    "#type(model.coef_)"
   ]
  },
  {
   "cell_type": "code",
   "execution_count": 24,
   "id": "d4f0e5b9",
   "metadata": {},
   "outputs": [
    {
     "data": {
      "text/html": [
       "<div>\n",
       "<style scoped>\n",
       "    .dataframe tbody tr th:only-of-type {\n",
       "        vertical-align: middle;\n",
       "    }\n",
       "\n",
       "    .dataframe tbody tr th {\n",
       "        vertical-align: top;\n",
       "    }\n",
       "\n",
       "    .dataframe thead th {\n",
       "        text-align: right;\n",
       "    }\n",
       "</style>\n",
       "<table border=\"1\" class=\"dataframe\">\n",
       "  <thead>\n",
       "    <tr style=\"text-align: right;\">\n",
       "      <th></th>\n",
       "      <th>age</th>\n",
       "      <th>sex</th>\n",
       "      <th>bmi</th>\n",
       "      <th>bp</th>\n",
       "      <th>s1</th>\n",
       "      <th>s2</th>\n",
       "      <th>s3</th>\n",
       "      <th>s4</th>\n",
       "      <th>s5</th>\n",
       "      <th>s6</th>\n",
       "    </tr>\n",
       "  </thead>\n",
       "  <tbody>\n",
       "    <tr>\n",
       "      <th>152</th>\n",
       "      <td>-0.034575</td>\n",
       "      <td>0.050680</td>\n",
       "      <td>-0.000817</td>\n",
       "      <td>0.070073</td>\n",
       "      <td>0.039710</td>\n",
       "      <td>0.066952</td>\n",
       "      <td>-0.065491</td>\n",
       "      <td>0.108111</td>\n",
       "      <td>0.026714</td>\n",
       "      <td>0.073480</td>\n",
       "    </tr>\n",
       "    <tr>\n",
       "      <th>417</th>\n",
       "      <td>-0.052738</td>\n",
       "      <td>-0.044642</td>\n",
       "      <td>0.071397</td>\n",
       "      <td>-0.074528</td>\n",
       "      <td>-0.015328</td>\n",
       "      <td>-0.001314</td>\n",
       "      <td>0.004460</td>\n",
       "      <td>-0.021412</td>\n",
       "      <td>-0.046879</td>\n",
       "      <td>0.003064</td>\n",
       "    </tr>\n",
       "    <tr>\n",
       "      <th>172</th>\n",
       "      <td>0.041708</td>\n",
       "      <td>0.050680</td>\n",
       "      <td>0.071397</td>\n",
       "      <td>0.008101</td>\n",
       "      <td>0.038334</td>\n",
       "      <td>0.015909</td>\n",
       "      <td>-0.017629</td>\n",
       "      <td>0.034309</td>\n",
       "      <td>0.073410</td>\n",
       "      <td>0.085907</td>\n",
       "    </tr>\n",
       "    <tr>\n",
       "      <th>438</th>\n",
       "      <td>-0.005515</td>\n",
       "      <td>0.050680</td>\n",
       "      <td>-0.015906</td>\n",
       "      <td>-0.067642</td>\n",
       "      <td>0.049341</td>\n",
       "      <td>0.079165</td>\n",
       "      <td>-0.028674</td>\n",
       "      <td>0.034309</td>\n",
       "      <td>-0.018118</td>\n",
       "      <td>0.044485</td>\n",
       "    </tr>\n",
       "    <tr>\n",
       "      <th>296</th>\n",
       "      <td>0.067136</td>\n",
       "      <td>-0.044642</td>\n",
       "      <td>-0.061174</td>\n",
       "      <td>-0.040099</td>\n",
       "      <td>-0.026336</td>\n",
       "      <td>-0.024487</td>\n",
       "      <td>0.033914</td>\n",
       "      <td>-0.039493</td>\n",
       "      <td>-0.056158</td>\n",
       "      <td>-0.059067</td>\n",
       "    </tr>\n",
       "  </tbody>\n",
       "</table>\n",
       "</div>"
      ],
      "text/plain": [
       "          age       sex       bmi        bp        s1        s2        s3  \\\n",
       "152 -0.034575  0.050680 -0.000817  0.070073  0.039710  0.066952 -0.065491   \n",
       "417 -0.052738 -0.044642  0.071397 -0.074528 -0.015328 -0.001314  0.004460   \n",
       "172  0.041708  0.050680  0.071397  0.008101  0.038334  0.015909 -0.017629   \n",
       "438 -0.005515  0.050680 -0.015906 -0.067642  0.049341  0.079165 -0.028674   \n",
       "296  0.067136 -0.044642 -0.061174 -0.040099 -0.026336 -0.024487  0.033914   \n",
       "\n",
       "           s4        s5        s6  \n",
       "152  0.108111  0.026714  0.073480  \n",
       "417 -0.021412 -0.046879  0.003064  \n",
       "172  0.034309  0.073410  0.085907  \n",
       "438  0.034309 -0.018118  0.044485  \n",
       "296 -0.039493 -0.056158 -0.059067  "
      ]
     },
     "execution_count": 24,
     "metadata": {},
     "output_type": "execute_result"
    }
   ],
   "source": [
    "X_train.head()"
   ]
  },
  {
   "cell_type": "code",
   "execution_count": 65,
   "id": "af7a4a56",
   "metadata": {},
   "outputs": [
    {
     "name": "stdout",
     "output_type": "stream",
     "text": [
      "0 2707.6236708320425\n",
      "1 3522.1129142470336\n",
      "2 4071.993595186569\n",
      "3 4443.891292677976\n",
      "4 4716.530377021632\n",
      "5 4926.436108980303\n",
      "6 5093.5541458704365\n",
      "7 5229.969389363438\n",
      "8 5343.5249856140335\n",
      "9 5439.567835040425\n",
      "10 5521.88231117606\n"
     ]
    }
   ],
   "source": [
    "for alpha in range(11):\n",
    "    model = Ridge(alpha = alpha)\n",
    "    model.fit(X_train, y_train)\n",
    "    pred = model.predict(X_test)\n",
    "    #print(pred)\n",
    "    print(alpha, mean_squared_error(y_test, pred))\n",
    "    \n",
    "    if alpha == 0:\n",
    "        coef = pd.DataFrame(model.coef_.T, index = X_train.columns, columns = ['alpha0'])\n",
    "    else:\n",
    "        coef['alpha' + str(alpha)] = model.coef_.T"
   ]
  },
  {
   "cell_type": "code",
   "execution_count": 66,
   "id": "33297fd0",
   "metadata": {},
   "outputs": [
    {
     "data": {
      "text/html": [
       "<div>\n",
       "<style scoped>\n",
       "    .dataframe tbody tr th:only-of-type {\n",
       "        vertical-align: middle;\n",
       "    }\n",
       "\n",
       "    .dataframe tbody tr th {\n",
       "        vertical-align: top;\n",
       "    }\n",
       "\n",
       "    .dataframe thead th {\n",
       "        text-align: right;\n",
       "    }\n",
       "</style>\n",
       "<table border=\"1\" class=\"dataframe\">\n",
       "  <thead>\n",
       "    <tr style=\"text-align: right;\">\n",
       "      <th></th>\n",
       "      <th>alpha0</th>\n",
       "      <th>alpha1</th>\n",
       "      <th>alpha2</th>\n",
       "      <th>alpha3</th>\n",
       "      <th>alpha4</th>\n",
       "      <th>alpha5</th>\n",
       "      <th>alpha6</th>\n",
       "      <th>alpha7</th>\n",
       "      <th>alpha8</th>\n",
       "      <th>alpha9</th>\n",
       "      <th>alpha10</th>\n",
       "    </tr>\n",
       "  </thead>\n",
       "  <tbody>\n",
       "    <tr>\n",
       "      <th>age</th>\n",
       "      <td>-14.226237</td>\n",
       "      <td>31.293287</td>\n",
       "      <td>32.817917</td>\n",
       "      <td>30.432679</td>\n",
       "      <td>27.643231</td>\n",
       "      <td>25.090816</td>\n",
       "      <td>22.875265</td>\n",
       "      <td>20.974194</td>\n",
       "      <td>19.341064</td>\n",
       "      <td>17.930314</td>\n",
       "      <td>16.703159</td>\n",
       "    </tr>\n",
       "    <tr>\n",
       "      <th>sex</th>\n",
       "      <td>-252.596638</td>\n",
       "      <td>-71.449580</td>\n",
       "      <td>-34.043717</td>\n",
       "      <td>-19.528803</td>\n",
       "      <td>-12.386188</td>\n",
       "      <td>-8.364249</td>\n",
       "      <td>-5.891135</td>\n",
       "      <td>-4.272553</td>\n",
       "      <td>-3.162722</td>\n",
       "      <td>-2.373736</td>\n",
       "      <td>-1.796452</td>\n",
       "    </tr>\n",
       "    <tr>\n",
       "      <th>bmi</th>\n",
       "      <td>478.237599</td>\n",
       "      <td>267.605153</td>\n",
       "      <td>190.056590</td>\n",
       "      <td>148.962703</td>\n",
       "      <td>123.014050</td>\n",
       "      <td>104.982097</td>\n",
       "      <td>91.662765</td>\n",
       "      <td>81.395638</td>\n",
       "      <td>73.226624</td>\n",
       "      <td>66.565518</td>\n",
       "      <td>61.026348</td>\n",
       "    </tr>\n",
       "    <tr>\n",
       "      <th>bp</th>\n",
       "      <td>374.575253</td>\n",
       "      <td>197.364745</td>\n",
       "      <td>142.616148</td>\n",
       "      <td>112.997014</td>\n",
       "      <td>93.982363</td>\n",
       "      <td>80.610241</td>\n",
       "      <td>70.645425</td>\n",
       "      <td>62.912288</td>\n",
       "      <td>56.726889</td>\n",
       "      <td>51.661804</td>\n",
       "      <td>47.435152</td>\n",
       "    </tr>\n",
       "    <tr>\n",
       "      <th>s1</th>\n",
       "      <td>-1027.276426</td>\n",
       "      <td>14.613106</td>\n",
       "      <td>26.449578</td>\n",
       "      <td>28.124170</td>\n",
       "      <td>27.264947</td>\n",
       "      <td>25.719968</td>\n",
       "      <td>24.057164</td>\n",
       "      <td>22.465138</td>\n",
       "      <td>21.002520</td>\n",
       "      <td>19.680151</td>\n",
       "      <td>18.491225</td>\n",
       "    </tr>\n",
       "    <tr>\n",
       "      <th>s2</th>\n",
       "      <td>669.703861</td>\n",
       "      <td>-13.884790</td>\n",
       "      <td>7.197698</td>\n",
       "      <td>13.801173</td>\n",
       "      <td>15.894953</td>\n",
       "      <td>16.303298</td>\n",
       "      <td>16.024912</td>\n",
       "      <td>15.464192</td>\n",
       "      <td>14.799108</td>\n",
       "      <td>14.111668</td>\n",
       "      <td>13.440080</td>\n",
       "    </tr>\n",
       "    <tr>\n",
       "      <th>s3</th>\n",
       "      <td>228.639350</td>\n",
       "      <td>-124.649955</td>\n",
       "      <td>-96.623143</td>\n",
       "      <td>-79.242455</td>\n",
       "      <td>-67.286548</td>\n",
       "      <td>-58.517128</td>\n",
       "      <td>-51.794417</td>\n",
       "      <td>-46.469977</td>\n",
       "      <td>-42.145396</td>\n",
       "      <td>-38.561508</td>\n",
       "      <td>-35.542084</td>\n",
       "    </tr>\n",
       "    <tr>\n",
       "      <th>s4</th>\n",
       "      <td>209.055969</td>\n",
       "      <td>106.212968</td>\n",
       "      <td>91.101508</td>\n",
       "      <td>78.615389</td>\n",
       "      <td>68.833249</td>\n",
       "      <td>61.103413</td>\n",
       "      <td>54.884584</td>\n",
       "      <td>49.789790</td>\n",
       "      <td>45.546937</td>\n",
       "      <td>41.962472</td>\n",
       "      <td>38.896129</td>\n",
       "    </tr>\n",
       "    <tr>\n",
       "      <th>s5</th>\n",
       "      <td>787.865881</td>\n",
       "      <td>221.068052</td>\n",
       "      <td>161.287237</td>\n",
       "      <td>128.831057</td>\n",
       "      <td>107.790246</td>\n",
       "      <td>92.863138</td>\n",
       "      <td>81.659999</td>\n",
       "      <td>72.915725</td>\n",
       "      <td>65.888724</td>\n",
       "      <td>60.112178</td>\n",
       "      <td>55.276214</td>\n",
       "    </tr>\n",
       "    <tr>\n",
       "      <th>s6</th>\n",
       "      <td>51.760485</td>\n",
       "      <td>101.202651</td>\n",
       "      <td>87.102374</td>\n",
       "      <td>74.545503</td>\n",
       "      <td>64.797302</td>\n",
       "      <td>57.196124</td>\n",
       "      <td>51.149249</td>\n",
       "      <td>46.239680</td>\n",
       "      <td>42.180395</td>\n",
       "      <td>38.770967</td>\n",
       "      <td>35.868345</td>\n",
       "    </tr>\n",
       "  </tbody>\n",
       "</table>\n",
       "</div>"
      ],
      "text/plain": [
       "          alpha0      alpha1      alpha2      alpha3      alpha4      alpha5  \\\n",
       "age   -14.226237   31.293287   32.817917   30.432679   27.643231   25.090816   \n",
       "sex  -252.596638  -71.449580  -34.043717  -19.528803  -12.386188   -8.364249   \n",
       "bmi   478.237599  267.605153  190.056590  148.962703  123.014050  104.982097   \n",
       "bp    374.575253  197.364745  142.616148  112.997014   93.982363   80.610241   \n",
       "s1  -1027.276426   14.613106   26.449578   28.124170   27.264947   25.719968   \n",
       "s2    669.703861  -13.884790    7.197698   13.801173   15.894953   16.303298   \n",
       "s3    228.639350 -124.649955  -96.623143  -79.242455  -67.286548  -58.517128   \n",
       "s4    209.055969  106.212968   91.101508   78.615389   68.833249   61.103413   \n",
       "s5    787.865881  221.068052  161.287237  128.831057  107.790246   92.863138   \n",
       "s6     51.760485  101.202651   87.102374   74.545503   64.797302   57.196124   \n",
       "\n",
       "        alpha6     alpha7     alpha8     alpha9    alpha10  \n",
       "age  22.875265  20.974194  19.341064  17.930314  16.703159  \n",
       "sex  -5.891135  -4.272553  -3.162722  -2.373736  -1.796452  \n",
       "bmi  91.662765  81.395638  73.226624  66.565518  61.026348  \n",
       "bp   70.645425  62.912288  56.726889  51.661804  47.435152  \n",
       "s1   24.057164  22.465138  21.002520  19.680151  18.491225  \n",
       "s2   16.024912  15.464192  14.799108  14.111668  13.440080  \n",
       "s3  -51.794417 -46.469977 -42.145396 -38.561508 -35.542084  \n",
       "s4   54.884584  49.789790  45.546937  41.962472  38.896129  \n",
       "s5   81.659999  72.915725  65.888724  60.112178  55.276214  \n",
       "s6   51.149249  46.239680  42.180395  38.770967  35.868345  "
      ]
     },
     "execution_count": 66,
     "metadata": {},
     "output_type": "execute_result"
    }
   ],
   "source": [
    "coef"
   ]
  },
  {
   "cell_type": "code",
   "execution_count": 53,
   "id": "a02b25a6",
   "metadata": {},
   "outputs": [
    {
     "data": {
      "text/html": [
       "<div>\n",
       "<style scoped>\n",
       "    .dataframe tbody tr th:only-of-type {\n",
       "        vertical-align: middle;\n",
       "    }\n",
       "\n",
       "    .dataframe tbody tr th {\n",
       "        vertical-align: top;\n",
       "    }\n",
       "\n",
       "    .dataframe thead th {\n",
       "        text-align: right;\n",
       "    }\n",
       "</style>\n",
       "<table border=\"1\" class=\"dataframe\">\n",
       "  <thead>\n",
       "    <tr style=\"text-align: right;\">\n",
       "      <th></th>\n",
       "      <th>alpha1</th>\n",
       "      <th>alpha10</th>\n",
       "    </tr>\n",
       "  </thead>\n",
       "  <tbody>\n",
       "    <tr>\n",
       "      <th>age</th>\n",
       "      <td>31.293287</td>\n",
       "      <td>16.703159</td>\n",
       "    </tr>\n",
       "    <tr>\n",
       "      <th>sex</th>\n",
       "      <td>-71.449580</td>\n",
       "      <td>-1.796452</td>\n",
       "    </tr>\n",
       "    <tr>\n",
       "      <th>bmi</th>\n",
       "      <td>267.605153</td>\n",
       "      <td>61.026348</td>\n",
       "    </tr>\n",
       "    <tr>\n",
       "      <th>bp</th>\n",
       "      <td>197.364745</td>\n",
       "      <td>47.435152</td>\n",
       "    </tr>\n",
       "    <tr>\n",
       "      <th>s1</th>\n",
       "      <td>14.613106</td>\n",
       "      <td>18.491225</td>\n",
       "    </tr>\n",
       "    <tr>\n",
       "      <th>s2</th>\n",
       "      <td>-13.884790</td>\n",
       "      <td>13.440080</td>\n",
       "    </tr>\n",
       "    <tr>\n",
       "      <th>s3</th>\n",
       "      <td>-124.649955</td>\n",
       "      <td>-35.542084</td>\n",
       "    </tr>\n",
       "    <tr>\n",
       "      <th>s4</th>\n",
       "      <td>106.212968</td>\n",
       "      <td>38.896129</td>\n",
       "    </tr>\n",
       "    <tr>\n",
       "      <th>s5</th>\n",
       "      <td>221.068052</td>\n",
       "      <td>55.276214</td>\n",
       "    </tr>\n",
       "    <tr>\n",
       "      <th>s6</th>\n",
       "      <td>101.202651</td>\n",
       "      <td>35.868345</td>\n",
       "    </tr>\n",
       "  </tbody>\n",
       "</table>\n",
       "</div>"
      ],
      "text/plain": [
       "         alpha1    alpha10\n",
       "age   31.293287  16.703159\n",
       "sex  -71.449580  -1.796452\n",
       "bmi  267.605153  61.026348\n",
       "bp   197.364745  47.435152\n",
       "s1    14.613106  18.491225\n",
       "s2   -13.884790  13.440080\n",
       "s3  -124.649955 -35.542084\n",
       "s4   106.212968  38.896129\n",
       "s5   221.068052  55.276214\n",
       "s6   101.202651  35.868345"
      ]
     },
     "execution_count": 53,
     "metadata": {},
     "output_type": "execute_result"
    }
   ],
   "source": [
    "coef"
   ]
  },
  {
   "cell_type": "code",
   "execution_count": 62,
   "id": "a975e961",
   "metadata": {},
   "outputs": [
    {
     "data": {
      "text/plain": [
       "array([[  -14.2262365 ],\n",
       "       [ -252.59663757],\n",
       "       [  478.23759862],\n",
       "       [  374.57525253],\n",
       "       [-1027.27642557],\n",
       "       [  669.70386131],\n",
       "       [  228.63934981],\n",
       "       [  209.05596853],\n",
       "       [  787.86588112],\n",
       "       [   51.76048542]])"
      ]
     },
     "execution_count": 62,
     "metadata": {},
     "output_type": "execute_result"
    }
   ],
   "source": [
    "model.coef_.T"
   ]
  },
  {
   "cell_type": "code",
   "execution_count": 118,
   "id": "1fe7fb48",
   "metadata": {},
   "outputs": [
    {
     "data": {
      "text/plain": [
       "4179.146884323723"
      ]
     },
     "execution_count": 118,
     "metadata": {},
     "output_type": "execute_result"
    }
   ],
   "source": [
    "# 릿지회귀\n",
    "from sklearn.linear_model import Lasso\n",
    "\n",
    "model = Lasso(alpha = 1)\n",
    "model.fit(X_train, y_train)\n",
    "pred = model.predict(X_test)\n",
    "#print(pred)\n",
    "mean_squared_error(y_test, pred)"
   ]
  },
  {
   "cell_type": "code",
   "execution_count": 119,
   "id": "5f86529b",
   "metadata": {},
   "outputs": [
    {
     "name": "stdout",
     "output_type": "stream",
     "text": [
      "0.01 2676.3844653651836\n",
      "0.1 2775.180919040914\n",
      "0.5 3375.239175083079\n",
      "1 4179.146884323723\n",
      "2 6398.637179448666\n",
      "3 6595.844885678807\n",
      "4 6595.844885678807\n",
      "5 6595.844885678807\n",
      "6 6595.844885678807\n",
      "7 6595.844885678807\n",
      "8 6595.844885678807\n",
      "9 6595.844885678807\n",
      "10 6595.844885678807\n"
     ]
    }
   ],
   "source": [
    "alphas = [0.01, 0.1, 0.5] + list(range(1, 11))\n",
    "\n",
    "for i in range(len(alphas)):\n",
    "    model = Lasso(alpha = alphas[i])\n",
    "    model.fit(X_train, y_train)\n",
    "    pred = model.predict(X_test)\n",
    "    #print(pred)\n",
    "    print(alphas[i], mean_squared_error(y_test, pred))\n",
    "    \n",
    "    if i == 0:\n",
    "        coef = pd.DataFrame(model.coef_.T, index = X_train.columns, columns = ['alpha' + str(alphas[i])])\n",
    "    else:\n",
    "        coef['alpha' + str(alphas[i])] = model.coef_.T"
   ]
  },
  {
   "cell_type": "code",
   "execution_count": 120,
   "id": "b428af13",
   "metadata": {},
   "outputs": [
    {
     "data": {
      "text/html": [
       "<div>\n",
       "<style scoped>\n",
       "    .dataframe tbody tr th:only-of-type {\n",
       "        vertical-align: middle;\n",
       "    }\n",
       "\n",
       "    .dataframe tbody tr th {\n",
       "        vertical-align: top;\n",
       "    }\n",
       "\n",
       "    .dataframe thead th {\n",
       "        text-align: right;\n",
       "    }\n",
       "</style>\n",
       "<table border=\"1\" class=\"dataframe\">\n",
       "  <thead>\n",
       "    <tr style=\"text-align: right;\">\n",
       "      <th></th>\n",
       "      <th>alpha0.01</th>\n",
       "      <th>alpha0.1</th>\n",
       "      <th>alpha0.5</th>\n",
       "      <th>alpha1</th>\n",
       "      <th>alpha2</th>\n",
       "      <th>alpha3</th>\n",
       "      <th>alpha4</th>\n",
       "      <th>alpha5</th>\n",
       "      <th>alpha6</th>\n",
       "      <th>alpha7</th>\n",
       "      <th>alpha8</th>\n",
       "      <th>alpha9</th>\n",
       "      <th>alpha10</th>\n",
       "    </tr>\n",
       "  </thead>\n",
       "  <tbody>\n",
       "    <tr>\n",
       "      <th>age</th>\n",
       "      <td>-2.721845</td>\n",
       "      <td>0.000000</td>\n",
       "      <td>0.000000</td>\n",
       "      <td>0.000000</td>\n",
       "      <td>0.000000</td>\n",
       "      <td>0.0</td>\n",
       "      <td>0.0</td>\n",
       "      <td>0.0</td>\n",
       "      <td>0.0</td>\n",
       "      <td>0.0</td>\n",
       "      <td>0.0</td>\n",
       "      <td>0.0</td>\n",
       "      <td>0.0</td>\n",
       "    </tr>\n",
       "    <tr>\n",
       "      <th>sex</th>\n",
       "      <td>-239.368344</td>\n",
       "      <td>-158.093840</td>\n",
       "      <td>-0.000000</td>\n",
       "      <td>-0.000000</td>\n",
       "      <td>0.000000</td>\n",
       "      <td>0.0</td>\n",
       "      <td>0.0</td>\n",
       "      <td>0.0</td>\n",
       "      <td>0.0</td>\n",
       "      <td>0.0</td>\n",
       "      <td>0.0</td>\n",
       "      <td>0.0</td>\n",
       "      <td>0.0</td>\n",
       "    </tr>\n",
       "    <tr>\n",
       "      <th>bmi</th>\n",
       "      <td>484.703250</td>\n",
       "      <td>482.606228</td>\n",
       "      <td>445.966321</td>\n",
       "      <td>343.588370</td>\n",
       "      <td>42.963888</td>\n",
       "      <td>0.0</td>\n",
       "      <td>0.0</td>\n",
       "      <td>0.0</td>\n",
       "      <td>0.0</td>\n",
       "      <td>0.0</td>\n",
       "      <td>0.0</td>\n",
       "      <td>0.0</td>\n",
       "      <td>0.0</td>\n",
       "    </tr>\n",
       "    <tr>\n",
       "      <th>bp</th>\n",
       "      <td>364.263056</td>\n",
       "      <td>319.756824</td>\n",
       "      <td>177.289868</td>\n",
       "      <td>46.375388</td>\n",
       "      <td>0.000000</td>\n",
       "      <td>0.0</td>\n",
       "      <td>0.0</td>\n",
       "      <td>0.0</td>\n",
       "      <td>0.0</td>\n",
       "      <td>0.0</td>\n",
       "      <td>0.0</td>\n",
       "      <td>0.0</td>\n",
       "      <td>0.0</td>\n",
       "    </tr>\n",
       "    <tr>\n",
       "      <th>s1</th>\n",
       "      <td>-500.344995</td>\n",
       "      <td>-38.639492</td>\n",
       "      <td>0.000000</td>\n",
       "      <td>0.000000</td>\n",
       "      <td>0.000000</td>\n",
       "      <td>0.0</td>\n",
       "      <td>0.0</td>\n",
       "      <td>0.0</td>\n",
       "      <td>0.0</td>\n",
       "      <td>0.0</td>\n",
       "      <td>0.0</td>\n",
       "      <td>0.0</td>\n",
       "      <td>0.0</td>\n",
       "    </tr>\n",
       "    <tr>\n",
       "      <th>s2</th>\n",
       "      <td>254.417506</td>\n",
       "      <td>-0.000000</td>\n",
       "      <td>0.000000</td>\n",
       "      <td>0.000000</td>\n",
       "      <td>0.000000</td>\n",
       "      <td>0.0</td>\n",
       "      <td>0.0</td>\n",
       "      <td>0.0</td>\n",
       "      <td>0.0</td>\n",
       "      <td>0.0</td>\n",
       "      <td>0.0</td>\n",
       "      <td>0.0</td>\n",
       "      <td>0.0</td>\n",
       "    </tr>\n",
       "    <tr>\n",
       "      <th>s3</th>\n",
       "      <td>-0.000000</td>\n",
       "      <td>-185.530318</td>\n",
       "      <td>-22.237155</td>\n",
       "      <td>-0.000000</td>\n",
       "      <td>-0.000000</td>\n",
       "      <td>-0.0</td>\n",
       "      <td>-0.0</td>\n",
       "      <td>-0.0</td>\n",
       "      <td>-0.0</td>\n",
       "      <td>-0.0</td>\n",
       "      <td>-0.0</td>\n",
       "      <td>-0.0</td>\n",
       "      <td>-0.0</td>\n",
       "    </tr>\n",
       "    <tr>\n",
       "      <th>s4</th>\n",
       "      <td>139.252171</td>\n",
       "      <td>0.000000</td>\n",
       "      <td>0.000000</td>\n",
       "      <td>0.000000</td>\n",
       "      <td>0.000000</td>\n",
       "      <td>0.0</td>\n",
       "      <td>0.0</td>\n",
       "      <td>0.0</td>\n",
       "      <td>0.0</td>\n",
       "      <td>0.0</td>\n",
       "      <td>0.0</td>\n",
       "      <td>0.0</td>\n",
       "      <td>0.0</td>\n",
       "    </tr>\n",
       "    <tr>\n",
       "      <th>s5</th>\n",
       "      <td>591.410695</td>\n",
       "      <td>429.129707</td>\n",
       "      <td>356.354312</td>\n",
       "      <td>245.167660</td>\n",
       "      <td>0.000000</td>\n",
       "      <td>0.0</td>\n",
       "      <td>0.0</td>\n",
       "      <td>0.0</td>\n",
       "      <td>0.0</td>\n",
       "      <td>0.0</td>\n",
       "      <td>0.0</td>\n",
       "      <td>0.0</td>\n",
       "      <td>0.0</td>\n",
       "    </tr>\n",
       "    <tr>\n",
       "      <th>s6</th>\n",
       "      <td>50.870178</td>\n",
       "      <td>18.532354</td>\n",
       "      <td>0.000000</td>\n",
       "      <td>0.000000</td>\n",
       "      <td>0.000000</td>\n",
       "      <td>0.0</td>\n",
       "      <td>0.0</td>\n",
       "      <td>0.0</td>\n",
       "      <td>0.0</td>\n",
       "      <td>0.0</td>\n",
       "      <td>0.0</td>\n",
       "      <td>0.0</td>\n",
       "      <td>0.0</td>\n",
       "    </tr>\n",
       "  </tbody>\n",
       "</table>\n",
       "</div>"
      ],
      "text/plain": [
       "      alpha0.01    alpha0.1    alpha0.5      alpha1     alpha2  alpha3  \\\n",
       "age   -2.721845    0.000000    0.000000    0.000000   0.000000     0.0   \n",
       "sex -239.368344 -158.093840   -0.000000   -0.000000   0.000000     0.0   \n",
       "bmi  484.703250  482.606228  445.966321  343.588370  42.963888     0.0   \n",
       "bp   364.263056  319.756824  177.289868   46.375388   0.000000     0.0   \n",
       "s1  -500.344995  -38.639492    0.000000    0.000000   0.000000     0.0   \n",
       "s2   254.417506   -0.000000    0.000000    0.000000   0.000000     0.0   \n",
       "s3    -0.000000 -185.530318  -22.237155   -0.000000  -0.000000    -0.0   \n",
       "s4   139.252171    0.000000    0.000000    0.000000   0.000000     0.0   \n",
       "s5   591.410695  429.129707  356.354312  245.167660   0.000000     0.0   \n",
       "s6    50.870178   18.532354    0.000000    0.000000   0.000000     0.0   \n",
       "\n",
       "     alpha4  alpha5  alpha6  alpha7  alpha8  alpha9  alpha10  \n",
       "age     0.0     0.0     0.0     0.0     0.0     0.0      0.0  \n",
       "sex     0.0     0.0     0.0     0.0     0.0     0.0      0.0  \n",
       "bmi     0.0     0.0     0.0     0.0     0.0     0.0      0.0  \n",
       "bp      0.0     0.0     0.0     0.0     0.0     0.0      0.0  \n",
       "s1      0.0     0.0     0.0     0.0     0.0     0.0      0.0  \n",
       "s2      0.0     0.0     0.0     0.0     0.0     0.0      0.0  \n",
       "s3     -0.0    -0.0    -0.0    -0.0    -0.0    -0.0     -0.0  \n",
       "s4      0.0     0.0     0.0     0.0     0.0     0.0      0.0  \n",
       "s5      0.0     0.0     0.0     0.0     0.0     0.0      0.0  \n",
       "s6      0.0     0.0     0.0     0.0     0.0     0.0      0.0  "
      ]
     },
     "execution_count": 120,
     "metadata": {},
     "output_type": "execute_result"
    }
   ],
   "source": [
    "coef"
   ]
  },
  {
   "cell_type": "code",
   "execution_count": 121,
   "id": "89104493",
   "metadata": {},
   "outputs": [
    {
     "data": {
      "text/plain": [
       "(0.01, 2676.3844653651836)"
      ]
     },
     "execution_count": 121,
     "metadata": {},
     "output_type": "execute_result"
    }
   ],
   "source": [
    "# Q. 라쏘 회귀의 alpha 값을 0.001, 0.01, 0.05, 0.1, 1, 10을 각각 넣어보고,\n",
    "# 어떤 alpha 값이 가장 mean squared error가 작은지 찾아보세요.\n",
    "from sklearn.linear_model import Lasso\n",
    "alpha_list = [0.001, 0.01, 0.05, 0.1, 1, 10]\n",
    "mse_dic = {}\n",
    "for alpha in alpha_list:\n",
    "    model = Lasso(alpha = alpha)\n",
    "    model.fit(X_train, y_train)\n",
    "    pred = model.predict(X_test)\n",
    "    mse = mean_squared_error(y_test, pred)\n",
    "    mse_dic[alpha] = mse\n",
    "\n",
    "min(mse_dic.items(), key = lambda x : x[1])"
   ]
  },
  {
   "cell_type": "code",
   "execution_count": 122,
   "id": "47899c98",
   "metadata": {},
   "outputs": [
    {
     "data": {
      "text/plain": [
       "6539.270795233337"
      ]
     },
     "execution_count": 122,
     "metadata": {},
     "output_type": "execute_result"
    }
   ],
   "source": [
    "#엘라스틱넷 회귀\n",
    "from sklearn.linear_model import ElasticNet\n",
    "\n",
    "model = ElasticNet(alpha = 1)\n",
    "model.fit(X_train, y_train)\n",
    "pred = model.predict(X_test)\n",
    "#print(pred)\n",
    "mean_squared_error(y_test, pred)"
   ]
  },
  {
   "cell_type": "code",
   "execution_count": 125,
   "id": "3c5ec94e",
   "metadata": {},
   "outputs": [
    {
     "data": {
      "text/plain": [
       "2785.1803654836626"
      ]
     },
     "execution_count": 125,
     "metadata": {},
     "output_type": "execute_result"
    }
   ],
   "source": [
    "#엘라스틱넷 회귀\n",
    "from sklearn.linear_model import ElasticNet\n",
    "\n",
    "model = ElasticNet(alpha = 0.001, l1_ratio = 0.6)\n",
    "model.fit(X_train, y_train)\n",
    "pred = model.predict(X_test)\n",
    "#print(pred)\n",
    "mean_squared_error(y_test, pred)"
   ]
  },
  {
   "cell_type": "code",
   "execution_count": 126,
   "id": "405b2a29",
   "metadata": {},
   "outputs": [
    {
     "name": "stderr",
     "output_type": "stream",
     "text": [
      "/tmp/ipykernel_31/998283942.py:3: DataConversionWarning: A column-vector y was passed when a 1d array was expected. Please change the shape of y to (n_samples,), for example using ravel().\n",
      "  model.fit(X_train, y_train)\n"
     ]
    },
    {
     "data": {
      "text/plain": [
       "3381.7931505617976"
      ]
     },
     "execution_count": 126,
     "metadata": {},
     "output_type": "execute_result"
    }
   ],
   "source": [
    "from sklearn.ensemble import RandomForestRegressor\n",
    "model = RandomForestRegressor()\n",
    "model.fit(X_train, y_train)\n",
    "pred = model.predict(X_test)\n",
    "mean_squared_error(y_test, pred)"
   ]
  },
  {
   "cell_type": "code",
   "execution_count": 127,
   "id": "0e708602",
   "metadata": {},
   "outputs": [
    {
     "data": {
      "text/plain": [
       "4028.2455020344587"
      ]
     },
     "execution_count": 127,
     "metadata": {},
     "output_type": "execute_result"
    }
   ],
   "source": [
    "from xgboost import XGBRegressor\n",
    "model = XGBRegressor()\n",
    "model.fit(X_train, y_train)\n",
    "pred = model.predict(X_test)\n",
    "mean_squared_error(y_test, pred)"
   ]
  },
  {
   "cell_type": "code",
   "execution_count": 128,
   "id": "c40cf50a",
   "metadata": {},
   "outputs": [],
   "source": [
    "from sklearn.model_selection import GridSearchCV, RandomizedSearchCV\n",
    "\n",
    "params = {'learning_rate': [0.07, 0.05],\n",
    "          'max_depth': [3, 5, 7],\n",
    "          'n_estimators': [100, 200],\n",
    "          'subsample': [0.9, 0.8, 0.7]\n",
    "         }\n",
    "\n",
    "# 데이터 로드\n",
    "def make_dataset2():\n",
    "    dataset = load_diabetes()\n",
    "    df = pd.DataFrame(dataset.data, columns=dataset.feature_names)\n",
    "    df['target'] = dataset.target\n",
    "    return df.drop('target', axis=1), df['target']\n",
    "X, y = make_dataset2()"
   ]
  },
  {
   "cell_type": "code",
   "execution_count": 129,
   "id": "8d047105",
   "metadata": {},
   "outputs": [
    {
     "name": "stderr",
     "output_type": "stream",
     "text": [
      "/opt/conda/lib/python3.9/site-packages/pkg_resources/__init__.py:122: PkgResourcesDeprecationWarning: 0.996-ko-0.9.2 is an invalid version and will not be supported in a future release\n",
      "  warnings.warn(\n",
      "/opt/conda/lib/python3.9/site-packages/pkg_resources/__init__.py:122: PkgResourcesDeprecationWarning: 0.996-ko-0.9.2 is an invalid version and will not be supported in a future release\n",
      "  warnings.warn(\n"
     ]
    },
    {
     "data": {
      "text/plain": [
       "GridSearchCV(cv=3,\n",
       "             estimator=XGBRegressor(base_score=None, booster=None,\n",
       "                                    colsample_bylevel=None,\n",
       "                                    colsample_bynode=None,\n",
       "                                    colsample_bytree=None, gamma=None,\n",
       "                                    gpu_id=None, importance_type='gain',\n",
       "                                    interaction_constraints=None,\n",
       "                                    learning_rate=None, max_delta_step=None,\n",
       "                                    max_depth=None, min_child_weight=None,\n",
       "                                    missing=nan, monotone_constraints=None,\n",
       "                                    n_estimators=100, n_jobs=None,\n",
       "                                    num_parallel_tree=None, random_state=None,\n",
       "                                    reg_alpha=None, reg_lambda=None,\n",
       "                                    scale_pos_weight=None, subsample=None,\n",
       "                                    tree_method=None, validate_parameters=None,\n",
       "                                    verbosity=None),\n",
       "             n_jobs=-1,\n",
       "             param_grid={'learning_rate': [0.07, 0.05], 'max_depth': [3, 5, 7],\n",
       "                         'n_estimators': [100, 200],\n",
       "                         'subsample': [0.9, 0.8, 0.7]})"
      ]
     },
     "execution_count": 129,
     "metadata": {},
     "output_type": "execute_result"
    }
   ],
   "source": [
    "#GridSearchCV\n",
    "xgb = XGBRegressor()\n",
    "grid = GridSearchCV(xgb, params, cv = 3, n_jobs = -1)\n",
    "grid.fit(X, y)"
   ]
  },
  {
   "cell_type": "code",
   "execution_count": 97,
   "id": "1212f374",
   "metadata": {},
   "outputs": [
    {
     "data": {
      "text/plain": [
       "{'learning_rate': 0.05, 'max_depth': 3, 'n_estimators': 100, 'subsample': 0.7}"
      ]
     },
     "execution_count": 97,
     "metadata": {},
     "output_type": "execute_result"
    }
   ],
   "source": [
    "grid.best_params_"
   ]
  },
  {
   "cell_type": "code",
   "execution_count": 99,
   "id": "f4dfdb6f",
   "metadata": {},
   "outputs": [
    {
     "data": {
      "text/plain": [
       "4028.2455020344587"
      ]
     },
     "execution_count": 99,
     "metadata": {},
     "output_type": "execute_result"
    }
   ],
   "source": [
    "#하이퍼파라미터 튜닝\n",
    "# xbg = XGBRegressor(\n",
    "#     learning_rate = 0.05,\n",
    "#     max_depth = 3,\n",
    "#     n_estimator = 100,\n",
    "#     subsample = 0.7\n",
    "# )\n",
    "xgb = XGBRegressor(**grid.best_params)\n",
    "xgb.fit(X_train, y_train)\n",
    "perd = xgb.predict(X_test)\n",
    "mean_squared_error(y_test, pred)"
   ]
  },
  {
   "cell_type": "code",
   "execution_count": 100,
   "id": "e2f5d2a5",
   "metadata": {},
   "outputs": [
    {
     "name": "stderr",
     "output_type": "stream",
     "text": [
      "/opt/conda/lib/python3.9/site-packages/pkg_resources/__init__.py:122: PkgResourcesDeprecationWarning: 0.996-ko-0.9.2 is an invalid version and will not be supported in a future release\n",
      "  warnings.warn(\n",
      "/opt/conda/lib/python3.9/site-packages/pkg_resources/__init__.py:122: PkgResourcesDeprecationWarning: 0.996-ko-0.9.2 is an invalid version and will not be supported in a future release\n",
      "  warnings.warn(\n"
     ]
    },
    {
     "data": {
      "text/plain": [
       "RandomizedSearchCV(cv=3,\n",
       "                   estimator=XGBRegressor(base_score=None, booster=None,\n",
       "                                          colsample_bylevel=None,\n",
       "                                          colsample_bynode=None,\n",
       "                                          colsample_bytree=None, gamma=None,\n",
       "                                          gpu_id=None, importance_type='gain',\n",
       "                                          interaction_constraints=None,\n",
       "                                          learning_rate=None,\n",
       "                                          max_delta_step=None, max_depth=None,\n",
       "                                          min_child_weight=None, missing=nan,\n",
       "                                          monotone_constraints=None,\n",
       "                                          n_estimators=100, n_jobs=None,\n",
       "                                          num_parallel_tree=None,\n",
       "                                          random_state=None, reg_alpha=None,\n",
       "                                          reg_lambda=None,\n",
       "                                          scale_pos_weight=None, subsample=None,\n",
       "                                          tree_method=None,\n",
       "                                          validate_parameters=None,\n",
       "                                          verbosity=None),\n",
       "                   n_jobs=-1,\n",
       "                   param_distributions={'learning_rate': [0.07, 0.05],\n",
       "                                        'max_depth': [3, 5, 7],\n",
       "                                        'n_estimators': [100, 200],\n",
       "                                        'subsample': [0.9, 0.8, 0.7]})"
      ]
     },
     "execution_count": 100,
     "metadata": {},
     "output_type": "execute_result"
    }
   ],
   "source": [
    "#RandomizedSearchCV\n",
    "xgb = XGBRegressor()\n",
    "grid = RandomizedSearchCV(xgb, params, cv = 3, n_iter = 10, n_jobs = -1)\n",
    "grid.fit(X, y)"
   ]
  },
  {
   "cell_type": "code",
   "execution_count": 106,
   "id": "6985b124",
   "metadata": {},
   "outputs": [
    {
     "data": {
      "text/plain": [
       "49.95669229914633"
      ]
     },
     "execution_count": 106,
     "metadata": {},
     "output_type": "execute_result"
    }
   ],
   "source": [
    "#MAE\n",
    "from sklearn.metrics import mean_absolute_error\n",
    "mean_absolute_error(y_test, pred)"
   ]
  },
  {
   "cell_type": "code",
   "execution_count": 107,
   "id": "6e42ac89",
   "metadata": {},
   "outputs": [
    {
     "data": {
      "text/plain": [
       "63.46846068745057"
      ]
     },
     "execution_count": 107,
     "metadata": {},
     "output_type": "execute_result"
    }
   ],
   "source": [
    "#RMSE\n",
    "from sklearn.metrics import mean_squared_error\n",
    "import numpy as np\n",
    "np.sqrt(mean_squared_error(y_test, pred))"
   ]
  },
  {
   "cell_type": "code",
   "execution_count": 108,
   "id": "96ce839e",
   "metadata": {},
   "outputs": [
    {
     "data": {
      "text/plain": [
       "0.46858782885338846"
      ]
     },
     "execution_count": 108,
     "metadata": {},
     "output_type": "execute_result"
    }
   ],
   "source": [
    "#RMSLE\n",
    "from sklearn.metrics import mean_squared_log_error\n",
    "\n",
    "np.sqrt(mean_squared_log_error(y_test, pred))"
   ]
  },
  {
   "cell_type": "code",
   "execution_count": 109,
   "id": "bc653878",
   "metadata": {},
   "outputs": [
    {
     "data": {
      "text/plain": [
       "0.38476764985992584"
      ]
     },
     "execution_count": 109,
     "metadata": {},
     "output_type": "execute_result"
    }
   ],
   "source": [
    "# R2\n",
    "from sklearn.metrics import r2_score\n",
    "r2_score(y_test, pred)"
   ]
  },
  {
   "cell_type": "code",
   "execution_count": 110,
   "id": "df3fc84c",
   "metadata": {},
   "outputs": [
    {
     "ename": "AttributeError",
     "evalue": "module 'numpy' has no attribute 'arrange'",
     "output_type": "error",
     "traceback": [
      "\u001b[0;31m---------------------------------------------------------------------------\u001b[0m",
      "\u001b[0;31mAttributeError\u001b[0m                            Traceback (most recent call last)",
      "\u001b[0;32m/tmp/ipykernel_31/1915857458.py\u001b[0m in \u001b[0;36m<module>\u001b[0;34m\u001b[0m\n\u001b[1;32m      2\u001b[0m \u001b[0;34m\u001b[0m\u001b[0m\n\u001b[1;32m      3\u001b[0m params={'alpha': [0.0001, 0.001, 0.01, 0.1, 1],\n\u001b[0;32m----> 4\u001b[0;31m         'l1_ratio': list(np.arrange(0.1, 1, 0.1))}\n\u001b[0m\u001b[1;32m      5\u001b[0m \u001b[0;34m\u001b[0m\u001b[0m\n\u001b[1;32m      6\u001b[0m \u001b[0;32mfrom\u001b[0m \u001b[0msklearn\u001b[0m\u001b[0;34m.\u001b[0m\u001b[0mlinear_model\u001b[0m \u001b[0;32mimport\u001b[0m \u001b[0mElasticNet\u001b[0m\u001b[0;34m\u001b[0m\u001b[0;34m\u001b[0m\u001b[0m\n",
      "\u001b[0;32m/opt/conda/lib/python3.9/site-packages/numpy/__init__.py\u001b[0m in \u001b[0;36m__getattr__\u001b[0;34m(attr)\u001b[0m\n\u001b[1;32m    313\u001b[0m             \u001b[0;32mreturn\u001b[0m \u001b[0mTester\u001b[0m\u001b[0;34m\u001b[0m\u001b[0;34m\u001b[0m\u001b[0m\n\u001b[1;32m    314\u001b[0m \u001b[0;34m\u001b[0m\u001b[0m\n\u001b[0;32m--> 315\u001b[0;31m         raise AttributeError(\"module {!r} has no attribute \"\n\u001b[0m\u001b[1;32m    316\u001b[0m                              \"{!r}\".format(__name__, attr))\n\u001b[1;32m    317\u001b[0m \u001b[0;34m\u001b[0m\u001b[0m\n",
      "\u001b[0;31mAttributeError\u001b[0m: module 'numpy' has no attribute 'arrange'"
     ]
    }
   ],
   "source": [
    "import numpy as np\n",
    "\n",
    "params={'alpha': [0.0001, 0.001, 0.01, 0.1, 1],\n",
    "        'l1_ratio': list(np.arrange(0.1, 1, 0.1))}\n",
    "\n",
    "from sklearn.linear_model import ElasticNet\n",
    "model = ElasticNet()\n",
    "model.fit(X, y)\n",
    "pred = model.predict(X)\n",
    "\n",
    "from sklearn.model_selection import RandomizedSearchCV\n",
    "grid = RandomizedSearchCV(model, params, cv = 3, n_iter = 20, n_jobs = -1)\n",
    "grid.fit(X, y)"
   ]
  },
  {
   "cell_type": "code",
   "execution_count": null,
   "id": "14a960b9",
   "metadata": {},
   "outputs": [],
   "source": []
  }
 ],
 "metadata": {
  "kernelspec": {
   "display_name": "Python 3 (ipykernel)",
   "language": "python",
   "name": "python3"
  },
  "language_info": {
   "codemirror_mode": {
    "name": "ipython",
    "version": 3
   },
   "file_extension": ".py",
   "mimetype": "text/x-python",
   "name": "python",
   "nbconvert_exporter": "python",
   "pygments_lexer": "ipython3",
   "version": "3.9.7"
  }
 },
 "nbformat": 4,
 "nbformat_minor": 5
}
