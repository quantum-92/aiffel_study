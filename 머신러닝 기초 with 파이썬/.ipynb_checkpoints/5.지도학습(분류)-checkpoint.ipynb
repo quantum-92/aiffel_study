{
 "cells": [
  {
   "cell_type": "code",
   "execution_count": 2,
   "id": "b6ee304f",
   "metadata": {},
   "outputs": [],
   "source": [
    "import pandas as pd\n",
    "from sklearn.model_selection import train_test_split\n",
    "from sklearn.metrics import accuracy_score"
   ]
  },
  {
   "cell_type": "code",
   "execution_count": 11,
   "id": "81a149f3",
   "metadata": {},
   "outputs": [
    {
     "data": {
      "text/plain": [
       "((284, 30), (285, 30), (284,), (285,))"
      ]
     },
     "execution_count": 11,
     "metadata": {},
     "output_type": "execute_result"
    }
   ],
   "source": [
    "from sklearn.datasets import load_breast_cancer\n",
    "\n",
    "def make_dataset():\n",
    "    iris = load_breast_cancer()\n",
    "    df = pd.DataFrame(iris.data, columns = iris.feature_names)\n",
    "    df['target'] = iris.target\n",
    "    X_train, X_test, y_train, y_test = train_test_split(\n",
    "        df.drop('target', axis = 1), df['target'], test_size = 0.5, random_state = 1004)\n",
    "    return X_train, X_test, y_train, y_test\n",
    "    \n",
    "X_train, X_test, y_train, y_test = make_dataset()\n",
    "X_train.shape, X_test.shape, y_train.shape, y_test.shape"
   ]
  },
  {
   "cell_type": "code",
   "execution_count": 12,
   "id": "4aa8b8ba",
   "metadata": {},
   "outputs": [
    {
     "data": {
      "text/plain": [
       "1    190\n",
       "0     94\n",
       "Name: target, dtype: int64"
      ]
     },
     "execution_count": 12,
     "metadata": {},
     "output_type": "execute_result"
    }
   ],
   "source": [
    "y_train.value_counts()"
   ]
  },
  {
   "cell_type": "code",
   "execution_count": 23,
   "id": "4a170d53",
   "metadata": {},
   "outputs": [
    {
     "data": {
      "text/plain": [
       "0.9263157894736842"
      ]
     },
     "execution_count": 23,
     "metadata": {},
     "output_type": "execute_result"
    }
   ],
   "source": [
    "#의사결정나무\n",
    "from sklearn.tree import DecisionTreeClassifier\n",
    "model = DecisionTreeClassifier(random_state = 0)\n",
    "\n",
    "model.fit(X_train, y_train)\n",
    "pred = model.predict(X_test)\n",
    "accuracy_score(y_test, pred)\n"
   ]
  },
  {
   "cell_type": "code",
   "execution_count": 30,
   "id": "2a03af98",
   "metadata": {},
   "outputs": [
    {
     "data": {
      "text/plain": [
       "0.9403508771929825"
      ]
     },
     "execution_count": 30,
     "metadata": {},
     "output_type": "execute_result"
    }
   ],
   "source": [
    "#의사결정나무 하이퍼파라미터\n",
    "from sklearn.tree import DecisionTreeClassifier\n",
    "model = DecisionTreeClassifier(\n",
    "    criterion = \"entropy\", \n",
    "    max_depth = 5, \n",
    "    min_samples_split = 8,\n",
    "    min_samples_leaf = 2, \n",
    "    random_state = 0)\n",
    "\n",
    "model.fit(X_train, y_train)\n",
    "pred = model.predict(X_test)\n",
    "accuracy_score(y_test, pred)"
   ]
  },
  {
   "cell_type": "code",
   "execution_count": 53,
   "id": "2a4436f7",
   "metadata": {},
   "outputs": [
    {
     "data": {
      "text/plain": [
       "0.9508771929824561"
      ]
     },
     "execution_count": 53,
     "metadata": {},
     "output_type": "execute_result"
    }
   ],
   "source": [
    "#랜덤포레스트\n",
    "from sklearn.ensemble import RandomForestClassifier\n",
    "model = RandomForestClassifier(\n",
    "    random_state = 0,\n",
    "    n_estimators = 150,\n",
    "    max_depth = 5)\n",
    "model.fit(X_train, y_train)\n",
    "pred = model.predict(X_test)\n",
    "accuracy_score(y_test, pred)"
   ]
  },
  {
   "cell_type": "code",
   "execution_count": 57,
   "id": "9f180682",
   "metadata": {},
   "outputs": [
    {
     "data": {
      "text/plain": [
       "0.9508771929824561"
      ]
     },
     "execution_count": 57,
     "metadata": {},
     "output_type": "execute_result"
    }
   ],
   "source": [
    "# xgboost\n",
    "from xgboost import XGBClassifier\n",
    "model = XGBClassifier(\n",
    "    random_state = 0,\n",
    "    use_label_encoder = False,\n",
    "    eval_metric = 'logloss')\n",
    "model.fit(X_train, y_train)\n",
    "pred = model.predict(X_test)\n",
    "accuracy_score(pred, y_test)\n"
   ]
  },
  {
   "cell_type": "code",
   "execution_count": 64,
   "id": "ff55483b",
   "metadata": {},
   "outputs": [
    {
     "data": {
      "text/plain": [
       "0.9649122807017544"
      ]
     },
     "execution_count": 64,
     "metadata": {},
     "output_type": "execute_result"
    }
   ],
   "source": [
    "# xgboost\n",
    "from xgboost import XGBClassifier\n",
    "model = XGBClassifier(\n",
    "    random_state = 0,\n",
    "    use_label_encoder = False,\n",
    "    eval_metric = 'logloss', \n",
    "# xgboost 하이퍼파라미터\n",
    "    booster = 'gbtree',\n",
    "    objective = 'binary:logistic', #multi:softmax\n",
    "    max_depth = 5, \n",
    "    learning_rate = 0.05,\n",
    "    n_estimators = 500,\n",
    "    subsample = 1,\n",
    "    colsample_bytree = 1,\n",
    "    n_jobs = -1\n",
    ")\n",
    "model.fit(X_train, y_train)\n",
    "pred = model.predict(X_test)\n",
    "accuracy_score(pred, y_test)\n",
    " "
   ]
  },
  {
   "cell_type": "code",
   "execution_count": 68,
   "id": "053b8ba0",
   "metadata": {},
   "outputs": [
    {
     "name": "stdout",
     "output_type": "stream",
     "text": [
      "[0]\tvalidation_0-logloss:0.65391\n",
      "[1]\tvalidation_0-logloss:0.61861\n",
      "[2]\tvalidation_0-logloss:0.58697\n",
      "[3]\tvalidation_0-logloss:0.55756\n",
      "[4]\tvalidation_0-logloss:0.53038\n",
      "[5]\tvalidation_0-logloss:0.50611\n",
      "[6]\tvalidation_0-logloss:0.48363\n",
      "[7]\tvalidation_0-logloss:0.46304\n",
      "[8]\tvalidation_0-logloss:0.44332\n",
      "[9]\tvalidation_0-logloss:0.42512\n",
      "[10]\tvalidation_0-logloss:0.40821\n",
      "[11]\tvalidation_0-logloss:0.39260\n",
      "[12]\tvalidation_0-logloss:0.37838\n",
      "[13]\tvalidation_0-logloss:0.36512\n",
      "[14]\tvalidation_0-logloss:0.35276\n",
      "[15]\tvalidation_0-logloss:0.34090\n",
      "[16]\tvalidation_0-logloss:0.33018\n",
      "[17]\tvalidation_0-logloss:0.31967\n",
      "[18]\tvalidation_0-logloss:0.30998\n",
      "[19]\tvalidation_0-logloss:0.30105\n",
      "[20]\tvalidation_0-logloss:0.29259\n",
      "[21]\tvalidation_0-logloss:0.28478\n",
      "[22]\tvalidation_0-logloss:0.27725\n",
      "[23]\tvalidation_0-logloss:0.27027\n",
      "[24]\tvalidation_0-logloss:0.26359\n",
      "[25]\tvalidation_0-logloss:0.25755\n",
      "[26]\tvalidation_0-logloss:0.25139\n",
      "[27]\tvalidation_0-logloss:0.24593\n",
      "[28]\tvalidation_0-logloss:0.24103\n",
      "[29]\tvalidation_0-logloss:0.23648\n",
      "[30]\tvalidation_0-logloss:0.23197\n",
      "[31]\tvalidation_0-logloss:0.22778\n",
      "[32]\tvalidation_0-logloss:0.22354\n",
      "[33]\tvalidation_0-logloss:0.21985\n",
      "[34]\tvalidation_0-logloss:0.21678\n",
      "[35]\tvalidation_0-logloss:0.21353\n",
      "[36]\tvalidation_0-logloss:0.21061\n",
      "[37]\tvalidation_0-logloss:0.20800\n",
      "[38]\tvalidation_0-logloss:0.20558\n",
      "[39]\tvalidation_0-logloss:0.20268\n",
      "[40]\tvalidation_0-logloss:0.20042\n",
      "[41]\tvalidation_0-logloss:0.19771\n",
      "[42]\tvalidation_0-logloss:0.19510\n",
      "[43]\tvalidation_0-logloss:0.19354\n",
      "[44]\tvalidation_0-logloss:0.19128\n",
      "[45]\tvalidation_0-logloss:0.18976\n",
      "[46]\tvalidation_0-logloss:0.18854\n",
      "[47]\tvalidation_0-logloss:0.18668\n",
      "[48]\tvalidation_0-logloss:0.18535\n",
      "[49]\tvalidation_0-logloss:0.18346\n",
      "[50]\tvalidation_0-logloss:0.18234\n",
      "[51]\tvalidation_0-logloss:0.18057\n",
      "[52]\tvalidation_0-logloss:0.17897\n",
      "[53]\tvalidation_0-logloss:0.17816\n",
      "[54]\tvalidation_0-logloss:0.17703\n",
      "[55]\tvalidation_0-logloss:0.17564\n",
      "[56]\tvalidation_0-logloss:0.17445\n",
      "[57]\tvalidation_0-logloss:0.17335\n",
      "[58]\tvalidation_0-logloss:0.17179\n",
      "[59]\tvalidation_0-logloss:0.17106\n",
      "[60]\tvalidation_0-logloss:0.17022\n",
      "[61]\tvalidation_0-logloss:0.16983\n",
      "[62]\tvalidation_0-logloss:0.16899\n",
      "[63]\tvalidation_0-logloss:0.16851\n",
      "[64]\tvalidation_0-logloss:0.16776\n",
      "[65]\tvalidation_0-logloss:0.16681\n",
      "[66]\tvalidation_0-logloss:0.16665\n",
      "[67]\tvalidation_0-logloss:0.16632\n",
      "[68]\tvalidation_0-logloss:0.16533\n",
      "[69]\tvalidation_0-logloss:0.16539\n",
      "[70]\tvalidation_0-logloss:0.16520\n",
      "[71]\tvalidation_0-logloss:0.16446\n",
      "[72]\tvalidation_0-logloss:0.16442\n",
      "[73]\tvalidation_0-logloss:0.16449\n",
      "[74]\tvalidation_0-logloss:0.16469\n",
      "[75]\tvalidation_0-logloss:0.16493\n",
      "[76]\tvalidation_0-logloss:0.16526\n",
      "[77]\tvalidation_0-logloss:0.16542\n",
      "[78]\tvalidation_0-logloss:0.16545\n",
      "[79]\tvalidation_0-logloss:0.16448\n",
      "[80]\tvalidation_0-logloss:0.16470\n",
      "[81]\tvalidation_0-logloss:0.16494\n",
      "[82]\tvalidation_0-logloss:0.16506\n",
      "[83]\tvalidation_0-logloss:0.16527\n",
      "[84]\tvalidation_0-logloss:0.16525\n",
      "[85]\tvalidation_0-logloss:0.16563\n",
      "[86]\tvalidation_0-logloss:0.16514\n",
      "[87]\tvalidation_0-logloss:0.16538\n",
      "[88]\tvalidation_0-logloss:0.16485\n",
      "[89]\tvalidation_0-logloss:0.16481\n",
      "[90]\tvalidation_0-logloss:0.16507\n",
      "[91]\tvalidation_0-logloss:0.16553\n",
      "[92]\tvalidation_0-logloss:0.16609\n",
      "[93]\tvalidation_0-logloss:0.16562\n",
      "[94]\tvalidation_0-logloss:0.16602\n",
      "[95]\tvalidation_0-logloss:0.16613\n",
      "[96]\tvalidation_0-logloss:0.16536\n",
      "[97]\tvalidation_0-logloss:0.16562\n",
      "[98]\tvalidation_0-logloss:0.16601\n",
      "[99]\tvalidation_0-logloss:0.16615\n",
      "[100]\tvalidation_0-logloss:0.16661\n",
      "[101]\tvalidation_0-logloss:0.16721\n",
      "[102]\tvalidation_0-logloss:0.16740\n",
      "[103]\tvalidation_0-logloss:0.16787\n",
      "[104]\tvalidation_0-logloss:0.16845\n",
      "[105]\tvalidation_0-logloss:0.16827\n",
      "[106]\tvalidation_0-logloss:0.16800\n",
      "[107]\tvalidation_0-logloss:0.16803\n",
      "[108]\tvalidation_0-logloss:0.16815\n",
      "[109]\tvalidation_0-logloss:0.16843\n",
      "[110]\tvalidation_0-logloss:0.16815\n",
      "[111]\tvalidation_0-logloss:0.16845\n",
      "[112]\tvalidation_0-logloss:0.16867\n",
      "[113]\tvalidation_0-logloss:0.16925\n",
      "[114]\tvalidation_0-logloss:0.16879\n",
      "[115]\tvalidation_0-logloss:0.16867\n",
      "[116]\tvalidation_0-logloss:0.16881\n",
      "[117]\tvalidation_0-logloss:0.16831\n",
      "[118]\tvalidation_0-logloss:0.16787\n",
      "[119]\tvalidation_0-logloss:0.16809\n",
      "[120]\tvalidation_0-logloss:0.16869\n",
      "[121]\tvalidation_0-logloss:0.16827\n",
      "[122]\tvalidation_0-logloss:0.16815\n",
      "[123]\tvalidation_0-logloss:0.16768\n",
      "[124]\tvalidation_0-logloss:0.16793\n",
      "[125]\tvalidation_0-logloss:0.16813\n",
      "[126]\tvalidation_0-logloss:0.16768\n",
      "[127]\tvalidation_0-logloss:0.16730\n",
      "[128]\tvalidation_0-logloss:0.16729\n",
      "[129]\tvalidation_0-logloss:0.16755\n",
      "[130]\tvalidation_0-logloss:0.16749\n",
      "[131]\tvalidation_0-logloss:0.16806\n",
      "[132]\tvalidation_0-logloss:0.16826\n",
      "[133]\tvalidation_0-logloss:0.16784\n",
      "[134]\tvalidation_0-logloss:0.16842\n",
      "[135]\tvalidation_0-logloss:0.16823\n",
      "[136]\tvalidation_0-logloss:0.16817\n",
      "[137]\tvalidation_0-logloss:0.16842\n",
      "[138]\tvalidation_0-logloss:0.16862\n",
      "[139]\tvalidation_0-logloss:0.16821\n",
      "[140]\tvalidation_0-logloss:0.16869\n",
      "[141]\tvalidation_0-logloss:0.16888\n",
      "[142]\tvalidation_0-logloss:0.16882\n",
      "[143]\tvalidation_0-logloss:0.16903\n",
      "[144]\tvalidation_0-logloss:0.16863\n",
      "[145]\tvalidation_0-logloss:0.16911\n",
      "[146]\tvalidation_0-logloss:0.16928\n",
      "[147]\tvalidation_0-logloss:0.16922\n",
      "[148]\tvalidation_0-logloss:0.16922\n",
      "[149]\tvalidation_0-logloss:0.16940\n",
      "[150]\tvalidation_0-logloss:0.16907\n",
      "[151]\tvalidation_0-logloss:0.16954\n",
      "[152]\tvalidation_0-logloss:0.16944\n",
      "[153]\tvalidation_0-logloss:0.16938\n",
      "[154]\tvalidation_0-logloss:0.16932\n",
      "[155]\tvalidation_0-logloss:0.16932\n",
      "[156]\tvalidation_0-logloss:0.16900\n",
      "[157]\tvalidation_0-logloss:0.16925\n",
      "[158]\tvalidation_0-logloss:0.16919\n",
      "[159]\tvalidation_0-logloss:0.16964\n",
      "[160]\tvalidation_0-logloss:0.16987\n",
      "[161]\tvalidation_0-logloss:0.16982\n",
      "[162]\tvalidation_0-logloss:0.17014\n",
      "[163]\tvalidation_0-logloss:0.17014\n",
      "[164]\tvalidation_0-logloss:0.16985\n",
      "[165]\tvalidation_0-logloss:0.16985\n",
      "[166]\tvalidation_0-logloss:0.17024\n",
      "[167]\tvalidation_0-logloss:0.17019\n",
      "[168]\tvalidation_0-logloss:0.16988\n",
      "[169]\tvalidation_0-logloss:0.17031\n",
      "[170]\tvalidation_0-logloss:0.17030\n",
      "[171]\tvalidation_0-logloss:0.17002\n",
      "[172]\tvalidation_0-logloss:0.16997\n",
      "[173]\tvalidation_0-logloss:0.17030\n",
      "[174]\tvalidation_0-logloss:0.17030\n",
      "[175]\tvalidation_0-logloss:0.17071\n",
      "[176]\tvalidation_0-logloss:0.17044\n",
      "[177]\tvalidation_0-logloss:0.17039\n",
      "[178]\tvalidation_0-logloss:0.17039\n",
      "[179]\tvalidation_0-logloss:0.17071\n",
      "[180]\tvalidation_0-logloss:0.17042\n",
      "[181]\tvalidation_0-logloss:0.17082\n",
      "[182]\tvalidation_0-logloss:0.17077\n",
      "[183]\tvalidation_0-logloss:0.17077\n",
      "[184]\tvalidation_0-logloss:0.17050\n",
      "[185]\tvalidation_0-logloss:0.17081\n",
      "[186]\tvalidation_0-logloss:0.17081\n",
      "[187]\tvalidation_0-logloss:0.17077\n",
      "[188]\tvalidation_0-logloss:0.17116\n",
      "[189]\tvalidation_0-logloss:0.17090\n",
      "[190]\tvalidation_0-logloss:0.17090\n",
      "[191]\tvalidation_0-logloss:0.17121\n",
      "[192]\tvalidation_0-logloss:0.17116\n",
      "[193]\tvalidation_0-logloss:0.17091\n",
      "[194]\tvalidation_0-logloss:0.17091\n",
      "[195]\tvalidation_0-logloss:0.17129\n",
      "[196]\tvalidation_0-logloss:0.17103\n",
      "[197]\tvalidation_0-logloss:0.17130\n",
      "[198]\tvalidation_0-logloss:0.17130\n",
      "[199]\tvalidation_0-logloss:0.17125\n",
      "[200]\tvalidation_0-logloss:0.17162\n",
      "[201]\tvalidation_0-logloss:0.17138\n",
      "[202]\tvalidation_0-logloss:0.17139\n",
      "[203]\tvalidation_0-logloss:0.17168\n",
      "[204]\tvalidation_0-logloss:0.17163\n",
      "[205]\tvalidation_0-logloss:0.17139\n",
      "[206]\tvalidation_0-logloss:0.17140\n",
      "[207]\tvalidation_0-logloss:0.17168\n",
      "[208]\tvalidation_0-logloss:0.17163\n",
      "[209]\tvalidation_0-logloss:0.17164\n",
      "[210]\tvalidation_0-logloss:0.17141\n",
      "[211]\tvalidation_0-logloss:0.17169\n",
      "[212]\tvalidation_0-logloss:0.17170\n",
      "[213]\tvalidation_0-logloss:0.17165\n",
      "[214]\tvalidation_0-logloss:0.17193\n",
      "[215]\tvalidation_0-logloss:0.17170\n",
      "[216]\tvalidation_0-logloss:0.17171\n",
      "[217]\tvalidation_0-logloss:0.17148\n",
      "[218]\tvalidation_0-logloss:0.17144\n",
      "[219]\tvalidation_0-logloss:0.17171\n",
      "[220]\tvalidation_0-logloss:0.17172\n",
      "[221]\tvalidation_0-logloss:0.17199\n",
      "[222]\tvalidation_0-logloss:0.17194\n",
      "[223]\tvalidation_0-logloss:0.17195\n",
      "[224]\tvalidation_0-logloss:0.17222\n",
      "[225]\tvalidation_0-logloss:0.17217\n",
      "[226]\tvalidation_0-logloss:0.17243\n",
      "[227]\tvalidation_0-logloss:0.17230\n",
      "[228]\tvalidation_0-logloss:0.17231\n",
      "[229]\tvalidation_0-logloss:0.17257\n",
      "[230]\tvalidation_0-logloss:0.17252\n",
      "[231]\tvalidation_0-logloss:0.17277\n",
      "[232]\tvalidation_0-logloss:0.17265\n",
      "[233]\tvalidation_0-logloss:0.17260\n",
      "[234]\tvalidation_0-logloss:0.17285\n",
      "[235]\tvalidation_0-logloss:0.17286\n",
      "[236]\tvalidation_0-logloss:0.17267\n"
     ]
    },
    {
     "name": "stdout",
     "output_type": "stream",
     "text": [
      "[237]\tvalidation_0-logloss:0.17263\n",
      "[238]\tvalidation_0-logloss:0.17287\n",
      "[239]\tvalidation_0-logloss:0.17288\n",
      "[240]\tvalidation_0-logloss:0.17269\n",
      "[241]\tvalidation_0-logloss:0.17270\n",
      "[242]\tvalidation_0-logloss:0.17298\n",
      "[243]\tvalidation_0-logloss:0.17294\n",
      "[244]\tvalidation_0-logloss:0.17282\n",
      "[245]\tvalidation_0-logloss:0.17310\n",
      "[246]\tvalidation_0-logloss:0.17307\n",
      "[247]\tvalidation_0-logloss:0.17303\n",
      "[248]\tvalidation_0-logloss:0.17330\n",
      "[249]\tvalidation_0-logloss:0.17319\n",
      "[250]\tvalidation_0-logloss:0.17346\n",
      "[251]\tvalidation_0-logloss:0.17342\n",
      "[252]\tvalidation_0-logloss:0.17339\n",
      "[253]\tvalidation_0-logloss:0.17366\n",
      "[254]\tvalidation_0-logloss:0.17363\n",
      "[255]\tvalidation_0-logloss:0.17389\n",
      "[256]\tvalidation_0-logloss:0.17386\n",
      "[257]\tvalidation_0-logloss:0.17375\n",
      "[258]\tvalidation_0-logloss:0.17402\n",
      "[259]\tvalidation_0-logloss:0.17398\n",
      "[260]\tvalidation_0-logloss:0.17399\n",
      "[261]\tvalidation_0-logloss:0.17425\n",
      "[262]\tvalidation_0-logloss:0.17410\n",
      "[263]\tvalidation_0-logloss:0.17407\n",
      "[264]\tvalidation_0-logloss:0.17404\n",
      "[265]\tvalidation_0-logloss:0.17430\n",
      "[266]\tvalidation_0-logloss:0.17419\n",
      "[267]\tvalidation_0-logloss:0.17444\n",
      "[268]\tvalidation_0-logloss:0.17445\n",
      "[269]\tvalidation_0-logloss:0.17430\n",
      "[270]\tvalidation_0-logloss:0.17427\n",
      "[271]\tvalidation_0-logloss:0.17424\n",
      "[272]\tvalidation_0-logloss:0.17410\n",
      "[273]\tvalidation_0-logloss:0.17411\n",
      "[274]\tvalidation_0-logloss:0.17396\n",
      "[275]\tvalidation_0-logloss:0.17416\n",
      "[276]\tvalidation_0-logloss:0.17441\n",
      "[277]\tvalidation_0-logloss:0.17439\n",
      "[278]\tvalidation_0-logloss:0.17436\n",
      "[279]\tvalidation_0-logloss:0.17422\n",
      "[280]\tvalidation_0-logloss:0.17423\n",
      "[281]\tvalidation_0-logloss:0.17409\n",
      "[282]\tvalidation_0-logloss:0.17428\n",
      "[283]\tvalidation_0-logloss:0.17426\n",
      "[284]\tvalidation_0-logloss:0.17413\n",
      "[285]\tvalidation_0-logloss:0.17431\n",
      "[286]\tvalidation_0-logloss:0.17433\n",
      "[287]\tvalidation_0-logloss:0.17419\n",
      "[288]\tvalidation_0-logloss:0.17418\n",
      "[289]\tvalidation_0-logloss:0.17404\n",
      "[290]\tvalidation_0-logloss:0.17423\n",
      "[291]\tvalidation_0-logloss:0.17421\n",
      "[292]\tvalidation_0-logloss:0.17408\n",
      "[293]\tvalidation_0-logloss:0.17427\n",
      "[294]\tvalidation_0-logloss:0.17414\n",
      "[295]\tvalidation_0-logloss:0.17415\n",
      "[296]\tvalidation_0-logloss:0.17414\n",
      "[297]\tvalidation_0-logloss:0.17401\n",
      "[298]\tvalidation_0-logloss:0.17419\n",
      "[299]\tvalidation_0-logloss:0.17421\n",
      "[300]\tvalidation_0-logloss:0.17408\n",
      "[301]\tvalidation_0-logloss:0.17432\n",
      "[302]\tvalidation_0-logloss:0.17450\n",
      "[303]\tvalidation_0-logloss:0.17450\n",
      "[304]\tvalidation_0-logloss:0.17437\n",
      "[305]\tvalidation_0-logloss:0.17455\n",
      "[306]\tvalidation_0-logloss:0.17454\n",
      "[307]\tvalidation_0-logloss:0.17442\n",
      "[308]\tvalidation_0-logloss:0.17459\n",
      "[309]\tvalidation_0-logloss:0.17459\n",
      "[310]\tvalidation_0-logloss:0.17447\n",
      "[311]\tvalidation_0-logloss:0.17464\n",
      "[312]\tvalidation_0-logloss:0.17464\n",
      "[313]\tvalidation_0-logloss:0.17481\n",
      "[314]\tvalidation_0-logloss:0.17481\n",
      "[315]\tvalidation_0-logloss:0.17497\n",
      "[316]\tvalidation_0-logloss:0.17497\n",
      "[317]\tvalidation_0-logloss:0.17514\n",
      "[318]\tvalidation_0-logloss:0.17503\n",
      "[319]\tvalidation_0-logloss:0.17503\n",
      "[320]\tvalidation_0-logloss:0.17519\n",
      "[321]\tvalidation_0-logloss:0.17508\n",
      "[322]\tvalidation_0-logloss:0.17525\n",
      "[323]\tvalidation_0-logloss:0.17514\n",
      "[324]\tvalidation_0-logloss:0.17530\n",
      "[325]\tvalidation_0-logloss:0.17520\n",
      "[326]\tvalidation_0-logloss:0.17520\n",
      "[327]\tvalidation_0-logloss:0.17536\n",
      "[328]\tvalidation_0-logloss:0.17525\n",
      "[329]\tvalidation_0-logloss:0.17525\n",
      "[330]\tvalidation_0-logloss:0.17516\n",
      "[331]\tvalidation_0-logloss:0.17531\n",
      "[332]\tvalidation_0-logloss:0.17522\n",
      "[333]\tvalidation_0-logloss:0.17536\n",
      "[334]\tvalidation_0-logloss:0.17526\n",
      "[335]\tvalidation_0-logloss:0.17517\n",
      "[336]\tvalidation_0-logloss:0.17517\n",
      "[337]\tvalidation_0-logloss:0.17516\n",
      "[338]\tvalidation_0-logloss:0.17516\n",
      "[339]\tvalidation_0-logloss:0.17516\n",
      "[340]\tvalidation_0-logloss:0.17516\n",
      "[341]\tvalidation_0-logloss:0.17515\n",
      "[342]\tvalidation_0-logloss:0.17515\n",
      "[343]\tvalidation_0-logloss:0.17515\n",
      "[344]\tvalidation_0-logloss:0.17514\n",
      "[345]\tvalidation_0-logloss:0.17514\n",
      "[346]\tvalidation_0-logloss:0.17514\n",
      "[347]\tvalidation_0-logloss:0.17514\n",
      "[348]\tvalidation_0-logloss:0.17514\n",
      "[349]\tvalidation_0-logloss:0.17513\n",
      "[350]\tvalidation_0-logloss:0.17513\n",
      "[351]\tvalidation_0-logloss:0.17513\n",
      "[352]\tvalidation_0-logloss:0.17513\n",
      "[353]\tvalidation_0-logloss:0.17513\n",
      "[354]\tvalidation_0-logloss:0.17513\n",
      "[355]\tvalidation_0-logloss:0.17512\n",
      "[356]\tvalidation_0-logloss:0.17512\n",
      "[357]\tvalidation_0-logloss:0.17512\n",
      "[358]\tvalidation_0-logloss:0.17512\n",
      "[359]\tvalidation_0-logloss:0.17512\n",
      "[360]\tvalidation_0-logloss:0.17512\n",
      "[361]\tvalidation_0-logloss:0.17511\n",
      "[362]\tvalidation_0-logloss:0.17511\n",
      "[363]\tvalidation_0-logloss:0.17511\n",
      "[364]\tvalidation_0-logloss:0.17511\n",
      "[365]\tvalidation_0-logloss:0.17511\n",
      "[366]\tvalidation_0-logloss:0.17511\n",
      "[367]\tvalidation_0-logloss:0.17511\n",
      "[368]\tvalidation_0-logloss:0.17511\n",
      "[369]\tvalidation_0-logloss:0.17511\n",
      "[370]\tvalidation_0-logloss:0.17510\n",
      "[371]\tvalidation_0-logloss:0.17510\n",
      "[372]\tvalidation_0-logloss:0.17510\n",
      "[373]\tvalidation_0-logloss:0.17510\n",
      "[374]\tvalidation_0-logloss:0.17510\n",
      "[375]\tvalidation_0-logloss:0.17510\n",
      "[376]\tvalidation_0-logloss:0.17510\n",
      "[377]\tvalidation_0-logloss:0.17510\n",
      "[378]\tvalidation_0-logloss:0.17510\n",
      "[379]\tvalidation_0-logloss:0.17510\n",
      "[380]\tvalidation_0-logloss:0.17510\n",
      "[381]\tvalidation_0-logloss:0.17510\n",
      "[382]\tvalidation_0-logloss:0.17509\n",
      "[383]\tvalidation_0-logloss:0.17509\n",
      "[384]\tvalidation_0-logloss:0.17509\n",
      "[385]\tvalidation_0-logloss:0.17509\n",
      "[386]\tvalidation_0-logloss:0.17509\n",
      "[387]\tvalidation_0-logloss:0.17509\n",
      "[388]\tvalidation_0-logloss:0.17509\n",
      "[389]\tvalidation_0-logloss:0.17509\n",
      "[390]\tvalidation_0-logloss:0.17509\n",
      "[391]\tvalidation_0-logloss:0.17509\n",
      "[392]\tvalidation_0-logloss:0.17509\n",
      "[393]\tvalidation_0-logloss:0.17509\n",
      "[394]\tvalidation_0-logloss:0.17509\n",
      "[395]\tvalidation_0-logloss:0.17509\n",
      "[396]\tvalidation_0-logloss:0.17509\n",
      "[397]\tvalidation_0-logloss:0.17509\n",
      "[398]\tvalidation_0-logloss:0.17509\n",
      "[399]\tvalidation_0-logloss:0.17509\n",
      "[400]\tvalidation_0-logloss:0.17509\n",
      "[401]\tvalidation_0-logloss:0.17509\n",
      "[402]\tvalidation_0-logloss:0.17508\n",
      "[403]\tvalidation_0-logloss:0.17508\n",
      "[404]\tvalidation_0-logloss:0.17508\n",
      "[405]\tvalidation_0-logloss:0.17508\n",
      "[406]\tvalidation_0-logloss:0.17508\n",
      "[407]\tvalidation_0-logloss:0.17508\n",
      "[408]\tvalidation_0-logloss:0.17508\n",
      "[409]\tvalidation_0-logloss:0.17508\n",
      "[410]\tvalidation_0-logloss:0.17508\n",
      "[411]\tvalidation_0-logloss:0.17508\n",
      "[412]\tvalidation_0-logloss:0.17508\n",
      "[413]\tvalidation_0-logloss:0.17508\n",
      "[414]\tvalidation_0-logloss:0.17508\n",
      "[415]\tvalidation_0-logloss:0.17508\n",
      "[416]\tvalidation_0-logloss:0.17508\n",
      "[417]\tvalidation_0-logloss:0.17508\n",
      "[418]\tvalidation_0-logloss:0.17508\n",
      "[419]\tvalidation_0-logloss:0.17508\n",
      "[420]\tvalidation_0-logloss:0.17508\n",
      "[421]\tvalidation_0-logloss:0.17508\n",
      "[422]\tvalidation_0-logloss:0.17508\n",
      "[423]\tvalidation_0-logloss:0.17508\n",
      "[424]\tvalidation_0-logloss:0.17508\n",
      "[425]\tvalidation_0-logloss:0.17508\n",
      "[426]\tvalidation_0-logloss:0.17508\n",
      "[427]\tvalidation_0-logloss:0.17508\n",
      "[428]\tvalidation_0-logloss:0.17508\n",
      "[429]\tvalidation_0-logloss:0.17508\n",
      "[430]\tvalidation_0-logloss:0.17508\n",
      "[431]\tvalidation_0-logloss:0.17508\n",
      "[432]\tvalidation_0-logloss:0.17508\n",
      "[433]\tvalidation_0-logloss:0.17508\n",
      "[434]\tvalidation_0-logloss:0.17508\n",
      "[435]\tvalidation_0-logloss:0.17508\n",
      "[436]\tvalidation_0-logloss:0.17508\n",
      "[437]\tvalidation_0-logloss:0.17508\n",
      "[438]\tvalidation_0-logloss:0.17508\n",
      "[439]\tvalidation_0-logloss:0.17508\n",
      "[440]\tvalidation_0-logloss:0.17508\n",
      "[441]\tvalidation_0-logloss:0.17508\n",
      "[442]\tvalidation_0-logloss:0.17508\n",
      "[443]\tvalidation_0-logloss:0.17508\n",
      "[444]\tvalidation_0-logloss:0.17508\n",
      "[445]\tvalidation_0-logloss:0.17508\n",
      "[446]\tvalidation_0-logloss:0.17508\n",
      "[447]\tvalidation_0-logloss:0.17508\n",
      "[448]\tvalidation_0-logloss:0.17508\n",
      "[449]\tvalidation_0-logloss:0.17508\n",
      "[450]\tvalidation_0-logloss:0.17508\n",
      "[451]\tvalidation_0-logloss:0.17508\n",
      "[452]\tvalidation_0-logloss:0.17508\n",
      "[453]\tvalidation_0-logloss:0.17508\n",
      "[454]\tvalidation_0-logloss:0.17508\n",
      "[455]\tvalidation_0-logloss:0.17508\n",
      "[456]\tvalidation_0-logloss:0.17508\n",
      "[457]\tvalidation_0-logloss:0.17508\n",
      "[458]\tvalidation_0-logloss:0.17508\n",
      "[459]\tvalidation_0-logloss:0.17508\n",
      "[460]\tvalidation_0-logloss:0.17508\n",
      "[461]\tvalidation_0-logloss:0.17508\n",
      "[462]\tvalidation_0-logloss:0.17508\n",
      "[463]\tvalidation_0-logloss:0.17508\n",
      "[464]\tvalidation_0-logloss:0.17508\n",
      "[465]\tvalidation_0-logloss:0.17508\n",
      "[466]\tvalidation_0-logloss:0.17508\n",
      "[467]\tvalidation_0-logloss:0.17508\n",
      "[468]\tvalidation_0-logloss:0.17508\n",
      "[469]\tvalidation_0-logloss:0.17508\n",
      "[470]\tvalidation_0-logloss:0.17508\n",
      "[471]\tvalidation_0-logloss:0.17508\n"
     ]
    },
    {
     "name": "stdout",
     "output_type": "stream",
     "text": [
      "[472]\tvalidation_0-logloss:0.17508\n",
      "[473]\tvalidation_0-logloss:0.17508\n",
      "[474]\tvalidation_0-logloss:0.17508\n",
      "[475]\tvalidation_0-logloss:0.17508\n",
      "[476]\tvalidation_0-logloss:0.17508\n",
      "[477]\tvalidation_0-logloss:0.17508\n",
      "[478]\tvalidation_0-logloss:0.17508\n",
      "[479]\tvalidation_0-logloss:0.17508\n",
      "[480]\tvalidation_0-logloss:0.17508\n",
      "[481]\tvalidation_0-logloss:0.17508\n",
      "[482]\tvalidation_0-logloss:0.17508\n",
      "[483]\tvalidation_0-logloss:0.17508\n",
      "[484]\tvalidation_0-logloss:0.17508\n",
      "[485]\tvalidation_0-logloss:0.17508\n",
      "[486]\tvalidation_0-logloss:0.17508\n",
      "[487]\tvalidation_0-logloss:0.17508\n",
      "[488]\tvalidation_0-logloss:0.17508\n",
      "[489]\tvalidation_0-logloss:0.17508\n",
      "[490]\tvalidation_0-logloss:0.17508\n",
      "[491]\tvalidation_0-logloss:0.17508\n",
      "[492]\tvalidation_0-logloss:0.17508\n",
      "[493]\tvalidation_0-logloss:0.17508\n",
      "[494]\tvalidation_0-logloss:0.17508\n",
      "[495]\tvalidation_0-logloss:0.17508\n",
      "[496]\tvalidation_0-logloss:0.17508\n",
      "[497]\tvalidation_0-logloss:0.17508\n",
      "[498]\tvalidation_0-logloss:0.17508\n",
      "[499]\tvalidation_0-logloss:0.17508\n"
     ]
    },
    {
     "data": {
      "text/plain": [
       "0.9649122807017544"
      ]
     },
     "execution_count": 68,
     "metadata": {},
     "output_type": "execute_result"
    }
   ],
   "source": [
    "# xgboost\n",
    "from xgboost import XGBClassifier\n",
    "model = XGBClassifier(\n",
    "    random_state = 0,\n",
    "    use_label_encoder = False,\n",
    "    eval_metric = 'logloss',\n",
    "    learning_rate = 0.05,\n",
    "    n_estimators = 500\n",
    ")\n",
    "eval_set = [(X_test, y_test)]\n",
    "#model.fit(X_train, y_train, eval_set = eval_set, early_stopping_rounds = 10)\n",
    "model.fit(X_train, y_train, eval_set = eval_set)\n",
    "pred = model.predict(X_test)\n",
    "accuracy_score(pred, y_test)\n"
   ]
  },
  {
   "cell_type": "code",
   "execution_count": 71,
   "id": "74eebf7f",
   "metadata": {},
   "outputs": [],
   "source": [
    "# 데이터셋 로드\n",
    "def make_dataset2():\n",
    "    bc = load_breast_cancer()\n",
    "    df = pd.DataFrame(bc.data, columns=bc.feature_names)\n",
    "    df['target'] = bc.target\n",
    "    return df.drop('target', axis=1), df['target']\n",
    "X, y = make_dataset2()"
   ]
  },
  {
   "cell_type": "code",
   "execution_count": 72,
   "id": "bdc5bf9b",
   "metadata": {},
   "outputs": [
    {
     "name": "stdout",
     "output_type": "stream",
     "text": [
      "0.8771929824561403\n",
      "0.9122807017543859\n",
      "0.9473684210526315\n",
      "0.9385964912280702\n",
      "0.8407079646017699\n"
     ]
    }
   ],
   "source": [
    "#KFold\n",
    "from sklearn.model_selection import KFold\n",
    "from sklearn.tree import DecisionTreeClassifier\n",
    "model = DecisionTreeClassifier(random_state = 0)\n",
    "\n",
    "kfold = KFold(n_splits = 5)\n",
    "for train_idx, test_idx in kfold.split(X):\n",
    "    X_train, X_test = X.iloc[train_idx], X.iloc[test_idx]\n",
    "    y_train, y_test = y.iloc[train_idx], y.iloc[test_idx]\n",
    "    \n",
    "    model.fit(X_train, y_train)\n",
    "    pred = model.predict(X_test)\n",
    "    print(accuracy_score(y_test, pred))\n"
   ]
  },
  {
   "cell_type": "code",
   "execution_count": 73,
   "id": "8654a5ee",
   "metadata": {},
   "outputs": [
    {
     "name": "stdout",
     "output_type": "stream",
     "text": [
      "0.9035087719298246\n",
      "0.9210526315789473\n",
      "0.9122807017543859\n",
      "0.9473684210526315\n",
      "0.9026548672566371\n"
     ]
    }
   ],
   "source": [
    "#Stratified KFold\n",
    "from sklearn.model_selection import StratifiedKFold\n",
    "from sklearn.tree import DecisionTreeClassifier\n",
    "model = DecisionTreeClassifier(random_state = 0)\n",
    "\n",
    "kfold = StratifiedKFold(n_splits = 5)\n",
    "for train_idx, test_idx in kfold.split(X, y):\n",
    "    X_train, X_test = X.iloc[train_idx], X.iloc[test_idx]\n",
    "    y_train, y_test = y.iloc[train_idx], y.iloc[test_idx]\n",
    "    \n",
    "    model.fit(X_train, y_train)\n",
    "    pred = model.predict(X_test)\n",
    "    print(accuracy_score(y_test, pred))\n"
   ]
  },
  {
   "cell_type": "code",
   "execution_count": 76,
   "id": "afbb83f8",
   "metadata": {},
   "outputs": [],
   "source": [
    "#교차검증\n",
    "from sklearn.model_selection import cross_val_score\n",
    "scores = cross_val_score(model, X, y, cv = 5)"
   ]
  },
  {
   "cell_type": "code",
   "execution_count": 77,
   "id": "675def37",
   "metadata": {},
   "outputs": [
    {
     "data": {
      "text/plain": [
       "0.9173730787144851"
      ]
     },
     "execution_count": 77,
     "metadata": {},
     "output_type": "execute_result"
    }
   ],
   "source": [
    "scores.mean()"
   ]
  },
  {
   "cell_type": "code",
   "execution_count": 81,
   "id": "895081b0",
   "metadata": {},
   "outputs": [
    {
     "name": "stdout",
     "output_type": "stream",
     "text": [
      "[0.90350877 0.92105263 0.9122807  0.94736842 0.90265487]\n",
      "0.9173730787144851\n"
     ]
    }
   ],
   "source": [
    "#교차검증\n",
    "from sklearn.model_selection import cross_val_score\n",
    "kfold = StratifiedKFold(n_splits = 5)\n",
    "scores = cross_val_score(model, X, y, cv = kfold)\n",
    "print(scores)\n",
    "print(scores.mean())"
   ]
  },
  {
   "cell_type": "code",
   "execution_count": 85,
   "id": "712ea9e7",
   "metadata": {},
   "outputs": [
    {
     "name": "stdout",
     "output_type": "stream",
     "text": [
      "[0.9673913  0.94505495 0.91208791 0.95604396 0.89010989]\n",
      "0.9341376015289058\n"
     ]
    }
   ],
   "source": [
    "#교차검증\n",
    "from sklearn.model_selection import cross_val_score\n",
    "kfold = StratifiedKFold(n_splits = 5)\n",
    "scores = cross_val_score(model, X_train, y_train, cv = kfold)\n",
    "print(scores)\n",
    "print(scores.mean())"
   ]
  },
  {
   "cell_type": "code",
   "execution_count": 87,
   "id": "2de81aa8",
   "metadata": {},
   "outputs": [
    {
     "data": {
      "text/plain": [
       "0.9026548672566371"
      ]
     },
     "execution_count": 87,
     "metadata": {},
     "output_type": "execute_result"
    }
   ],
   "source": [
    "pred = model.predict(X_test)\n",
    "accuracy_score(y_test, pred)"
   ]
  },
  {
   "cell_type": "code",
   "execution_count": 88,
   "id": "0a2c346b",
   "metadata": {},
   "outputs": [
    {
     "data": {
      "text/plain": [
       "0.9026548672566371"
      ]
     },
     "execution_count": 88,
     "metadata": {},
     "output_type": "execute_result"
    }
   ],
   "source": [
    "#정확도\n",
    "from sklearn.metrics import accuracy_score\n",
    "accuracy_score(y_test, pred)"
   ]
  },
  {
   "cell_type": "code",
   "execution_count": 89,
   "id": "ce59c6bc",
   "metadata": {},
   "outputs": [
    {
     "data": {
      "text/plain": [
       "0.9545454545454546"
      ]
     },
     "execution_count": 89,
     "metadata": {},
     "output_type": "execute_result"
    }
   ],
   "source": [
    "#정밀도\n",
    "from sklearn.metrics import precision_score\n",
    "precision_score(y_test, pred)"
   ]
  },
  {
   "cell_type": "code",
   "execution_count": 90,
   "id": "b1a5453a",
   "metadata": {},
   "outputs": [
    {
     "data": {
      "text/plain": [
       "0.8873239436619719"
      ]
     },
     "execution_count": 90,
     "metadata": {},
     "output_type": "execute_result"
    }
   ],
   "source": [
    "#재현율\n",
    "from sklearn.metrics import recall_score\n",
    "recall_score(y_test, pred)"
   ]
  },
  {
   "cell_type": "code",
   "execution_count": 91,
   "id": "26612477",
   "metadata": {},
   "outputs": [
    {
     "data": {
      "text/plain": [
       "0.9197080291970803"
      ]
     },
     "execution_count": 91,
     "metadata": {},
     "output_type": "execute_result"
    }
   ],
   "source": [
    "#f1\n",
    "from sklearn.metrics import f1_score\n",
    "f1_score(y_test, pred)"
   ]
  },
  {
   "cell_type": "code",
   "execution_count": 97,
   "id": "fec57011",
   "metadata": {},
   "outputs": [
    {
     "data": {
      "text/plain": [
       "0.999664654594232"
      ]
     },
     "execution_count": 97,
     "metadata": {},
     "output_type": "execute_result"
    }
   ],
   "source": [
    "from xgboost import XGBClassifier\n",
    "model = XGBClassifier(\n",
    "    random_state = 0,\n",
    "    use_label_encoder = False,\n",
    "    eval_metric = 'logloss')\n",
    "model.fit(X_train, y_train)\n",
    "pred = model.predict_proba(X_test)\n",
    "pred\n",
    "#accuracy_score(pred, y_test)\n",
    "\n",
    "from sklearn.metrics import roc_auc_score\n",
    "roc_auc_score(y_test, pred[:,1])"
   ]
  },
  {
   "cell_type": "code",
   "execution_count": null,
   "id": "67f1772a",
   "metadata": {},
   "outputs": [],
   "source": []
  },
  {
   "cell_type": "code",
   "execution_count": null,
   "id": "e6dc773d",
   "metadata": {},
   "outputs": [],
   "source": []
  }
 ],
 "metadata": {
  "kernelspec": {
   "display_name": "Python 3 (ipykernel)",
   "language": "python",
   "name": "python3"
  },
  "language_info": {
   "codemirror_mode": {
    "name": "ipython",
    "version": 3
   },
   "file_extension": ".py",
   "mimetype": "text/x-python",
   "name": "python",
   "nbconvert_exporter": "python",
   "pygments_lexer": "ipython3",
   "version": "3.9.7"
  }
 },
 "nbformat": 4,
 "nbformat_minor": 5
}
